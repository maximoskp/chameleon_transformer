{
 "cells": [
  {
   "cell_type": "code",
   "execution_count": 1,
   "id": "0ac19562-39bd-49aa-a0a0-2ec9ac034e35",
   "metadata": {},
   "outputs": [],
   "source": [
    "import numpy as np\n",
    "from tqdm import tqdm\n",
    "import sys\n",
    "sys.path.insert(0, '..')\n",
    "from data_utils.Datasets import BinarySerializer"
   ]
  },
  {
   "cell_type": "code",
   "execution_count": 2,
   "id": "e26fe882-d6aa-4a0c-b8e9-948ccddeb85e",
   "metadata": {},
   "outputs": [
    {
     "name": "stdout",
     "output_type": "stream",
     "text": [
      "melody_pcps.shape:  (680, 580, 12)\n",
      "chord_pcps.shape:  (680, 580, 12)\n"
     ]
    }
   ],
   "source": [
    "# load data\n",
    "# data_path = '../data/augmented_and_padded_data.npz'\n",
    "data_path = '../data/nottingham_c_major.npz'\n",
    "data = np.load(data_path)\n",
    "melody_pcps = data['melody_pcps']\n",
    "chord_pcps = data['chord_pcps']\n",
    "print('melody_pcps.shape: ', melody_pcps.shape)\n",
    "print('chord_pcps.shape: ', chord_pcps.shape)"
   ]
  },
  {
   "cell_type": "code",
   "execution_count": 3,
   "id": "5b574fc1-bb08-4159-807c-51e7c37f26c5",
   "metadata": {},
   "outputs": [
    {
     "data": {
      "text/plain": [
       "array([6])"
      ]
     },
     "execution_count": 3,
     "metadata": {},
     "output_type": "execute_result"
    }
   ],
   "source": [
    "np.nonzero(melody_pcps[0,0,:])[0] + 6"
   ]
  },
  {
   "cell_type": "code",
   "execution_count": 4,
   "id": "0aea09de-bb23-4d48-a158-06ce4f39fd8c",
   "metadata": {},
   "outputs": [
    {
     "name": "stdout",
     "output_type": "stream",
     "text": [
      "[ 1  2  3  2  3  5  7 10  2  7 10  2  5  7  2  3  5  7  2  3  5  2  3  2\n",
      "  3  5  7 10  2  7 10  2  5  7  2  3  5  7  2  3  5  2  3  2  3  5  7 10\n",
      "  2  7 10  2  5  7  2  3  5  7  2  3  5  2  3  2  3  5  7 10  2  7 10  2\n",
      "  5  7  2  3  5  7  2  3  5  2  3  2  3 12  2  3  5 10  2  7 10 12  2  2\n",
      "  3  5  2  5  7  2  5  2  3 12  2  3  5 10  2  7 10  2  5  7  2  3  5  7\n",
      "  2  3  5  2 15 16 17 21 24 16 17 21 24 16 17 21 22 24 28 16 19 24 16 17\n",
      " 21 22 24 28 16 19 24 16 17 21 24 16 17 21 24 16 17 21 22 24 28 16 19 24\n",
      " 16 17 21 22 24 28 16 19 24 16 17 21 24 16 17 21 24 16 17 21 22 24 28 16\n",
      " 19 24 16 17 21 22 24 28 16 19 24 16 17 21 24 16 17 21 24 16 17 21 22 24\n",
      " 28 16 19 24 16 17 21 22 24 28 16 19 24 16 17 21 24 16 17 21 22 26 16 17\n",
      " 24 16 17 21 22 24 28 16 19 24 16 17 21 23 26 16 17 19 22 24 28 16 19 24\n",
      " 16 17 21 22 26 16 17 24 16 17 21 22 24 28 16 19 24 16 17 21 22 24 28 16\n",
      " 19 24 16 29] [-100 -100 -100 -100 -100 -100 -100 -100 -100 -100 -100 -100 -100 -100\n",
      " -100 -100 -100 -100 -100 -100 -100 -100 -100 -100 -100 -100 -100 -100\n",
      " -100 -100 -100 -100 -100 -100 -100 -100 -100 -100 -100 -100 -100 -100\n",
      " -100 -100 -100 -100 -100 -100 -100 -100 -100 -100 -100 -100 -100 -100\n",
      " -100 -100 -100 -100 -100 -100 -100 -100 -100 -100 -100 -100 -100 -100\n",
      " -100 -100 -100 -100 -100 -100 -100 -100 -100 -100 -100 -100 -100 -100\n",
      " -100 -100 -100 -100 -100 -100 -100 -100 -100 -100 -100 -100 -100 -100\n",
      " -100 -100 -100 -100 -100 -100 -100 -100 -100 -100 -100 -100 -100 -100\n",
      " -100 -100 -100 -100 -100 -100 -100 -100 -100 -100 -100   15   16   17\n",
      "   21   24   16   17   21   24   16   17   21   22   24   28   16   19\n",
      "   24   16   17   21   22   24   28   16   19   24   16   17   21   24\n",
      "   16   17   21   24   16   17   21   22   24   28   16   19   24   16\n",
      "   17   21   22   24   28   16   19   24   16   17   21   24   16   17\n",
      "   21   24   16   17   21   22   24   28   16   19   24   16   17   21\n",
      "   22   24   28   16   19   24   16   17   21   24   16   17   21   24\n",
      "   16   17   21   22   24   28   16   19   24   16   17   21   22   24\n",
      "   28   16   19   24   16   17   21   24   16   17   21   22   26   16\n",
      "   17   24   16   17   21   22   24   28   16   19   24   16   17   21\n",
      "   23   26   16   17   19   22   24   28   16   19   24   16   17   21\n",
      "   22   26   16   17   24   16   17   21   22   24   28   16   19   24\n",
      "   16   17   21   22   24   28   16   19   24   16   29]\n"
     ]
    }
   ],
   "source": [
    "binser = BinarySerializer(left_padding=False)\n",
    "s, t = binser.sequence_serialization( melody_pcps[0,:,:], chord_pcps[0,:,:] )\n",
    "print(s, t)"
   ]
  },
  {
   "cell_type": "code",
   "execution_count": 5,
   "id": "d3c5ce87-202b-468f-a9e2-756900e85d79",
   "metadata": {},
   "outputs": [
    {
     "name": "stderr",
     "output_type": "stream",
     "text": [
      "100%|██████████| 680/680 [00:00<00:00, 838.10it/s]\n"
     ]
    }
   ],
   "source": [
    "binser = BinarySerializer(left_padding=False)\n",
    "serialized_data = []\n",
    "for i in tqdm(range(melody_pcps.shape[0])):\n",
    "    s, t = binser.sequence_serialization( melody_pcps[i,:,:], chord_pcps[i,:,:] )\n",
    "    serialized_data.append( s )"
   ]
  },
  {
   "cell_type": "code",
   "execution_count": 6,
   "id": "bdf4dd94-3554-4c0d-a4c1-6c8c32712230",
   "metadata": {},
   "outputs": [
    {
     "name": "stdout",
     "output_type": "stream",
     "text": [
      "3795\n",
      "680\n"
     ]
    }
   ],
   "source": [
    "print(binser.max_seq_length)\n",
    "print(len(serialized_data))"
   ]
  },
  {
   "cell_type": "code",
   "execution_count": 7,
   "id": "2d996cbd-710f-4266-aeb8-83af3b0b0be9",
   "metadata": {},
   "outputs": [
    {
     "name": "stdout",
     "output_type": "stream",
     "text": [
      "29\n"
     ]
    }
   ],
   "source": [
    "m = 0\n",
    "# print(serialized_data[0])\n",
    "for s in serialized_data:\n",
    "    if np.max(s) > m:\n",
    "        m = np.max(s)\n",
    "print(m)"
   ]
  },
  {
   "cell_type": "code",
   "execution_count": 8,
   "id": "327f68fc-0b83-4ed6-8fd0-418b51225ab9",
   "metadata": {},
   "outputs": [],
   "source": [
    "import pickle\n",
    "\n",
    "with open('serializer_cmaj_nottingham.pkl', 'wb') as outp:\n",
    "    pickle.dump(binser, outp, pickle.HIGHEST_PROTOCOL)"
   ]
  }
 ],
 "metadata": {
  "kernelspec": {
   "display_name": "Python 3 (ipykernel)",
   "language": "python",
   "name": "python3"
  },
  "language_info": {
   "codemirror_mode": {
    "name": "ipython",
    "version": 3
   },
   "file_extension": ".py",
   "mimetype": "text/x-python",
   "name": "python",
   "nbconvert_exporter": "python",
   "pygments_lexer": "ipython3",
   "version": "3.11.6"
  }
 },
 "nbformat": 4,
 "nbformat_minor": 5
}
