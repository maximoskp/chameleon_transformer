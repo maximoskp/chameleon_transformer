{
 "cells": [
  {
   "cell_type": "code",
   "execution_count": 12,
   "id": "91cbed51-21cb-4432-97a3-d0c3b4491860",
   "metadata": {},
   "outputs": [],
   "source": [
    "import sys\n",
    "sys.path.insert(0, '..')\n",
    "import numpy as np\n",
    "from BinaryTokenizer import BinaryTokenizer\n",
    "from torch.utils.data import Dataset, DataLoader"
   ]
  },
  {
   "cell_type": "code",
   "execution_count": 8,
   "id": "7b66011b-f734-4f5f-9275-c1d41b1008ed",
   "metadata": {},
   "outputs": [],
   "source": [
    "npz_path = '../data/augmented_and_padded_data.npz'"
   ]
  },
  {
   "cell_type": "code",
   "execution_count": 17,
   "id": "2182f1a2-7e18-4494-94a3-491969702522",
   "metadata": {},
   "outputs": [],
   "source": [
    "class BinChromaDataset(Dataset):\n",
    "    def __init__(self, npz_path):\n",
    "        data = np.load(npz_path)\n",
    "        melody_pcps = data['melody_pcps']\n",
    "        chord_pcps = data['chord_pcps']\n",
    "        binTok = BinaryTokenizer()\n",
    "        self.tok_melody = binTok.fit_transform( melody_pcps )\n",
    "        self.tok_chord = binTok.fit_transform( chord_pcps )\n",
    "    # end __init__\n",
    "    \n",
    "    def __len__(self):\n",
    "        return self.tok_melody.shape[0]\n",
    "    # end __len__\n",
    "    \n",
    "    def __getitem__(self, idx):\n",
    "        return self.tok_melody[idx,:], self.tok_chord[idx,:]\n",
    "    # end __getitem__\n",
    "# end BinChromaDataset"
   ]
  },
  {
   "cell_type": "code",
   "execution_count": 18,
   "id": "4cac6c32-882c-4ebf-9960-9e9c9c6efe53",
   "metadata": {},
   "outputs": [],
   "source": [
    "dataset = BinChromaDataset(npz_path)"
   ]
  },
  {
   "cell_type": "code",
   "execution_count": 19,
   "id": "5f86405e-2cd9-4613-889d-384edd9546d5",
   "metadata": {},
   "outputs": [],
   "source": [
    "data_loader = DataLoader(dataset, batch_size=64, shuffle=True)"
   ]
  },
  {
   "cell_type": "code",
   "execution_count": 20,
   "id": "8ca968b6-c4b7-41c5-9fc0-e6d1e9f37fc8",
   "metadata": {},
   "outputs": [
    {
     "name": "stdout",
     "output_type": "stream",
     "text": [
      "torch.Size([64, 129])\n",
      "torch.Size([64, 129])\n"
     ]
    }
   ],
   "source": [
    "melodies, chords = next(iter(data_loader))\n",
    "print(melodies.shape)\n",
    "print(chords.shape)"
   ]
  }
 ],
 "metadata": {
  "kernelspec": {
   "display_name": "Python 3 (ipykernel)",
   "language": "python",
   "name": "python3"
  },
  "language_info": {
   "codemirror_mode": {
    "name": "ipython",
    "version": 3
   },
   "file_extension": ".py",
   "mimetype": "text/x-python",
   "name": "python",
   "nbconvert_exporter": "python",
   "pygments_lexer": "ipython3",
   "version": "3.11.6"
  }
 },
 "nbformat": 4,
 "nbformat_minor": 5
}
