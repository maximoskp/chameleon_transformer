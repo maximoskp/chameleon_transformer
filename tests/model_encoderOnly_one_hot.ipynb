{
 "cells": [
  {
   "cell_type": "code",
   "execution_count": 1,
   "id": "f3a19577-2e7a-4aec-9364-8247c7059d80",
   "metadata": {},
   "outputs": [],
   "source": [
    "from Datasets import BinChromaDataset\n",
    "import numpy as np\n",
    "from torch.utils.data import DataLoader, Subset\n",
    "import sys\n",
    "sys.path.insert(0, '..')\n",
    "from transformer.models import EncoderOnlyWrapper, EncoderModel\n",
    "from torch.nn import CrossEntropyLoss\n",
    "from torch.optim import Adam\n",
    "import torch\n",
    "from tqdm import tqdm\n",
    "import os"
   ]
  },
  {
   "cell_type": "code",
   "execution_count": 2,
   "id": "8f6fea6c-86ba-464d-b216-5691b912fd90",
   "metadata": {},
   "outputs": [],
   "source": [
    "npz_path = '../data/augmented_and_padded_data.npz'\n",
    "dataset = BinChromaDataset(npz_path)\n",
    "\n",
    "train_percentage = 0.9\n",
    "split_idx = int( len(dataset)*train_percentage )\n",
    "\n",
    "train_set = Subset(dataset, range(0,split_idx))\n",
    "test_set = Subset(dataset, range(split_idx, len(dataset)))\n",
    "\n",
    "batch_size = 8\n",
    "epochs = 1000\n",
    "\n",
    "train_loader = DataLoader(train_set, batch_size=batch_size, shuffle=True)\n",
    "test_loader = DataLoader(test_set, batch_size=batch_size, shuffle=True)"
   ]
  },
  {
   "cell_type": "code",
   "execution_count": 3,
   "id": "4a81513d-cc13-43bc-9522-43a5a3f5dce4",
   "metadata": {},
   "outputs": [],
   "source": [
    "src_vocab_size = 2**12\n",
    "tgt_vocab_size = 2**12\n",
    "d_model = 512\n",
    "num_heads = 8\n",
    "num_layers = 8\n",
    "d_ff = 1024\n",
    "max_seq_length = 129\n",
    "dropout = 0.3\n",
    "\n",
    "dev = torch.device(\"cuda:0\" if torch.cuda.is_available() else \"cpu\")\n",
    "\n",
    "encoderModel = EncoderModel(src_vocab_size, d_model, num_heads, num_layers, d_ff, max_seq_length, dropout)\n",
    "\n",
    "transformer = EncoderOnlyWrapper(encoderModel)\n",
    "\n",
    "transformer = transformer.to(dev)"
   ]
  },
  {
   "cell_type": "code",
   "execution_count": null,
   "id": "a97921b5-ccb0-488b-9ce1-49a21327c98c",
   "metadata": {},
   "outputs": [
    {
     "name": "stderr",
     "output_type": "stream",
     "text": [
      "Epoch 0 | trn: 100%|██████████████████████████████████████████████████████████████████████████████████| 600/600 [02:18<00:00,  4.33batch/s, accuracy=0.0169, loss=0.68]\n"
     ]
    },
    {
     "name": "stdout",
     "output_type": "stream",
     "text": [
      "validation...\n",
      "saving!\n",
      "validation: accuracy=0.03129863141207443, loss=0.5990776031594339\n"
     ]
    },
    {
     "name": "stderr",
     "output_type": "stream",
     "text": [
      "Epoch 1 | trn: 100%|█████████████████████████████████████████████████████████████████████████████████| 600/600 [03:13<00:00,  3.10batch/s, accuracy=0.0359, loss=0.587]\n"
     ]
    },
    {
     "name": "stdout",
     "output_type": "stream",
     "text": [
      "validation...\n",
      "saving!\n",
      "validation: accuracy=0.04182846837412919, loss=0.5614077016068221\n"
     ]
    },
    {
     "name": "stderr",
     "output_type": "stream",
     "text": [
      "Epoch 2 | trn: 100%|█████████████████████████████████████████████████████████████████████████████████| 600/600 [02:18<00:00,  4.34batch/s, accuracy=0.0438, loss=0.554]\n"
     ]
    },
    {
     "name": "stdout",
     "output_type": "stream",
     "text": [
      "validation...\n",
      "saving!\n",
      "validation: accuracy=0.04511540643134517, loss=0.5431299281165032\n"
     ]
    },
    {
     "name": "stderr",
     "output_type": "stream",
     "text": [
      "Epoch 3 | trn: 100%|█████████████████████████████████████████████████████████████████████████████████| 600/600 [03:06<00:00,  3.22batch/s, accuracy=0.0481, loss=0.532]\n"
     ]
    },
    {
     "name": "stdout",
     "output_type": "stream",
     "text": [
      "validation...\n",
      "saving!\n",
      "validation: accuracy=0.04694794711811163, loss=0.5340269694408825\n"
     ]
    },
    {
     "name": "stderr",
     "output_type": "stream",
     "text": [
      "Epoch 4 | trn: 100%|█████████████████████████████████████████████████████████████████████████████████| 600/600 [03:07<00:00,  3.20batch/s, accuracy=0.0521, loss=0.515]\n"
     ]
    },
    {
     "name": "stdout",
     "output_type": "stream",
     "text": [
      "validation...\n",
      "saving!\n",
      "validation: accuracy=0.04998763762235117, loss=0.5226395926377115\n"
     ]
    },
    {
     "name": "stderr",
     "output_type": "stream",
     "text": [
      "Epoch 5 | trn: 100%|███████████████████████████████████████████████████████████████████████████████████| 600/600 [02:18<00:00,  4.34batch/s, accuracy=0.0558, loss=0.5]\n"
     ]
    },
    {
     "name": "stdout",
     "output_type": "stream",
     "text": [
      "validation...\n",
      "saving!\n",
      "validation: accuracy=0.05251828904693342, loss=0.51339879044896\n"
     ]
    },
    {
     "name": "stderr",
     "output_type": "stream",
     "text": [
      "Epoch 6 | trn: 100%|█████████████████████████████████████████████████████████████████████████████████| 600/600 [03:06<00:00,  3.22batch/s, accuracy=0.0593, loss=0.486]\n"
     ]
    },
    {
     "name": "stdout",
     "output_type": "stream",
     "text": [
      "validation...\n",
      "saving!\n",
      "validation: accuracy=0.05510711636633362, loss=0.5088100965653755\n"
     ]
    },
    {
     "name": "stderr",
     "output_type": "stream",
     "text": [
      "Epoch 7 | trn: 100%|█████████████████████████████████████████████████████████████████████████████████| 600/600 [03:04<00:00,  3.26batch/s, accuracy=0.0629, loss=0.473]\n"
     ]
    },
    {
     "name": "stdout",
     "output_type": "stream",
     "text": [
      "validation...\n",
      "saving!\n",
      "validation: accuracy=0.05465625318149427, loss=0.508454122418087\n"
     ]
    },
    {
     "name": "stderr",
     "output_type": "stream",
     "text": [
      "Epoch 8 | trn: 100%|██████████████████████████████████████████████████████████████████████████████████| 600/600 [02:18<00:00,  4.34batch/s, accuracy=0.0667, loss=0.46]\n"
     ]
    },
    {
     "name": "stdout",
     "output_type": "stream",
     "text": [
      "validation...\n",
      "saving!\n",
      "validation: accuracy=0.05494713265558416, loss=0.5049541739093429\n"
     ]
    },
    {
     "name": "stderr",
     "output_type": "stream",
     "text": [
      "Epoch 9 | trn: 100%|█████████████████████████████████████████████████████████████████████████████████| 600/600 [03:06<00:00,  3.22batch/s, accuracy=0.0697, loss=0.449]\n"
     ]
    },
    {
     "name": "stdout",
     "output_type": "stream",
     "text": [
      "validation...\n",
      "saving!\n",
      "validation: accuracy=0.05661968963160112, loss=0.5019567732963061\n"
     ]
    },
    {
     "name": "stderr",
     "output_type": "stream",
     "text": [
      "Epoch 10 | trn: 100%|████████████████████████████████████████████████████████████████████████████████| 600/600 [02:17<00:00,  4.35batch/s, accuracy=0.0736, loss=0.436]\n"
     ]
    },
    {
     "name": "stdout",
     "output_type": "stream",
     "text": [
      "validation...\n",
      "validation: accuracy=0.05499076457669766, loss=0.5047033821664205\n"
     ]
    },
    {
     "name": "stderr",
     "output_type": "stream",
     "text": [
      "Epoch 11 | trn: 100%|████████████████████████████████████████████████████████████████████████████████| 600/600 [02:54<00:00,  3.44batch/s, accuracy=0.0768, loss=0.425]\n"
     ]
    },
    {
     "name": "stdout",
     "output_type": "stream",
     "text": [
      "validation...\n",
      "validation: accuracy=0.05640153002603372, loss=0.5057322124602871\n"
     ]
    },
    {
     "name": "stderr",
     "output_type": "stream",
     "text": [
      "Epoch 12 | trn: 100%|██████████████████████████████████████████████████████████████████████████████████| 600/600 [03:04<00:00,  3.24batch/s, accuracy=0.08, loss=0.415]\n"
     ]
    },
    {
     "name": "stdout",
     "output_type": "stream",
     "text": [
      "validation...\n",
      "validation: accuracy=0.05542708378783248, loss=0.504528004054057\n"
     ]
    },
    {
     "name": "stderr",
     "output_type": "stream",
     "text": [
      "Epoch 13 | trn: 100%|████████████████████████████████████████████████████████████████████████████████| 600/600 [02:18<00:00,  4.34batch/s, accuracy=0.0839, loss=0.403]\n"
     ]
    },
    {
     "name": "stdout",
     "output_type": "stream",
     "text": [
      "validation...\n",
      "validation: accuracy=0.05501985252410663, loss=0.507551374846954\n"
     ]
    },
    {
     "name": "stderr",
     "output_type": "stream",
     "text": [
      "Epoch 14 | trn: 100%|████████████████████████████████████████████████████████████████████████████████| 600/600 [03:05<00:00,  3.24batch/s, accuracy=0.0877, loss=0.392]\n"
     ]
    },
    {
     "name": "stdout",
     "output_type": "stream",
     "text": [
      "validation...\n",
      "validation: accuracy=0.054641709207789727, loss=0.5093927217916521\n"
     ]
    },
    {
     "name": "stderr",
     "output_type": "stream",
     "text": [
      "Epoch 15 | trn: 100%|████████████████████████████████████████████████████████████████████████████████| 600/600 [02:18<00:00,  4.34batch/s, accuracy=0.0917, loss=0.381]\n"
     ]
    },
    {
     "name": "stdout",
     "output_type": "stream",
     "text": [
      "validation...\n",
      "validation: accuracy=0.05436537370740434, loss=0.5126664003332829\n"
     ]
    },
    {
     "name": "stderr",
     "output_type": "stream",
     "text": [
      "Epoch 16 | trn: 100%|████████████████████████████████████████████████████████████████████████████████| 600/600 [03:03<00:00,  3.27batch/s, accuracy=0.0955, loss=0.369]\n"
     ]
    },
    {
     "name": "stdout",
     "output_type": "stream",
     "text": [
      "validation...\n",
      "validation: accuracy=0.05373998283811103, loss=0.5201241021755713\n"
     ]
    },
    {
     "name": "stderr",
     "output_type": "stream",
     "text": [
      "Epoch 17 | trn: 100%|████████████████████████████████████████████████████████████████████████████████| 600/600 [02:18<00:00,  4.35batch/s, accuracy=0.0996, loss=0.358]\n"
     ]
    },
    {
     "name": "stdout",
     "output_type": "stream",
     "text": [
      "validation...\n",
      "validation: accuracy=0.05352182323254361, loss=0.5213316529150528\n"
     ]
    },
    {
     "name": "stderr",
     "output_type": "stream",
     "text": [
      "Epoch 18 | trn: 100%|█████████████████████████████████████████████████████████████████████████████████| 600/600 [03:04<00:00,  3.26batch/s, accuracy=0.104, loss=0.347]\n"
     ]
    },
    {
     "name": "stdout",
     "output_type": "stream",
     "text": [
      "validation...\n",
      "validation: accuracy=0.05426356589147287, loss=0.5244351180364669\n"
     ]
    },
    {
     "name": "stderr",
     "output_type": "stream",
     "text": [
      "Epoch 19 | trn: 100%|█████████████████████████████████████████████████████████████████████████████████| 600/600 [02:43<00:00,  3.66batch/s, accuracy=0.108, loss=0.337]\n"
     ]
    },
    {
     "name": "stdout",
     "output_type": "stream",
     "text": [
      "validation...\n",
      "validation: accuracy=0.05304187210029525, loss=0.5307106385758849\n"
     ]
    },
    {
     "name": "stderr",
     "output_type": "stream",
     "text": [
      "Epoch 20 | trn: 100%|█████████████████████████████████████████████████████████████████████████████████| 600/600 [02:38<00:00,  3.78batch/s, accuracy=0.112, loss=0.326]\n"
     ]
    },
    {
     "name": "stdout",
     "output_type": "stream",
     "text": [
      "validation...\n",
      "validation: accuracy=0.05260555288916037, loss=0.5318418068018014\n"
     ]
    },
    {
     "name": "stderr",
     "output_type": "stream",
     "text": [
      "Epoch 21 | trn: 100%|█████████████████████████████████████████████████████████████████████████████████| 600/600 [03:05<00:00,  3.24batch/s, accuracy=0.116, loss=0.316]\n"
     ]
    },
    {
     "name": "stdout",
     "output_type": "stream",
     "text": [
      "validation...\n",
      "validation: accuracy=0.05173291446689065, loss=0.5392338160502307\n"
     ]
    },
    {
     "name": "stderr",
     "output_type": "stream",
     "text": [
      "Epoch 22 | trn: 100%|██████████████████████████████████████████████████████████████████████████████████| 600/600 [02:18<00:00,  4.35batch/s, accuracy=0.12, loss=0.306]\n"
     ]
    },
    {
     "name": "stdout",
     "output_type": "stream",
     "text": [
      "validation...\n",
      "validation: accuracy=0.05200924996727607, loss=0.5398114215142285\n"
     ]
    },
    {
     "name": "stderr",
     "output_type": "stream",
     "text": [
      "Epoch 23 | trn: 100%|█████████████████████████████████████████████████████████████████████████████████| 600/600 [03:04<00:00,  3.26batch/s, accuracy=0.124, loss=0.295]\n"
     ]
    },
    {
     "name": "stdout",
     "output_type": "stream",
     "text": [
      "validation...\n",
      "validation: accuracy=0.05120933141352881, loss=0.5493320627015706\n"
     ]
    },
    {
     "name": "stderr",
     "output_type": "stream",
     "text": [
      "Epoch 24 | trn: 100%|█████████████████████████████████████████████████████████████████████████████████| 600/600 [02:18<00:00,  4.34batch/s, accuracy=0.128, loss=0.286]\n"
     ]
    },
    {
     "name": "stdout",
     "output_type": "stream",
     "text": [
      "validation...\n",
      "validation: accuracy=0.05061302849164451, loss=0.553057055983266\n"
     ]
    },
    {
     "name": "stderr",
     "output_type": "stream",
     "text": [
      "Epoch 25 | trn: 100%|█████████████████████████████████████████████████████████████████████████████████| 600/600 [03:02<00:00,  3.29batch/s, accuracy=0.132, loss=0.276]\n"
     ]
    },
    {
     "name": "stdout",
     "output_type": "stream",
     "text": [
      "validation...\n",
      "validation: accuracy=0.051092979623892844, loss=0.5582004474654206\n"
     ]
    },
    {
     "name": "stderr",
     "output_type": "stream",
     "text": [
      "Epoch 26 | trn: 100%|█████████████████████████████████████████████████████████████████████████████████| 600/600 [02:18<00:00,  4.34batch/s, accuracy=0.137, loss=0.267]\n"
     ]
    },
    {
     "name": "stdout",
     "output_type": "stream",
     "text": [
      "validation...\n",
      "validation: accuracy=0.049158631121194944, loss=0.5634273722292559\n"
     ]
    },
    {
     "name": "stderr",
     "output_type": "stream",
     "text": [
      "Epoch 27 | trn: 100%|██████████████████████████████████████████████████████████████████████████████████| 600/600 [03:01<00:00,  3.30batch/s, accuracy=0.14, loss=0.258]\n"
     ]
    },
    {
     "name": "stdout",
     "output_type": "stream",
     "text": [
      "validation...\n",
      "validation: accuracy=0.0499730936486467, loss=0.5710329289284254\n"
     ]
    },
    {
     "name": "stderr",
     "output_type": "stream",
     "text": [
      "Epoch 28 | trn: 100%|██████████████████████████████████████████████████████████████████████████████████| 600/600 [02:18<00:00,  4.35batch/s, accuracy=0.144, loss=0.25]\n"
     ]
    },
    {
     "name": "stdout",
     "output_type": "stream",
     "text": [
      "validation...\n",
      "validation: accuracy=0.050002181596055684, loss=0.5736042419920272\n"
     ]
    },
    {
     "name": "stderr",
     "output_type": "stream",
     "text": [
      "Epoch 29 | trn: 100%|█████████████████████████████████████████████████████████████████████████████████| 600/600 [03:02<00:00,  3.29batch/s, accuracy=0.148, loss=0.241]\n"
     ]
    },
    {
     "name": "stdout",
     "output_type": "stream",
     "text": [
      "validation...\n",
      "validation: accuracy=0.04889683959451403, loss=0.5841495310835275\n"
     ]
    },
    {
     "name": "stderr",
     "output_type": "stream",
     "text": [
      "Epoch 30 | trn: 100%|█████████████████████████████████████████████████████████████████████████████████| 600/600 [02:18<00:00,  4.35batch/s, accuracy=0.152, loss=0.232]\n"
     ]
    },
    {
     "name": "stdout",
     "output_type": "stream",
     "text": [
      "validation...\n",
      "validation: accuracy=0.04902773535785447, loss=0.5927000958297758\n"
     ]
    },
    {
     "name": "stderr",
     "output_type": "stream",
     "text": [
      "Epoch 31 | trn:  23%|███████████████████▏                                                              | 140/600 [00:32<01:45,  4.35batch/s, accuracy=0.16, loss=0.217]"
     ]
    }
   ],
   "source": [
    "criterion = CrossEntropyLoss(ignore_index=0)\n",
    "optimizer = Adam(transformer.parameters(), lr=0.0001, betas=(0.9, 0.98), eps=1e-9)\n",
    "\n",
    "transformer.train()\n",
    "\n",
    "# keep best validation loss for saving\n",
    "best_val_loss = np.inf\n",
    "save_dir = '../saved_models/encoderOnly_one_hot/'\n",
    "encoder_path = save_dir + 'encoderOnly_one_hot.pt'\n",
    "os.makedirs(save_dir, exist_ok=True)\n",
    "\n",
    "for epoch in range(epochs):\n",
    "    train_loss = 0\n",
    "    running_loss = 0\n",
    "    samples_num = 0\n",
    "    running_accuracy = 0\n",
    "    accuracy = 0\n",
    "    with tqdm(train_loader, unit='batch') as tepoch:\n",
    "        tepoch.set_description(f\"Epoch {epoch} | trn\")\n",
    "        for melodies, chords in tepoch:\n",
    "            melodies = melodies.to(dev)\n",
    "            chords = chords.to(dev)\n",
    "            optimizer.zero_grad()\n",
    "            output = transformer(melodies)\n",
    "            loss = criterion(output.contiguous().view(-1, tgt_vocab_size), chords.contiguous().view(-1))\n",
    "            loss.backward()\n",
    "            optimizer.step()\n",
    "            # update loss\n",
    "            samples_num += melodies.shape[0]\n",
    "            running_loss += loss.item()\n",
    "            train_loss = running_loss/samples_num\n",
    "            # accuracy\n",
    "            prediction = output.argmax(dim=2, keepdim=True).squeeze()\n",
    "            running_accuracy += (prediction == chords).sum().item()/prediction.shape[1]\n",
    "            accuracy = running_accuracy/samples_num\n",
    "            tepoch.set_postfix(loss=train_loss, accuracy=accuracy) # tepoch.set_postfix(loss=loss.item(), accuracy=100. * accuracy)\n",
    "    # validation\n",
    "    with torch.no_grad():\n",
    "        val_loss = 0\n",
    "        running_loss = 0\n",
    "        samples_num = 0\n",
    "        running_accuracy = 0\n",
    "        accuracy = 0\n",
    "        print('validation...')\n",
    "        for melodies, chords in test_loader:\n",
    "            melodies = melodies.to(dev)\n",
    "            chords = chords.to(dev)\n",
    "            output = transformer(melodies)\n",
    "            loss = criterion(output.contiguous().view(-1, tgt_vocab_size), chords.contiguous().view(-1))\n",
    "            # update loss\n",
    "            samples_num += melodies.shape[0]\n",
    "            running_loss += loss.item()\n",
    "            val_loss = running_loss/samples_num\n",
    "            # accuracy\n",
    "            prediction = output.argmax(dim=2, keepdim=True).squeeze()\n",
    "            running_accuracy += (prediction == chords).sum().item()/prediction.shape[1]\n",
    "            accuracy = running_accuracy/samples_num\n",
    "        if best_val_loss > val_loss:\n",
    "            print('saving!')\n",
    "            best_val_loss = val_loss\n",
    "            torch.save(transformer.state_dict(), encoder_path)\n",
    "        print(f'validation: accuracy={accuracy}, loss={val_loss}')"
   ]
  }
 ],
 "metadata": {
  "kernelspec": {
   "display_name": "Python 3 (ipykernel)",
   "language": "python",
   "name": "python3"
  },
  "language_info": {
   "codemirror_mode": {
    "name": "ipython",
    "version": 3
   },
   "file_extension": ".py",
   "mimetype": "text/x-python",
   "name": "python",
   "nbconvert_exporter": "python",
   "pygments_lexer": "ipython3",
   "version": "3.11.6"
  }
 },
 "nbformat": 4,
 "nbformat_minor": 5
}
