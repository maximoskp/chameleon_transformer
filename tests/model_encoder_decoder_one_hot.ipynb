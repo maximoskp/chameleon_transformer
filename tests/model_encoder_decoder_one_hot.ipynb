{
 "cells": [
  {
   "cell_type": "code",
   "execution_count": 1,
   "id": "7884ff70-eacb-4c8b-9e6a-bb2b6f15d334",
   "metadata": {},
   "outputs": [],
   "source": [
    "from Datasets import TokenizedChromaDataset\n",
    "import numpy as np\n",
    "from torch.utils.data import DataLoader, Subset\n",
    "import sys\n",
    "sys.path.insert(0, '..')\n",
    "from transformer.models import TransformerFromModels, EncoderModel, DecoderModel\n",
    "from torch.nn import CrossEntropyLoss\n",
    "from torch.optim import Adam\n",
    "import torch\n",
    "from tqdm import tqdm\n",
    "import os"
   ]
  },
  {
   "cell_type": "code",
   "execution_count": 2,
   "id": "2693b41c-1a03-42ec-8870-a2ed3451ee3d",
   "metadata": {},
   "outputs": [],
   "source": [
    "npz_path = '../data/augmented_and_padded_data.npz'\n",
    "dataset = TokenizedChromaDataset(npz_path)\n",
    "\n",
    "train_percentage = 0.9\n",
    "split_idx = int( len(dataset)*train_percentage )\n",
    "\n",
    "train_set = Subset(dataset, range(0,split_idx))\n",
    "test_set = Subset(dataset, range(split_idx, len(dataset)))\n",
    "\n",
    "batch_size = 16\n",
    "epochs = 1000\n",
    "\n",
    "train_loader = DataLoader(train_set, batch_size=batch_size, shuffle=True)\n",
    "test_loader = DataLoader(test_set, batch_size=batch_size, shuffle=True)"
   ]
  },
  {
   "cell_type": "code",
   "execution_count": 3,
   "id": "e12ad436-3b84-439d-9fc0-d8ddcc73ec7b",
   "metadata": {},
   "outputs": [],
   "source": [
    "src_vocab_size = 2**12\n",
    "tgt_vocab_size = 2**12\n",
    "d_model = 128\n",
    "num_heads = 4\n",
    "num_layers = 4\n",
    "d_ff = 128\n",
    "max_seq_length = 129\n",
    "dropout = 0.3\n",
    "\n",
    "dev = torch.device(\"cuda:0\" if torch.cuda.is_available() else \"cpu\")\n",
    "\n",
    "encoderModel = EncoderModel(src_vocab_size, d_model, num_heads, num_layers, d_ff, max_seq_length, dropout)\n",
    "decoderModel = DecoderModel(tgt_vocab_size, d_model, num_heads, num_layers, d_ff, max_seq_length, dropout)\n",
    "\n",
    "encoderModel = encoderModel.to(dev)\n",
    "decoderModel = decoderModel.to(dev)\n",
    "\n",
    "transformer = TransformerFromModels(encoderModel, decoderModel)\n",
    "\n",
    "transformer = transformer.to(dev)"
   ]
  },
  {
   "cell_type": "code",
   "execution_count": null,
   "id": "6161ea29-3bf9-4929-8654-633d579e0a9a",
   "metadata": {},
   "outputs": [
    {
     "name": "stderr",
     "output_type": "stream",
     "text": [
      "Epoch 0 | trn: 100%|████████████████████████████████████████████████████████████████████████████████| 300/300 [00:28<00:00, 10.56batch/s, accuracy=0.00523, loss=0.413]\n"
     ]
    },
    {
     "name": "stdout",
     "output_type": "stream",
     "text": [
      "validation...\n",
      "saving!\n",
      "validation: accuracy=0.012077861163227017, loss=0.36242847907833936\n"
     ]
    },
    {
     "name": "stderr",
     "output_type": "stream",
     "text": [
      "Epoch 1 | trn: 100%|█████████████████████████████████████████████████████████████████████████████████| 300/300 [00:28<00:00, 10.52batch/s, accuracy=0.0199, loss=0.341]\n"
     ]
    },
    {
     "name": "stdout",
     "output_type": "stream",
     "text": [
      "validation...\n",
      "saving!\n",
      "validation: accuracy=0.027702861163227017, loss=0.3311176067445336\n"
     ]
    },
    {
     "name": "stderr",
     "output_type": "stream",
     "text": [
      "Epoch 2 | trn: 100%|█████████████████████████████████████████████████████████████████████████████████| 300/300 [00:29<00:00, 10.30batch/s, accuracy=0.0372, loss=0.315]\n"
     ]
    },
    {
     "name": "stdout",
     "output_type": "stream",
     "text": [
      "validation...\n",
      "saving!\n",
      "validation: accuracy=0.03959017354596623, loss=0.3105406510673365\n"
     ]
    },
    {
     "name": "stderr",
     "output_type": "stream",
     "text": [
      "Epoch 3 | trn: 100%|█████████████████████████████████████████████████████████████████████████████████| 300/300 [00:29<00:00, 10.34batch/s, accuracy=0.0475, loss=0.297]\n"
     ]
    },
    {
     "name": "stdout",
     "output_type": "stream",
     "text": [
      "validation...\n",
      "saving!\n",
      "validation: accuracy=0.044837593808630394, loss=0.2967490049508902\n"
     ]
    },
    {
     "name": "stderr",
     "output_type": "stream",
     "text": [
      "Epoch 4 | trn: 100%|█████████████████████████████████████████████████████████████████████████████████| 300/300 [00:29<00:00, 10.34batch/s, accuracy=0.0528, loss=0.285]\n"
     ]
    },
    {
     "name": "stdout",
     "output_type": "stream",
     "text": [
      "validation...\n",
      "saving!\n",
      "validation: accuracy=0.04923487335834897, loss=0.286071726797222\n"
     ]
    },
    {
     "name": "stderr",
     "output_type": "stream",
     "text": [
      "Epoch 5 | trn: 100%|█████████████████████████████████████████████████████████████████████████████████| 300/300 [00:28<00:00, 10.35batch/s, accuracy=0.0566, loss=0.276]\n"
     ]
    },
    {
     "name": "stdout",
     "output_type": "stream",
     "text": [
      "validation...\n",
      "saving!\n",
      "validation: accuracy=0.05257680581613509, loss=0.27880688053582\n"
     ]
    },
    {
     "name": "stderr",
     "output_type": "stream",
     "text": [
      "Epoch 6 | trn: 100%|█████████████████████████████████████████████████████████████████████████████████| 300/300 [00:28<00:00, 10.35batch/s, accuracy=0.0601, loss=0.268]\n"
     ]
    },
    {
     "name": "stdout",
     "output_type": "stream",
     "text": [
      "validation...\n",
      "saving!\n",
      "validation: accuracy=0.05495133677298311, loss=0.27115610527052886\n"
     ]
    },
    {
     "name": "stderr",
     "output_type": "stream",
     "text": [
      "Epoch 7 | trn: 100%|█████████████████████████████████████████████████████████████████████████████████| 300/300 [00:29<00:00, 10.34batch/s, accuracy=0.0632, loss=0.262]\n"
     ]
    },
    {
     "name": "stdout",
     "output_type": "stream",
     "text": [
      "validation...\n",
      "saving!\n",
      "validation: accuracy=0.05802943245778611, loss=0.2669186779974102\n"
     ]
    },
    {
     "name": "stderr",
     "output_type": "stream",
     "text": [
      "Epoch 8 | trn: 100%|█████████████████████████████████████████████████████████████████████████████████| 300/300 [00:28<00:00, 10.35batch/s, accuracy=0.0656, loss=0.256]\n"
     ]
    },
    {
     "name": "stdout",
     "output_type": "stream",
     "text": [
      "validation...\n",
      "saving!\n",
      "validation: accuracy=0.05898217636022514, loss=0.2616371947426286\n"
     ]
    },
    {
     "name": "stderr",
     "output_type": "stream",
     "text": [
      "Epoch 9 | trn: 100%|██████████████████████████████████████████████████████████████████████████████████| 300/300 [00:34<00:00,  8.65batch/s, accuracy=0.068, loss=0.251]\n"
     ]
    },
    {
     "name": "stdout",
     "output_type": "stream",
     "text": [
      "validation...\n",
      "saving!\n",
      "validation: accuracy=0.06167917448405253, loss=0.2575103113843621\n"
     ]
    },
    {
     "name": "stderr",
     "output_type": "stream",
     "text": [
      "Epoch 10 | trn: 100%|████████████████████████████████████████████████████████████████████████████████| 300/300 [01:02<00:00,  4.78batch/s, accuracy=0.0703, loss=0.247]\n"
     ]
    },
    {
     "name": "stdout",
     "output_type": "stream",
     "text": [
      "validation...\n",
      "saving!\n",
      "validation: accuracy=0.06436151500938087, loss=0.2546437882571909\n"
     ]
    },
    {
     "name": "stderr",
     "output_type": "stream",
     "text": [
      "Epoch 11 | trn: 100%|████████████████████████████████████████████████████████████████████████████████| 300/300 [00:29<00:00, 10.34batch/s, accuracy=0.0724, loss=0.243]\n"
     ]
    },
    {
     "name": "stdout",
     "output_type": "stream",
     "text": [
      "validation...\n",
      "saving!\n",
      "validation: accuracy=0.06544617729831144, loss=0.24998085360142347\n"
     ]
    },
    {
     "name": "stderr",
     "output_type": "stream",
     "text": [
      "Epoch 12 | trn: 100%|███████████████████████████████████████████████████████████████████████████████████████| 300/300 [00:28<00:00, 10.35batch/s, accuracy=0.0741, loss=0.24]\n"
     ]
    },
    {
     "name": "stdout",
     "output_type": "stream",
     "text": [
      "validation...\n",
      "saving!\n",
      "validation: accuracy=0.06697056754221388, loss=0.2471988474003146\n"
     ]
    },
    {
     "name": "stderr",
     "output_type": "stream",
     "text": [
      "Epoch 13 | trn: 100%|██████████████████████████████████████████████████████████████████████████████████████| 300/300 [00:28<00:00, 10.35batch/s, accuracy=0.0758, loss=0.237]\n"
     ]
    },
    {
     "name": "stdout",
     "output_type": "stream",
     "text": [
      "validation...\n",
      "saving!\n",
      "validation: accuracy=0.06924249530956848, loss=0.24456376877332048\n"
     ]
    },
    {
     "name": "stderr",
     "output_type": "stream",
     "text": [
      "Epoch 14 | trn: 100%|██████████████████████████████████████████████████████████████████████████████████████| 300/300 [00:31<00:00,  9.66batch/s, accuracy=0.0773, loss=0.234]\n"
     ]
    },
    {
     "name": "stdout",
     "output_type": "stream",
     "text": [
      "validation...\n",
      "saving!\n",
      "validation: accuracy=0.07098674953095685, loss=0.2422829640515526\n"
     ]
    },
    {
     "name": "stderr",
     "output_type": "stream",
     "text": [
      "Epoch 15 | trn: 100%|██████████████████████████████████████████████████████████████████████████████████████| 300/300 [01:09<00:00,  4.34batch/s, accuracy=0.0784, loss=0.231]\n"
     ]
    },
    {
     "name": "stdout",
     "output_type": "stream",
     "text": [
      "validation...\n",
      "saving!\n",
      "validation: accuracy=0.07095743433395872, loss=0.2416520736007261\n"
     ]
    },
    {
     "name": "stderr",
     "output_type": "stream",
     "text": [
      "Epoch 16 | trn:  84%|██████████████████████████████████████████████████████████████████▉             | 251/300 [00:24<00:04, 10.25batch/s, accuracy=0.0797, loss=0.229]"
     ]
    }
   ],
   "source": [
    "criterion = CrossEntropyLoss(ignore_index=0)\n",
    "optimizer = Adam(transformer.parameters(), lr=0.0001, betas=(0.9, 0.98), eps=1e-9)\n",
    "\n",
    "transformer.train()\n",
    "\n",
    "# keep best validation loss for saving\n",
    "best_val_loss = np.inf\n",
    "save_dir = '../saved_models/encoder_decoder_one_hot/'\n",
    "encoder_path = save_dir + 'encoder_one_hot.pt'\n",
    "decoder_path = save_dir + 'decoder_one_hot.pt'\n",
    "os.makedirs(save_dir, exist_ok=True)\n",
    "\n",
    "for epoch in range(epochs):\n",
    "    train_loss = 0\n",
    "    running_loss = 0\n",
    "    samples_num = 0\n",
    "    running_accuracy = 0\n",
    "    accuracy = 0\n",
    "    with tqdm(train_loader, unit='batch') as tepoch:\n",
    "        tepoch.set_description(f\"Epoch {epoch} | trn\")\n",
    "        for melodies, chords in tepoch:\n",
    "            melodies = melodies.to(dev)\n",
    "            chords = chords.to(dev)\n",
    "            optimizer.zero_grad()\n",
    "            output = transformer(melodies, chords[:, :-1])\n",
    "            loss = criterion(output.contiguous().view(-1, tgt_vocab_size), chords[:, 1:].contiguous().view(-1))\n",
    "            loss.backward()\n",
    "            optimizer.step()\n",
    "            # update loss\n",
    "            samples_num += melodies.shape[0]\n",
    "            running_loss += loss.item()\n",
    "            train_loss = running_loss/samples_num\n",
    "            # accuracy\n",
    "            prediction = output.argmax(dim=2, keepdim=True).squeeze()\n",
    "            running_accuracy += (prediction == chords[:, 1:]).sum().item()/prediction.shape[1]\n",
    "            accuracy = running_accuracy/samples_num\n",
    "            tepoch.set_postfix(loss=train_loss, accuracy=accuracy) # tepoch.set_postfix(loss=loss.item(), accuracy=100. * accuracy)\n",
    "    # validation\n",
    "    with torch.no_grad():\n",
    "        val_loss = 0\n",
    "        running_loss = 0\n",
    "        samples_num = 0\n",
    "        running_accuracy = 0\n",
    "        accuracy = 0\n",
    "        print('validation...')\n",
    "        for melodies, chords in test_loader:\n",
    "            melodies = melodies.to(dev)\n",
    "            chords = chords.to(dev)\n",
    "            output = transformer(melodies, chords[:, :-1])\n",
    "            loss = criterion(output.contiguous().view(-1, tgt_vocab_size), chords[:, 1:].contiguous().view(-1))\n",
    "            # update loss\n",
    "            samples_num += melodies.shape[0]\n",
    "            running_loss += loss.item()\n",
    "            val_loss = running_loss/samples_num\n",
    "            # accuracy\n",
    "            prediction = output.argmax(dim=2, keepdim=True).squeeze()\n",
    "            running_accuracy += (prediction == chords[:, 1:]).sum().item()/prediction.shape[1]\n",
    "            accuracy = running_accuracy/samples_num\n",
    "        if best_val_loss > val_loss:\n",
    "            print('saving!')\n",
    "            best_val_loss = val_loss\n",
    "            torch.save(encoderModel.state_dict(), encoder_path)\n",
    "            torch.save(decoderModel.state_dict(), decoder_path)\n",
    "        print(f'validation: accuracy={accuracy}, loss={val_loss}')\n",
    "    # print(f\"Epoch: {epoch+1}, training loss: {train_loss} | validation loss {val_loss}\")"
   ]
  },
  {
   "cell_type": "code",
   "execution_count": null,
   "id": "c7b380cf-8c1f-4a6e-8ff4-b83e6ed3645e",
   "metadata": {},
   "outputs": [],
   "source": [
    "# to load the model\n",
    "encoderModel = EncoderModel(src_vocab_size, d_model, num_heads, num_layers, d_ff, max_seq_length, dropout)\n",
    "decoderModel = DecoderModel(tgt_vocab_size, d_model, num_heads, num_layers, d_ff, max_seq_length, dropout)\n",
    "\n",
    "encoderModel.load_state_dict(torch.load(encoder_dir))\n",
    "decoderModel.load_state_dict(torch.load(decoder_dir))\n",
    "\n",
    "transformer = TransformerFromModels(encoderModel, decoderModel)\n",
    "# for inference, not retraining, we need to run\n",
    "transformer.eval()"
   ]
  }
 ],
 "metadata": {
  "kernelspec": {
   "display_name": "Python 3 (ipykernel)",
   "language": "python",
   "name": "python3"
  },
  "language_info": {
   "codemirror_mode": {
    "name": "ipython",
    "version": 3
   },
   "file_extension": ".py",
   "mimetype": "text/x-python",
   "name": "python",
   "nbconvert_exporter": "python",
   "pygments_lexer": "ipython3",
   "version": "3.11.6"
  }
 },
 "nbformat": 4,
 "nbformat_minor": 5
}
