{
 "cells": [
  {
   "cell_type": "code",
   "execution_count": 1,
   "id": "7884ff70-eacb-4c8b-9e6a-bb2b6f15d334",
   "metadata": {},
   "outputs": [],
   "source": [
    "from Datasets import TokenizedChromaDataset\n",
    "import numpy as np\n",
    "from torch.utils.data import DataLoader, Subset\n",
    "import sys\n",
    "sys.path.insert(0, '..')\n",
    "from transformer.models import TransformerFromModels, EncoderModel, DecoderModel\n",
    "from torch.nn import CrossEntropyLoss\n",
    "from torch.optim import Adam\n",
    "import torch\n",
    "from tqdm import tqdm\n",
    "import os"
   ]
  },
  {
   "cell_type": "code",
   "execution_count": 2,
   "id": "2693b41c-1a03-42ec-8870-a2ed3451ee3d",
   "metadata": {},
   "outputs": [],
   "source": [
    "npz_path = '../data/augmented_and_padded_data.npz'\n",
    "dataset = TokenizedChromaDataset(npz_path)\n",
    "\n",
    "train_percentage = 0.9\n",
    "split_idx = int( len(dataset)*train_percentage )\n",
    "\n",
    "train_set = Subset(dataset, range(0,split_idx))\n",
    "test_set = Subset(dataset, range(split_idx, len(dataset)))\n",
    "\n",
    "batch_size = 16\n",
    "epochs = 1000\n",
    "\n",
    "train_loader = DataLoader(train_set, batch_size=batch_size, shuffle=True)\n",
    "test_loader = DataLoader(test_set, batch_size=batch_size, shuffle=True)"
   ]
  },
  {
   "cell_type": "code",
   "execution_count": 3,
   "id": "e12ad436-3b84-439d-9fc0-d8ddcc73ec7b",
   "metadata": {},
   "outputs": [],
   "source": [
    "src_vocab_size = 2**12\n",
    "tgt_vocab_size = 2**12\n",
    "d_model = 128\n",
    "num_heads = 4\n",
    "num_layers = 4\n",
    "d_ff = 128\n",
    "max_seq_length = 129\n",
    "dropout = 0.3\n",
    "\n",
    "dev = torch.device(\"cuda:0\" if torch.cuda.is_available() else \"cpu\")\n",
    "\n",
    "encoderModel = EncoderModel(src_vocab_size, d_model, num_heads, num_layers, d_ff, max_seq_length, dropout)\n",
    "decoderModel = DecoderModel(tgt_vocab_size, d_model, num_heads, num_layers, d_ff, max_seq_length, dropout)\n",
    "\n",
    "encoderModel = encoderModel.to(dev)\n",
    "decoderModel = decoderModel.to(dev)\n",
    "\n",
    "transformer = TransformerFromModels(encoderModel, decoderModel)\n",
    "\n",
    "transformer = transformer.to(dev)"
   ]
  },
  {
   "cell_type": "code",
   "execution_count": 5,
   "id": "6161ea29-3bf9-4929-8654-633d579e0a9a",
   "metadata": {},
   "outputs": [
    {
     "name": "stderr",
     "output_type": "stream",
     "text": [
      "Epoch 0 | trn:   0%|▎                                                                                 | 1/300 [00:00<00:32,  9.32batch/s, accuracy=0.00146, loss=0.495]"
     ]
    },
    {
     "name": "stdout",
     "output_type": "stream",
     "text": [
      "output-0:  torch.Size([16, 128, 4096])\n",
      "chords-0: torch.Size([16, 128])\n",
      "output-1:  torch.Size([2048, 4096])\n",
      "chords-1: torch.Size([2048])\n",
      "output-0:  torch.Size([16, 128, 4096])\n",
      "chords-0: torch.Size([16, 128])\n",
      "output-1:  torch.Size([2048, 4096])\n",
      "chords-1: torch.Size([2048])\n",
      "output-0:  torch.Size([16, 128, 4096])\n",
      "chords-0: torch.Size([16, 128])\n",
      "output-1:  torch.Size([2048, 4096])\n",
      "chords-1: torch.Size([2048])\n"
     ]
    },
    {
     "name": "stderr",
     "output_type": "stream",
     "text": [
      "Epoch 0 | trn:   2%|█▎                                                                                | 5/300 [00:00<00:28, 10.45batch/s, accuracy=0.00107, loss=0.495]"
     ]
    },
    {
     "name": "stdout",
     "output_type": "stream",
     "text": [
      "output-0:  torch.Size([16, 128, 4096])\n",
      "chords-0: torch.Size([16, 128])\n",
      "output-1:  torch.Size([2048, 4096])\n",
      "chords-1: torch.Size([2048])\n",
      "output-0:  torch.Size([16, 128, 4096])\n",
      "chords-0: torch.Size([16, 128])\n",
      "output-1:  torch.Size([2048, 4096])\n",
      "chords-1: torch.Size([2048])\n",
      "output-0:  torch.Size([16, 128, 4096])\n",
      "chords-0: torch.Size([16, 128])\n",
      "output-1:  torch.Size([2048, 4096])\n",
      "chords-1: torch.Size([2048])\n"
     ]
    },
    {
     "name": "stderr",
     "output_type": "stream",
     "text": [
      "Epoch 0 | trn:   2%|█▉                                                                                | 7/300 [00:00<00:27, 10.60batch/s, accuracy=0.00128, loss=0.495]"
     ]
    },
    {
     "name": "stdout",
     "output_type": "stream",
     "text": [
      "output-0:  torch.Size([16, 128, 4096])\n",
      "chords-0: torch.Size([16, 128])\n",
      "output-1:  torch.Size([2048, 4096])\n",
      "chords-1: torch.Size([2048])\n",
      "output-0:  torch.Size([16, 128, 4096])\n",
      "chords-0: torch.Size([16, 128])\n",
      "output-1:  torch.Size([2048, 4096])\n",
      "chords-1: torch.Size([2048])\n",
      "output-0:  torch.Size([16, 128, 4096])\n",
      "chords-0: torch.Size([16, 128])\n",
      "output-1:  torch.Size([2048, 4096])\n",
      "chords-1: torch.Size([2048])\n"
     ]
    },
    {
     "name": "stderr",
     "output_type": "stream",
     "text": [
      "Epoch 0 | trn:   4%|██▉                                                                              | 11/300 [00:01<00:27, 10.70batch/s, accuracy=0.00151, loss=0.493]"
     ]
    },
    {
     "name": "stdout",
     "output_type": "stream",
     "text": [
      "output-0:  torch.Size([16, 128, 4096])\n",
      "chords-0: torch.Size([16, 128])\n",
      "output-1:  torch.Size([2048, 4096])\n",
      "chords-1: torch.Size([2048])\n",
      "output-0:  torch.Size([16, 128, 4096])\n",
      "chords-0: torch.Size([16, 128])\n",
      "output-1:  torch.Size([2048, 4096])\n",
      "chords-1: torch.Size([2048])\n",
      "output-0:  torch.Size([16, 128, 4096])\n",
      "chords-0: torch.Size([16, 128])\n",
      "output-1:  torch.Size([2048, 4096])\n",
      "chords-1: torch.Size([2048])\n"
     ]
    },
    {
     "name": "stderr",
     "output_type": "stream",
     "text": [
      "Epoch 0 | trn:   4%|███▌                                                                              | 13/300 [00:01<00:26, 10.72batch/s, accuracy=0.0014, loss=0.492]"
     ]
    },
    {
     "name": "stdout",
     "output_type": "stream",
     "text": [
      "output-0:  torch.Size([16, 128, 4096])\n",
      "chords-0: torch.Size([16, 128])\n",
      "output-1:  torch.Size([2048, 4096])\n",
      "chords-1: torch.Size([2048])\n",
      "output-0:  torch.Size([16, 128, 4096])\n",
      "chords-0: torch.Size([16, 128])\n",
      "output-1:  torch.Size([2048, 4096])\n",
      "chords-1: torch.Size([2048])\n",
      "output-0:  torch.Size([16, 128, 4096])\n",
      "chords-0: torch.Size([16, 128])\n",
      "output-1:  torch.Size([2048, 4096])\n",
      "chords-1: torch.Size([2048])\n"
     ]
    },
    {
     "name": "stderr",
     "output_type": "stream",
     "text": [
      "Epoch 0 | trn:   6%|████▌                                                                            | 17/300 [00:01<00:26, 10.76batch/s, accuracy=0.00152, loss=0.491]"
     ]
    },
    {
     "name": "stdout",
     "output_type": "stream",
     "text": [
      "output-0:  torch.Size([16, 128, 4096])\n",
      "chords-0: torch.Size([16, 128])\n",
      "output-1:  torch.Size([2048, 4096])\n",
      "chords-1: torch.Size([2048])\n",
      "output-0:  torch.Size([16, 128, 4096])\n",
      "chords-0: torch.Size([16, 128])\n",
      "output-1:  torch.Size([2048, 4096])\n",
      "chords-1: torch.Size([2048])\n",
      "output-0:  torch.Size([16, 128, 4096])\n",
      "chords-0: torch.Size([16, 128])\n",
      "output-1:  torch.Size([2048, 4096])\n",
      "chords-1: torch.Size([2048])\n"
     ]
    },
    {
     "name": "stderr",
     "output_type": "stream",
     "text": [
      "Epoch 0 | trn:   6%|█████▏                                                                            | 19/300 [00:01<00:27, 10.14batch/s, accuracy=0.00164, loss=0.49]"
     ]
    },
    {
     "name": "stdout",
     "output_type": "stream",
     "text": [
      "output-0:  torch.Size([16, 128, 4096])\n",
      "chords-0: torch.Size([16, 128])\n",
      "output-1:  torch.Size([2048, 4096])\n",
      "chords-1: torch.Size([2048])\n",
      "output-0:  torch.Size([16, 128, 4096])\n",
      "chords-0: torch.Size([16, 128])\n",
      "output-1:  torch.Size([2048, 4096])\n",
      "chords-1: torch.Size([2048])\n"
     ]
    },
    {
     "name": "stderr",
     "output_type": "stream",
     "text": [
      "\n"
     ]
    },
    {
     "ename": "KeyboardInterrupt",
     "evalue": "",
     "output_type": "error",
     "traceback": [
      "\u001b[0;31m---------------------------------------------------------------------------\u001b[0m",
      "\u001b[0;31mKeyboardInterrupt\u001b[0m                         Traceback (most recent call last)",
      "Cell \u001b[0;32mIn[5], line 35\u001b[0m\n\u001b[1;32m     33\u001b[0m \u001b[38;5;66;03m# update loss\u001b[39;00m\n\u001b[1;32m     34\u001b[0m samples_num \u001b[38;5;241m+\u001b[39m\u001b[38;5;241m=\u001b[39m melodies\u001b[38;5;241m.\u001b[39mshape[\u001b[38;5;241m0\u001b[39m]\n\u001b[0;32m---> 35\u001b[0m running_loss \u001b[38;5;241m+\u001b[39m\u001b[38;5;241m=\u001b[39m loss\u001b[38;5;241m.\u001b[39mitem()\n\u001b[1;32m     36\u001b[0m train_loss \u001b[38;5;241m=\u001b[39m running_loss\u001b[38;5;241m/\u001b[39msamples_num\n\u001b[1;32m     37\u001b[0m \u001b[38;5;66;03m# accuracy\u001b[39;00m\n",
      "\u001b[0;31mKeyboardInterrupt\u001b[0m: "
     ]
    }
   ],
   "source": [
    "criterion = CrossEntropyLoss(ignore_index=0)\n",
    "optimizer = Adam(transformer.parameters(), lr=0.0001, betas=(0.9, 0.98), eps=1e-9)\n",
    "\n",
    "transformer.train()\n",
    "\n",
    "# keep best validation loss for saving\n",
    "best_val_loss = np.inf\n",
    "save_dir = '../saved_models/encoder_decoder_one_hot/'\n",
    "encoder_path = save_dir + 'encoder_one_hot.pt'\n",
    "decoder_path = save_dir + 'decoder_one_hot.pt'\n",
    "os.makedirs(save_dir, exist_ok=True)\n",
    "\n",
    "for epoch in range(epochs):\n",
    "    train_loss = 0\n",
    "    running_loss = 0\n",
    "    samples_num = 0\n",
    "    running_accuracy = 0\n",
    "    accuracy = 0\n",
    "    with tqdm(train_loader, unit='batch') as tepoch:\n",
    "        tepoch.set_description(f\"Epoch {epoch} | trn\")\n",
    "        for melodies, chords in tepoch:\n",
    "            melodies = melodies.to(dev)\n",
    "            chords = chords.to(dev)\n",
    "            optimizer.zero_grad()\n",
    "            output = transformer(melodies, chords[:, :-1])\n",
    "            loss = criterion(output.contiguous().view(-1, tgt_vocab_size), chords[:, 1:].contiguous().view(-1))\n",
    "            loss.backward()\n",
    "            optimizer.step()\n",
    "            # update loss\n",
    "            samples_num += melodies.shape[0]\n",
    "            running_loss += loss.item()\n",
    "            train_loss = running_loss/samples_num\n",
    "            # accuracy\n",
    "            prediction = output.argmax(dim=2, keepdim=True).squeeze()\n",
    "            running_accuracy += (prediction == chords[:, 1:]).sum().item()/prediction.shape[1]\n",
    "            accuracy = running_accuracy/samples_num\n",
    "            tepoch.set_postfix(loss=train_loss, accuracy=accuracy) # tepoch.set_postfix(loss=loss.item(), accuracy=100. * accuracy)\n",
    "    # validation\n",
    "    with torch.no_grad():\n",
    "        val_loss = 0\n",
    "        running_loss = 0\n",
    "        samples_num = 0\n",
    "        running_accuracy = 0\n",
    "        accuracy = 0\n",
    "        print('validation...')\n",
    "        for melodies, chords in test_loader:\n",
    "            melodies = melodies.to(dev)\n",
    "            chords = chords.to(dev)\n",
    "            output = transformer(melodies, chords[:, :-1])\n",
    "            loss = criterion(output.contiguous().view(-1, tgt_vocab_size), chords[:, 1:].contiguous().view(-1))\n",
    "            # update loss\n",
    "            samples_num += melodies.shape[0]\n",
    "            running_loss += loss.item()\n",
    "            val_loss = running_loss/samples_num\n",
    "            # accuracy\n",
    "            prediction = output.argmax(dim=2, keepdim=True).squeeze()\n",
    "            running_accuracy += (prediction == chords[:, 1:]).sum().item()/prediction.shape[1]\n",
    "            accuracy = running_accuracy/samples_num\n",
    "        if best_val_loss > val_loss:\n",
    "            print('saving!')\n",
    "            best_val_loss = val_loss\n",
    "            torch.save(encoderModel.state_dict(), encoder_path)\n",
    "            torch.save(decoderModel.state_dict(), decoder_path)\n",
    "        print(f'validation: accuracy={accuracy}, loss={val_loss}')\n",
    "    # print(f\"Epoch: {epoch+1}, training loss: {train_loss} | validation loss {val_loss}\")"
   ]
  },
  {
   "cell_type": "code",
   "execution_count": null,
   "id": "c7b380cf-8c1f-4a6e-8ff4-b83e6ed3645e",
   "metadata": {},
   "outputs": [],
   "source": [
    "# to load the model\n",
    "encoderModel = EncoderModel(src_vocab_size, d_model, num_heads, num_layers, d_ff, max_seq_length, dropout)\n",
    "decoderModel = DecoderModel(tgt_vocab_size, d_model, num_heads, num_layers, d_ff, max_seq_length, dropout)\n",
    "\n",
    "encoderModel.load_state_dict(torch.load(encoder_dir))\n",
    "decoderModel.load_state_dict(torch.load(decoder_dir))\n",
    "\n",
    "transformer = TransformerFromModels(encoderModel, decoderModel)\n",
    "# for inference, not retraining, we need to run\n",
    "transformer.eval()"
   ]
  }
 ],
 "metadata": {
  "kernelspec": {
   "display_name": "Python 3 (ipykernel)",
   "language": "python",
   "name": "python3"
  },
  "language_info": {
   "codemirror_mode": {
    "name": "ipython",
    "version": 3
   },
   "file_extension": ".py",
   "mimetype": "text/x-python",
   "name": "python",
   "nbconvert_exporter": "python",
   "pygments_lexer": "ipython3",
   "version": "3.11.6"
  }
 },
 "nbformat": 4,
 "nbformat_minor": 5
}
