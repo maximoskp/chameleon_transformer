{
 "cells": [
  {
   "cell_type": "code",
   "execution_count": 1,
   "metadata": {},
   "outputs": [],
   "source": [
    "import numpy as np\n",
    "import music21 as m21\n",
    "from tqdm import tqdm"
   ]
  },
  {
   "cell_type": "code",
   "execution_count": 3,
   "metadata": {},
   "outputs": [],
   "source": [
    "x = np.load('../data/augmented_and_padded_data_650_songs_with_measure_info.npz')"
   ]
  },
  {
   "cell_type": "code",
   "execution_count": 6,
   "metadata": {},
   "outputs": [
    {
     "name": "stdout",
     "output_type": "stream",
     "text": [
      "['name', 'melody_pcps', 'chord_pcps', 'chord_roots', 'chord_types', 'measure_onsets']\n"
     ]
    }
   ],
   "source": [
    "print(x.files)"
   ]
  },
  {
   "cell_type": "code",
   "execution_count": 7,
   "metadata": {},
   "outputs": [],
   "source": [
    "names = x['name']\n",
    "melody_pcps = x['melody_pcps']\n",
    "chord_pcps = x['chord_pcps']\n",
    "chord_roots = x['chord_roots']\n",
    "chord_types = x['chord_types']\n",
    "measure_onsets = x['measure_onsets']"
   ]
  },
  {
   "cell_type": "code",
   "execution_count": 11,
   "metadata": {},
   "outputs": [
    {
     "name": "stdout",
     "output_type": "stream",
     "text": [
      "(7800, 129, 12)\n",
      "(7800, 68)\n"
     ]
    }
   ],
   "source": [
    "print(melody_pcps.shape)\n",
    "print(measure_onsets.shape)"
   ]
  },
  {
   "cell_type": "code",
   "execution_count": 9,
   "metadata": {},
   "outputs": [],
   "source": [
    "# key finding\n",
    "def tonality_from_pcp( pcp ):\n",
    "    major_profile = m21.analysis.discrete.KrumhanslSchmuckler().getWeights('major')\n",
    "    minor_profile = m21.analysis.discrete.KrumhanslSchmuckler().getWeights('minor')\n",
    "    major_corrs = np.zeros(12).astype(np.float32)\n",
    "    minor_corrs = np.zeros(12).astype(np.float32)\n",
    "    for i in range(12):\n",
    "        major_corrs[i] = np.corrcoef( pcp, np.roll( \n",
    "            major_profile, i ) )[0][1]\n",
    "        minor_corrs[i] = np.corrcoef( pcp, np.roll( \n",
    "            minor_profile, i ) )[0][1]\n",
    "    major_max_idx = np.argmax( major_corrs )\n",
    "    minor_max_idx = np.argmax( minor_corrs )\n",
    "    major_max = np.max( major_corrs )\n",
    "    minor_max = np.max( minor_corrs )\n",
    "    if major_max > minor_max:\n",
    "        return {'root': major_max_idx,\n",
    "                'mode': 'major',\n",
    "                'correlation': major_max}\n",
    "    else:\n",
    "        return {'root': minor_max_idx,\n",
    "                'mode': 'minor',\n",
    "                'correlation': minor_max}\n",
    "# end tonality_from_pcp"
   ]
  },
  {
   "cell_type": "code",
   "execution_count": 12,
   "metadata": {},
   "outputs": [
    {
     "name": "stderr",
     "output_type": "stream",
     "text": [
      "100%|██████████| 7800/7800 [00:27<00:00, 280.40it/s]\n"
     ]
    }
   ],
   "source": [
    "# keep only c major pieces\n",
    "c_melody_pcps = []\n",
    "c_chord_pcps = []\n",
    "c_measure_onsets = []\n",
    "\n",
    "for i in tqdm(range(melody_pcps.shape[0])):\n",
    "    tm = tonality_from_pcp( np.sum(melody_pcps[i,:,:], axis=0) )\n",
    "    tc = tonality_from_pcp( np.sum(chord_pcps[i,:,:], axis=0) )\n",
    "    if tm['root'] == 0 and tm['mode'] == 'major' and tm['correlation'] > 0.7 and \\\n",
    "        tc['root'] == 0 and tc['mode'] == 'major' and tc['correlation'] > 0.7:\n",
    "        c_melody_pcps.append( melody_pcps[i,:,:] )\n",
    "        c_chord_pcps.append( chord_pcps[i,:,:] )\n",
    "        c_measure_onsets.append( measure_onsets[i,:] )"
   ]
  },
  {
   "cell_type": "code",
   "execution_count": 13,
   "metadata": {},
   "outputs": [
    {
     "name": "stdout",
     "output_type": "stream",
     "text": [
      "(104, 129, 12)\n",
      "(104, 129, 12)\n",
      "(104, 68)\n"
     ]
    }
   ],
   "source": [
    "c_mel_np = np.array( c_melody_pcps )\n",
    "print(c_mel_np.shape)\n",
    "c_chr_np = np.array( c_chord_pcps )\n",
    "print(c_chr_np.shape)\n",
    "c_msr_np = np.array( c_measure_onsets )\n",
    "print(c_msr_np.shape)"
   ]
  },
  {
   "cell_type": "code",
   "execution_count": null,
   "metadata": {},
   "outputs": [],
   "source": [
    "np.savez('../data/jazz_c_major_bars.npz', melody_pcps=c_mel_np, chord_pcps=c_chr_np, measure_onsets=c_msr_np)"
   ]
  }
 ],
 "metadata": {
  "kernelspec": {
   "display_name": "torch",
   "language": "python",
   "name": "python3"
  },
  "language_info": {
   "codemirror_mode": {
    "name": "ipython",
    "version": 3
   },
   "file_extension": ".py",
   "mimetype": "text/x-python",
   "name": "python",
   "nbconvert_exporter": "python",
   "pygments_lexer": "ipython3",
   "version": "3.11.6"
  }
 },
 "nbformat": 4,
 "nbformat_minor": 2
}
