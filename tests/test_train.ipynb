{
 "cells": [
  {
   "cell_type": "code",
   "execution_count": 1,
   "id": "7884ff70-eacb-4c8b-9e6a-bb2b6f15d334",
   "metadata": {},
   "outputs": [],
   "source": [
    "from Datasets import BinChromaDataset\n",
    "import numpy as np\n",
    "from torch.utils.data import DataLoader, Subset\n",
    "import sys\n",
    "sys.path.insert(0, '..')\n",
    "from transformer.models import TransformerFromModels, EncoderModel, DecoderModel\n",
    "from torch.nn import CrossEntropyLoss\n",
    "from torch.optim import Adam\n",
    "import torch\n",
    "from tqdm import tqdm\n",
    "import os"
   ]
  },
  {
   "cell_type": "code",
   "execution_count": 2,
   "id": "2693b41c-1a03-42ec-8870-a2ed3451ee3d",
   "metadata": {},
   "outputs": [],
   "source": [
    "npz_path = '../data/augmented_and_padded_data.npz'\n",
    "dataset = BinChromaDataset(npz_path)\n",
    "\n",
    "split_idx = int( len(dataset)*0.8 )\n",
    "\n",
    "train_set = Subset(dataset, range(0,split_idx))\n",
    "test_set = Subset(dataset, range(split_idx, len(dataset)))\n",
    "\n",
    "batch_size = 16\n",
    "epochs = 1000\n",
    "\n",
    "train_loader = DataLoader(train_set, batch_size=batch_size, shuffle=True)\n",
    "test_loader = DataLoader(test_set, batch_size=batch_size, shuffle=True)"
   ]
  },
  {
   "cell_type": "code",
   "execution_count": 3,
   "id": "e12ad436-3b84-439d-9fc0-d8ddcc73ec7b",
   "metadata": {},
   "outputs": [],
   "source": [
    "src_vocab_size = 2**12\n",
    "tgt_vocab_size = 2**12\n",
    "d_model = 512\n",
    "num_heads = 4\n",
    "num_layers = 3\n",
    "d_ff = 2048\n",
    "max_seq_length = 129\n",
    "dropout = 0.1\n",
    "\n",
    "dev = torch.device(\"cuda:0\" if torch.cuda.is_available() else \"cpu\")\n",
    "\n",
    "encoderModel = EncoderModel(src_vocab_size, d_model, num_heads, num_layers, d_ff, max_seq_length, dropout)\n",
    "decoderModel = DecoderModel(tgt_vocab_size, d_model, num_heads, num_layers, d_ff, max_seq_length, dropout)\n",
    "\n",
    "encoderModel = encoderModel.to(dev)\n",
    "decoderModel = decoderModel.to(dev)\n",
    "\n",
    "transformer = TransformerFromModels(encoderModel, decoderModel)\n",
    "\n",
    "transformer = transformer.to(dev)"
   ]
  },
  {
   "cell_type": "code",
   "execution_count": null,
   "id": "6161ea29-3bf9-4929-8654-633d579e0a9a",
   "metadata": {},
   "outputs": [
    {
     "name": "stderr",
     "output_type": "stream",
     "text": [
      "Epoch 0 | trn: 100%|██████████████████████████████████| 267/267 [02:09<00:00,  2.06batch/s, accuracy=0.0456, loss=0.322]\n"
     ]
    },
    {
     "name": "stdout",
     "output_type": "stream",
     "text": [
      "validation...\n",
      "saving!\n",
      "validation: accuracy=0.07223997420262664, loss=0.2615051819727971\n"
     ]
    },
    {
     "name": "stderr",
     "output_type": "stream",
     "text": [
      "Epoch 1 | trn: 100%|██████████████████████████████████| 267/267 [02:24<00:00,  1.85batch/s, accuracy=0.0799, loss=0.242]\n"
     ]
    },
    {
     "name": "stdout",
     "output_type": "stream",
     "text": [
      "validation...\n",
      "saving!\n",
      "validation: accuracy=0.08576160881801126, loss=0.23122246739564647\n"
     ]
    },
    {
     "name": "stderr",
     "output_type": "stream",
     "text": [
      "Epoch 2 | trn: 100%|██████████████████████████████████| 267/267 [02:28<00:00,  1.80batch/s, accuracy=0.0914, loss=0.216]\n"
     ]
    },
    {
     "name": "stdout",
     "output_type": "stream",
     "text": [
      "validation...\n",
      "saving!\n",
      "validation: accuracy=0.09158800422138837, loss=0.21817203332961835\n"
     ]
    },
    {
     "name": "stderr",
     "output_type": "stream",
     "text": [
      "Epoch 3 | trn: 100%|██████████████████████████████████| 267/267 [02:28<00:00,  1.80batch/s, accuracy=0.0982, loss=0.201]\n"
     ]
    },
    {
     "name": "stdout",
     "output_type": "stream",
     "text": [
      "validation...\n",
      "saving!\n",
      "validation: accuracy=0.0949812382739212, loss=0.2107072241087121\n"
     ]
    },
    {
     "name": "stderr",
     "output_type": "stream",
     "text": [
      "Epoch 4 | trn: 100%|███████████████████████████████████| 267/267 [02:29<00:00,  1.78batch/s, accuracy=0.105, loss=0.189]\n"
     ]
    },
    {
     "name": "stdout",
     "output_type": "stream",
     "text": [
      "validation...\n",
      "saving!\n",
      "validation: accuracy=0.09759761960600376, loss=0.20659623875179614\n"
     ]
    },
    {
     "name": "stderr",
     "output_type": "stream",
     "text": [
      "Epoch 5 | trn: 100%|████████████████████████████████████| 267/267 [02:29<00:00,  1.79batch/s, accuracy=0.11, loss=0.178]\n"
     ]
    },
    {
     "name": "stdout",
     "output_type": "stream",
     "text": [
      "validation...\n",
      "saving!\n",
      "validation: accuracy=0.09852837711069419, loss=0.2036456386322823\n"
     ]
    },
    {
     "name": "stderr",
     "output_type": "stream",
     "text": [
      "Epoch 6 | trn: 100%|███████████████████████████████████| 267/267 [02:29<00:00,  1.78batch/s, accuracy=0.117, loss=0.169]\n"
     ]
    },
    {
     "name": "stdout",
     "output_type": "stream",
     "text": [
      "validation...\n",
      "saving!\n",
      "validation: accuracy=0.09989886257035648, loss=0.20135189556493993\n"
     ]
    },
    {
     "name": "stderr",
     "output_type": "stream",
     "text": [
      "Epoch 7 | trn: 100%|███████████████████████████████████| 267/267 [02:29<00:00,  1.79batch/s, accuracy=0.123, loss=0.159]\n"
     ]
    },
    {
     "name": "stdout",
     "output_type": "stream",
     "text": [
      "validation...\n",
      "saving!\n",
      "validation: accuracy=0.1006390712945591, loss=0.20040623779368447\n"
     ]
    },
    {
     "name": "stderr",
     "output_type": "stream",
     "text": [
      "Epoch 8 | trn: 100%|████████████████████████████████████| 267/267 [02:28<00:00,  1.79batch/s, accuracy=0.129, loss=0.15]\n"
     ]
    },
    {
     "name": "stdout",
     "output_type": "stream",
     "text": [
      "validation...\n",
      "saving!\n",
      "validation: accuracy=0.1020095567542214, loss=0.19954654624717097\n"
     ]
    },
    {
     "name": "stderr",
     "output_type": "stream",
     "text": [
      "Epoch 9 | trn: 100%|███████████████████████████████████| 267/267 [02:30<00:00,  1.77batch/s, accuracy=0.135, loss=0.141]\n"
     ]
    },
    {
     "name": "stdout",
     "output_type": "stream",
     "text": [
      "validation...\n",
      "validation: accuracy=0.10137928001876173, loss=0.20108424073983314\n"
     ]
    },
    {
     "name": "stderr",
     "output_type": "stream",
     "text": [
      "Epoch 10 | trn: 100%|██████████████████████████████████| 267/267 [02:29<00:00,  1.78batch/s, accuracy=0.142, loss=0.132]\n"
     ]
    },
    {
     "name": "stdout",
     "output_type": "stream",
     "text": [
      "validation...\n",
      "validation: accuracy=0.1017530487804878, loss=0.20106109423216914\n"
     ]
    },
    {
     "name": "stderr",
     "output_type": "stream",
     "text": [
      "Epoch 11 | trn: 100%|███████████████████████████████████| 267/267 [02:28<00:00,  1.80batch/s, accuracy=0.15, loss=0.123]\n"
     ]
    },
    {
     "name": "stdout",
     "output_type": "stream",
     "text": [
      "validation...\n",
      "validation: accuracy=0.10107879924953096, loss=0.2036576642328087\n"
     ]
    },
    {
     "name": "stderr",
     "output_type": "stream",
     "text": [
      "Epoch 12 | trn: 100%|██████████████████████████████████| 267/267 [02:27<00:00,  1.80batch/s, accuracy=0.157, loss=0.115]\n"
     ]
    },
    {
     "name": "stdout",
     "output_type": "stream",
     "text": [
      "validation...\n",
      "validation: accuracy=0.09983290337711069, loss=0.20632456122822432\n"
     ]
    },
    {
     "name": "stderr",
     "output_type": "stream",
     "text": [
      "Epoch 13 | trn: 100%|██████████████████████████████████| 267/267 [02:28<00:00,  1.80batch/s, accuracy=0.164, loss=0.106]\n"
     ]
    },
    {
     "name": "stdout",
     "output_type": "stream",
     "text": [
      "validation...\n",
      "validation: accuracy=0.10017002814258912, loss=0.2090108300686777\n"
     ]
    },
    {
     "name": "stderr",
     "output_type": "stream",
     "text": [
      "Epoch 14 | trn: 100%|█████████████████████████████████| 267/267 [02:30<00:00,  1.78batch/s, accuracy=0.171, loss=0.0984]\n"
     ]
    },
    {
     "name": "stdout",
     "output_type": "stream",
     "text": [
      "validation...\n",
      "validation: accuracy=0.09807399155722327, loss=0.21130200980080896\n"
     ]
    },
    {
     "name": "stderr",
     "output_type": "stream",
     "text": [
      "Epoch 15 | trn: 100%|██████████████████████████████████| 267/267 [02:28<00:00,  1.80batch/s, accuracy=0.179, loss=0.091]\n"
     ]
    },
    {
     "name": "stdout",
     "output_type": "stream",
     "text": [
      "validation...\n",
      "validation: accuracy=0.09899742026266417, loss=0.2151619475509615\n"
     ]
    },
    {
     "name": "stderr",
     "output_type": "stream",
     "text": [
      "Epoch 16 | trn: 100%|█████████████████████████████████| 267/267 [02:28<00:00,  1.80batch/s, accuracy=0.186, loss=0.0835]\n"
     ]
    },
    {
     "name": "stdout",
     "output_type": "stream",
     "text": [
      "validation...\n",
      "validation: accuracy=0.09781748358348968, loss=0.21856679947693844\n"
     ]
    },
    {
     "name": "stderr",
     "output_type": "stream",
     "text": [
      "Epoch 17 | trn: 100%|█████████████████████████████████| 267/267 [02:27<00:00,  1.81batch/s, accuracy=0.193, loss=0.0767]\n"
     ]
    },
    {
     "name": "stdout",
     "output_type": "stream",
     "text": [
      "validation...\n",
      "validation: accuracy=0.09690138367729831, loss=0.2221321466939758\n"
     ]
    },
    {
     "name": "stderr",
     "output_type": "stream",
     "text": [
      "Epoch 18 | trn: 100%|███████████████████████████████████| 267/267 [02:27<00:00,  1.81batch/s, accuracy=0.2, loss=0.0703]\n"
     ]
    },
    {
     "name": "stdout",
     "output_type": "stream",
     "text": [
      "validation...\n",
      "validation: accuracy=0.09567747420262664, loss=0.22692838842381233\n"
     ]
    },
    {
     "name": "stderr",
     "output_type": "stream",
     "text": [
      "Epoch 19 | trn: 100%|█████████████████████████████████| 267/267 [02:26<00:00,  1.82batch/s, accuracy=0.207, loss=0.0643]\n"
     ]
    },
    {
     "name": "stdout",
     "output_type": "stream",
     "text": [
      "validation...\n",
      "validation: accuracy=0.09535500703564728, loss=0.23196345869640472\n"
     ]
    },
    {
     "name": "stderr",
     "output_type": "stream",
     "text": [
      "Epoch 20 | trn: 100%|█████████████████████████████████| 267/267 [02:27<00:00,  1.81batch/s, accuracy=0.213, loss=0.0588]\n"
     ]
    },
    {
     "name": "stdout",
     "output_type": "stream",
     "text": [
      "validation...\n",
      "validation: accuracy=0.09429965994371482, loss=0.23652788420779172\n"
     ]
    },
    {
     "name": "stderr",
     "output_type": "stream",
     "text": [
      "Epoch 21 | trn: 100%|██████████████████████████████████| 267/267 [02:27<00:00,  1.81batch/s, accuracy=0.219, loss=0.054]\n"
     ]
    },
    {
     "name": "stdout",
     "output_type": "stream",
     "text": [
      "validation...\n",
      "validation: accuracy=0.0945341815196998, loss=0.24038596895801193\n"
     ]
    },
    {
     "name": "stderr",
     "output_type": "stream",
     "text": [
      "Epoch 22 | trn: 100%|█████████████████████████████████| 267/267 [02:26<00:00,  1.82batch/s, accuracy=0.224, loss=0.0493]\n"
     ]
    },
    {
     "name": "stdout",
     "output_type": "stream",
     "text": [
      "validation...\n",
      "validation: accuracy=0.09432164634146341, loss=0.24539264952711495\n"
     ]
    },
    {
     "name": "stderr",
     "output_type": "stream",
     "text": [
      "Epoch 23 | trn: 100%|█████████████████████████████████| 267/267 [02:27<00:00,  1.81batch/s, accuracy=0.229, loss=0.0451]\n"
     ]
    },
    {
     "name": "stdout",
     "output_type": "stream",
     "text": [
      "validation...\n",
      "validation: accuracy=0.09360342401500939, loss=0.25014967475554734\n"
     ]
    },
    {
     "name": "stderr",
     "output_type": "stream",
     "text": [
      "Epoch 24 | trn: 100%|█████████████████████████████████| 267/267 [02:27<00:00,  1.81batch/s, accuracy=0.234, loss=0.0411]\n"
     ]
    },
    {
     "name": "stdout",
     "output_type": "stream",
     "text": [
      "validation...\n",
      "validation: accuracy=0.09325897045028142, loss=0.25379395328364274\n"
     ]
    },
    {
     "name": "stderr",
     "output_type": "stream",
     "text": [
      "Epoch 25 | trn: 100%|█████████████████████████████████| 267/267 [02:29<00:00,  1.78batch/s, accuracy=0.237, loss=0.0382]\n"
     ]
    },
    {
     "name": "stdout",
     "output_type": "stream",
     "text": [
      "validation...\n",
      "validation: accuracy=0.09388191838649156, loss=0.2578807407203803\n"
     ]
    },
    {
     "name": "stderr",
     "output_type": "stream",
     "text": [
      "Epoch 26 | trn: 100%|█████████████████████████████████| 267/267 [02:27<00:00,  1.81batch/s, accuracy=0.241, loss=0.0351]\n"
     ]
    },
    {
     "name": "stdout",
     "output_type": "stream",
     "text": [
      "validation...\n",
      "validation: accuracy=0.09441692073170732, loss=0.2624143901059149\n"
     ]
    },
    {
     "name": "stderr",
     "output_type": "stream",
     "text": [
      "Epoch 27 | trn: 100%|█████████████████████████████████| 267/267 [02:29<00:00,  1.78batch/s, accuracy=0.245, loss=0.0326]\n"
     ]
    },
    {
     "name": "stdout",
     "output_type": "stream",
     "text": [
      "validation...\n",
      "validation: accuracy=0.09246013133208256, loss=0.266965063159506\n"
     ]
    },
    {
     "name": "stderr",
     "output_type": "stream",
     "text": [
      "Epoch 28 | trn: 100%|█████████████████████████████████| 267/267 [02:27<00:00,  1.82batch/s, accuracy=0.248, loss=0.0304]\n"
     ]
    },
    {
     "name": "stdout",
     "output_type": "stream",
     "text": [
      "validation...\n",
      "validation: accuracy=0.09298047607879925, loss=0.26919845233044076\n"
     ]
    },
    {
     "name": "stderr",
     "output_type": "stream",
     "text": [
      "Epoch 29 | trn: 100%|██████████████████████████████████| 267/267 [02:27<00:00,  1.82batch/s, accuracy=0.25, loss=0.0285]\n"
     ]
    },
    {
     "name": "stdout",
     "output_type": "stream",
     "text": [
      "validation...\n",
      "validation: accuracy=0.09276061210131333, loss=0.2741384293751242\n"
     ]
    },
    {
     "name": "stderr",
     "output_type": "stream",
     "text": [
      "Epoch 30 | trn: 100%|█████████████████████████████████| 267/267 [02:27<00:00,  1.81batch/s, accuracy=0.252, loss=0.0268]\n"
     ]
    },
    {
     "name": "stdout",
     "output_type": "stream",
     "text": [
      "validation...\n",
      "validation: accuracy=0.09229889774859287, loss=0.27908645897376827\n"
     ]
    },
    {
     "name": "stderr",
     "output_type": "stream",
     "text": [
      "Epoch 31 | trn: 100%|█████████████████████████████████| 267/267 [02:26<00:00,  1.82batch/s, accuracy=0.255, loss=0.0251]\n"
     ]
    },
    {
     "name": "stdout",
     "output_type": "stream",
     "text": [
      "validation...\n",
      "validation: accuracy=0.09328095684803002, loss=0.2777940023683473\n"
     ]
    },
    {
     "name": "stderr",
     "output_type": "stream",
     "text": [
      "Epoch 32 | trn: 100%|█████████████████████████████████| 267/267 [02:26<00:00,  1.82batch/s, accuracy=0.256, loss=0.0237]\n"
     ]
    },
    {
     "name": "stdout",
     "output_type": "stream",
     "text": [
      "validation...\n",
      "validation: accuracy=0.09226225375234522, loss=0.28254063804869806\n"
     ]
    },
    {
     "name": "stderr",
     "output_type": "stream",
     "text": [
      "Epoch 33 | trn: 100%|█████████████████████████████████| 267/267 [02:27<00:00,  1.82batch/s, accuracy=0.258, loss=0.0224]\n"
     ]
    },
    {
     "name": "stdout",
     "output_type": "stream",
     "text": [
      "validation...\n",
      "validation: accuracy=0.09347150562851782, loss=0.2863316249668486\n"
     ]
    },
    {
     "name": "stderr",
     "output_type": "stream",
     "text": [
      "Epoch 34 | trn: 100%|█████████████████████████████████| 267/267 [02:27<00:00,  1.81batch/s, accuracy=0.259, loss=0.0214]\n"
     ]
    },
    {
     "name": "stdout",
     "output_type": "stream",
     "text": [
      "validation...\n",
      "validation: accuracy=0.09237218574108819, loss=0.28939841097783414\n"
     ]
    },
    {
     "name": "stderr",
     "output_type": "stream",
     "text": [
      "Epoch 35 | trn: 100%|█████████████████████████████████| 267/267 [02:26<00:00,  1.82batch/s, accuracy=0.261, loss=0.0202]\n"
     ]
    },
    {
     "name": "stdout",
     "output_type": "stream",
     "text": [
      "validation...\n",
      "validation: accuracy=0.09271663930581614, loss=0.28955115028438605\n"
     ]
    },
    {
     "name": "stderr",
     "output_type": "stream",
     "text": [
      "Epoch 36 | trn: 100%|█████████████████████████████████| 267/267 [02:27<00:00,  1.82batch/s, accuracy=0.263, loss=0.0192]\n"
     ]
    },
    {
     "name": "stdout",
     "output_type": "stream",
     "text": [
      "validation...\n",
      "validation: accuracy=0.09304643527204502, loss=0.292732980864133\n"
     ]
    },
    {
     "name": "stderr",
     "output_type": "stream",
     "text": [
      "Epoch 37 | trn: 100%|█████████████████████████████████| 267/267 [02:27<00:00,  1.81batch/s, accuracy=0.263, loss=0.0185]\n"
     ]
    },
    {
     "name": "stdout",
     "output_type": "stream",
     "text": [
      "validation...\n",
      "validation: accuracy=0.09237218574108819, loss=0.2950204615297729\n"
     ]
    },
    {
     "name": "stderr",
     "output_type": "stream",
     "text": [
      "Epoch 38 | trn: 100%|█████████████████████████████████| 267/267 [02:27<00:00,  1.81batch/s, accuracy=0.264, loss=0.0176]\n"
     ]
    },
    {
     "name": "stdout",
     "output_type": "stream",
     "text": [
      "validation...\n",
      "validation: accuracy=0.0921889657598499, loss=0.2990224446409415\n"
     ]
    },
    {
     "name": "stderr",
     "output_type": "stream",
     "text": [
      "Epoch 39 | trn: 100%|█████████████████████████████████| 267/267 [02:27<00:00,  1.81batch/s, accuracy=0.265, loss=0.0171]\n"
     ]
    },
    {
     "name": "stdout",
     "output_type": "stream",
     "text": [
      "validation...\n",
      "validation: accuracy=0.09266533771106941, loss=0.3005620131573131\n"
     ]
    },
    {
     "name": "stderr",
     "output_type": "stream",
     "text": [
      "Epoch 40 | trn: 100%|█████████████████████████████████| 267/267 [02:27<00:00,  1.81batch/s, accuracy=0.266, loss=0.0161]\n"
     ]
    },
    {
     "name": "stdout",
     "output_type": "stream",
     "text": [
      "validation...\n",
      "validation: accuracy=0.09316369606003752, loss=0.3039305359963852\n"
     ]
    },
    {
     "name": "stderr",
     "output_type": "stream",
     "text": [
      "Epoch 41 | trn: 100%|█████████████████████████████████| 267/267 [02:27<00:00,  1.80batch/s, accuracy=0.267, loss=0.0156]\n"
     ]
    },
    {
     "name": "stdout",
     "output_type": "stream",
     "text": [
      "validation...\n",
      "validation: accuracy=0.0933469160412758, loss=0.30462620115190686\n"
     ]
    },
    {
     "name": "stderr",
     "output_type": "stream",
     "text": [
      "Epoch 42 | trn:  69%|███████████████████████▎          | 183/267 [01:40<00:47,  1.77batch/s, accuracy=0.268, loss=0.015]"
     ]
    }
   ],
   "source": [
    "criterion = CrossEntropyLoss(ignore_index=0)\n",
    "optimizer = Adam(transformer.parameters(), lr=0.0001, betas=(0.9, 0.98), eps=1e-9)\n",
    "\n",
    "transformer.train()\n",
    "\n",
    "# keep best validation loss for saving\n",
    "best_val_loss = np.inf\n",
    "save_dir = '../saved_models/encoder_decoder_one_hot/'\n",
    "encoder_path = save_dir + 'encoder_one_hot.pt'\n",
    "decoder_path = save_dir + 'decoder_one_hot.pt'\n",
    "os.makedirs(save_dir, exist_ok=True)\n",
    "\n",
    "for epoch in range(epochs):\n",
    "    train_loss = 0\n",
    "    running_loss = 0\n",
    "    samples_num = 0\n",
    "    running_accuracy = 0\n",
    "    accuracy = 0\n",
    "    with tqdm(train_loader, unit='batch') as tepoch:\n",
    "        tepoch.set_description(f\"Epoch {epoch} | trn\")\n",
    "        for melodies, chords in tepoch:\n",
    "            melodies = melodies.to(dev)\n",
    "            chords = chords.to(dev)\n",
    "            optimizer.zero_grad()\n",
    "            output = transformer(melodies, chords[:, :-1])\n",
    "            loss = criterion(output.contiguous().view(-1, tgt_vocab_size), chords[:, 1:].contiguous().view(-1))\n",
    "            loss.backward()\n",
    "            optimizer.step()\n",
    "            # update loss\n",
    "            samples_num += melodies.shape[0]\n",
    "            running_loss += loss.item()\n",
    "            train_loss = running_loss/samples_num\n",
    "            # accuracy\n",
    "            prediction = output.argmax(dim=2, keepdim=True).squeeze()\n",
    "            running_accuracy += (prediction == chords[:, 1:]).sum().item()/prediction.shape[1]\n",
    "            accuracy = running_accuracy/samples_num\n",
    "            tepoch.set_postfix(loss=train_loss, accuracy=accuracy) # tepoch.set_postfix(loss=loss.item(), accuracy=100. * accuracy)\n",
    "    # validation\n",
    "    with torch.no_grad():\n",
    "        val_loss = 0\n",
    "        running_loss = 0\n",
    "        samples_num = 0\n",
    "        running_accuracy = 0\n",
    "        accuracy = 0\n",
    "        print('validation...')\n",
    "        for melodies, chords in test_loader:\n",
    "            melodies = melodies.to(dev)\n",
    "            chords = chords.to(dev)\n",
    "            output = transformer(melodies, chords[:, :-1])\n",
    "            loss = criterion(output.contiguous().view(-1, tgt_vocab_size), chords[:, 1:].contiguous().view(-1))\n",
    "            # update loss\n",
    "            samples_num += melodies.shape[0]\n",
    "            running_loss += loss.item()\n",
    "            val_loss = running_loss/samples_num\n",
    "            # accuracy\n",
    "            prediction = output.argmax(dim=2, keepdim=True).squeeze()\n",
    "            running_accuracy += (prediction == chords[:, 1:]).sum().item()/prediction.shape[1]\n",
    "            accuracy = running_accuracy/samples_num\n",
    "        if best_val_loss > val_loss:\n",
    "            print('saving!')\n",
    "            best_val_loss = val_loss\n",
    "            torch.save(encoderModel.state_dict(), encoder_path)\n",
    "            torch.save(decoderModel.state_dict(), decoder_path)\n",
    "        print(f'validation: accuracy={accuracy}, loss={val_loss}')\n",
    "    # print(f\"Epoch: {epoch+1}, training loss: {train_loss} | validation loss {val_loss}\")"
   ]
  },
  {
   "cell_type": "code",
   "execution_count": null,
   "id": "c7b380cf-8c1f-4a6e-8ff4-b83e6ed3645e",
   "metadata": {},
   "outputs": [],
   "source": [
    "# to load the model\n",
    "encoderModel = EncoderModel(src_vocab_size, d_model, num_heads, num_layers, d_ff, max_seq_length, dropout)\n",
    "decoderModel = DecoderModel(tgt_vocab_size, d_model, num_heads, num_layers, d_ff, max_seq_length, dropout)\n",
    "\n",
    "encoderModel.load_state_dict(torch.load(encoder_dir))\n",
    "decoderModel.load_state_dict(torch.load(decoder_dir))\n",
    "\n",
    "transformer = TransformerFromModels(encoderModel, decoderModel)\n",
    "# for inference, not retraining, we need to run\n",
    "transformer.eval()"
   ]
  }
 ],
 "metadata": {
  "kernelspec": {
   "display_name": "Python 3 (ipykernel)",
   "language": "python",
   "name": "python3"
  },
  "language_info": {
   "codemirror_mode": {
    "name": "ipython",
    "version": 3
   },
   "file_extension": ".py",
   "mimetype": "text/x-python",
   "name": "python",
   "nbconvert_exporter": "python",
   "pygments_lexer": "ipython3",
   "version": "3.11.6"
  }
 },
 "nbformat": 4,
 "nbformat_minor": 5
}
