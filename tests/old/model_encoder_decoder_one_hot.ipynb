{
 "cells": [
  {
   "cell_type": "code",
   "execution_count": 1,
   "id": "7884ff70-eacb-4c8b-9e6a-bb2b6f15d334",
   "metadata": {},
   "outputs": [],
   "source": [
    "from Datasets import TokenizedChromaDataset, PermutationsTokenizedChromaDataset\n",
    "import numpy as np\n",
    "from torch.utils.data import DataLoader, Subset\n",
    "import sys\n",
    "sys.path.insert(0, '..')\n",
    "from transformer.models import TransformerFromModels, EncoderModel, DecoderModel\n",
    "from torch.nn import CrossEntropyLoss\n",
    "from torch.optim import Adam\n",
    "import torch\n",
    "from tqdm import tqdm\n",
    "import os"
   ]
  },
  {
   "cell_type": "code",
   "execution_count": 2,
   "id": "2693b41c-1a03-42ec-8870-a2ed3451ee3d",
   "metadata": {},
   "outputs": [],
   "source": [
    "npz_path = '../data/augmented_and_padded_data.npz'\n",
    "dataset = TokenizedChromaDataset(npz_path)\n",
    "\n",
    "train_percentage = 0.9\n",
    "split_idx = int( len(dataset)*train_percentage )\n",
    "\n",
    "train_set = Subset(dataset, range(0,split_idx))\n",
    "test_set = Subset(dataset, range(split_idx, len(dataset)))\n",
    "\n",
    "batch_size = 16\n",
    "epochs = 1000\n",
    "\n",
    "train_loader = DataLoader(train_set, batch_size=batch_size, shuffle=True)\n",
    "test_loader = DataLoader(test_set, batch_size=batch_size, shuffle=True)"
   ]
  },
  {
   "cell_type": "code",
   "execution_count": 3,
   "id": "a05045e7-1764-41e9-901a-9fbdec60f693",
   "metadata": {},
   "outputs": [],
   "source": [
    "permutation_dataset = PermutationsTokenizedChromaDataset(npz_path)\n",
    "permutation_loader = DataLoader(permutation_dataset, batch_size=batch_size, shuffle=True)"
   ]
  },
  {
   "cell_type": "code",
   "execution_count": 4,
   "id": "e12ad436-3b84-439d-9fc0-d8ddcc73ec7b",
   "metadata": {},
   "outputs": [],
   "source": [
    "src_vocab_size = 2**12\n",
    "tgt_vocab_size = 2**12\n",
    "d_model = 256\n",
    "num_heads = 4\n",
    "num_layers = 4\n",
    "d_ff = 256\n",
    "max_seq_length = 129\n",
    "dropout = 0.3\n",
    "\n",
    "dev = torch.device(\"cuda:0\" if torch.cuda.is_available() else \"cpu\")\n",
    "\n",
    "encoderModel = EncoderModel(src_vocab_size, d_model, num_heads, num_layers, d_ff, max_seq_length, dropout)\n",
    "decoderModel = DecoderModel(tgt_vocab_size, d_model, num_heads, num_layers, d_ff, max_seq_length, dropout)\n",
    "\n",
    "encoderModel = encoderModel.to(dev)\n",
    "decoderModel = decoderModel.to(dev)\n",
    "\n",
    "transformer = TransformerFromModels(encoderModel, decoderModel)\n",
    "\n",
    "transformer = transformer.to(dev)"
   ]
  },
  {
   "cell_type": "code",
   "execution_count": 5,
   "id": "6161ea29-3bf9-4929-8654-633d579e0a9a",
   "metadata": {},
   "outputs": [
    {
     "name": "stderr",
     "output_type": "stream",
     "text": [
      "Epoch 0 | trn: 100%|█████████████████████████████████████████████████████████████████████████████████| 300/300 [00:49<00:00,  6.01batch/s, accuracy=0.0156, loss=0.375]\n",
      "Epoch 0 | prm: 100%|█████████████████████████████████████████████████████████████████████████████████| 333/333 [00:55<00:00,  5.97batch/s, accuracy=0.0238, loss=0.369]\n"
     ]
    },
    {
     "name": "stdout",
     "output_type": "stream",
     "text": [
      "validation...\n",
      "saving!\n",
      "validation: accuracy=0.04464704502814259, loss=0.32719523106014975\n"
     ]
    },
    {
     "name": "stderr",
     "output_type": "stream",
     "text": [
      "Epoch 1 | trn: 100%|█████████████████████████████████████████████████████████████████████████████████| 300/300 [00:49<00:00,  6.01batch/s, accuracy=0.0572, loss=0.281]\n",
      "Epoch 1 | prm: 100%|█████████████████████████████████████████████████████████████████████████████████| 333/333 [00:55<00:00,  5.97batch/s, accuracy=0.0492, loss=0.307]\n"
     ]
    },
    {
     "name": "stdout",
     "output_type": "stream",
     "text": [
      "validation...\n",
      "saving!\n",
      "validation: accuracy=0.0572672373358349, loss=0.29777783792864315\n"
     ]
    },
    {
     "name": "stderr",
     "output_type": "stream",
     "text": [
      "Epoch 2 | trn: 100%|█████████████████████████████████████████████████████████████████████████████████| 300/300 [00:49<00:00,  6.01batch/s, accuracy=0.0698, loss=0.253]\n",
      "Epoch 2 | prm: 100%|█████████████████████████████████████████████████████████████████████████████████| 333/333 [00:55<00:00,  5.97batch/s, accuracy=0.0586, loss=0.287]\n"
     ]
    },
    {
     "name": "stdout",
     "output_type": "stream",
     "text": [
      "validation...\n",
      "saving!\n",
      "validation: accuracy=0.06422959662288931, loss=0.28385320702815814\n"
     ]
    },
    {
     "name": "stderr",
     "output_type": "stream",
     "text": [
      "Epoch 3 | trn: 100%|████████████████████████████████████████████████████████████████████████████████████████| 300/300 [00:49<00:00,  6.01batch/s, accuracy=0.078, loss=0.238]\n",
      "Epoch 3 | prm: 100%|███████████████████████████████████████████████████████████████████████████████████████| 333/333 [00:55<00:00,  5.97batch/s, accuracy=0.0649, loss=0.275]\n"
     ]
    },
    {
     "name": "stdout",
     "output_type": "stream",
     "text": [
      "validation...\n",
      "saving!\n",
      "validation: accuracy=0.06855358818011258, loss=0.275437434216154\n"
     ]
    },
    {
     "name": "stderr",
     "output_type": "stream",
     "text": [
      "Epoch 4 | trn: 100%|███████████████████████████████████████████████████████████████████████████████████████| 300/300 [00:49<00:00,  6.01batch/s, accuracy=0.0832, loss=0.227]\n",
      "Epoch 4 | prm: 100%|████████████████████████████████████████████████████████████████████████████████████████| 333/333 [00:55<00:00,  5.97batch/s, accuracy=0.069, loss=0.266]\n"
     ]
    },
    {
     "name": "stdout",
     "output_type": "stream",
     "text": [
      "validation...\n",
      "saving!\n",
      "validation: accuracy=0.07107469512195122, loss=0.27163747551293577\n"
     ]
    },
    {
     "name": "stderr",
     "output_type": "stream",
     "text": [
      "Epoch 5 | trn: 100%|████████████████████████████████████████████████████████████████████████████████████████| 300/300 [00:49<00:00,  6.01batch/s, accuracy=0.087, loss=0.219]\n",
      "Epoch 5 | prm: 100%|█████████████████████████████████████████████████████████████████████████████████████████| 333/333 [00:55<00:00,  5.97batch/s, accuracy=0.072, loss=0.26]\n"
     ]
    },
    {
     "name": "stdout",
     "output_type": "stream",
     "text": [
      "validation...\n",
      "saving!\n",
      "validation: accuracy=0.0715437382739212, loss=0.2682915682193262\n"
     ]
    },
    {
     "name": "stderr",
     "output_type": "stream",
     "text": [
      "Epoch 6 | trn: 100%|███████████████████████████████████████████████████████████████████████████████████████| 300/300 [00:49<00:00,  6.01batch/s, accuracy=0.0897, loss=0.212]\n",
      "Epoch 6 | prm: 100%|███████████████████████████████████████████████████████████████████████████████████████| 333/333 [00:55<00:00,  5.97batch/s, accuracy=0.0742, loss=0.254]\n"
     ]
    },
    {
     "name": "stdout",
     "output_type": "stream",
     "text": [
      "validation...\n",
      "saving!\n",
      "validation: accuracy=0.07324401969981238, loss=0.2677002346761678\n"
     ]
    },
    {
     "name": "stderr",
     "output_type": "stream",
     "text": [
      "Epoch 7 | trn: 100%|███████████████████████████████████████████████████████████████████████████████████████| 300/300 [00:49<00:00,  6.01batch/s, accuracy=0.0926, loss=0.207]\n",
      "Epoch 7 | prm: 100%|████████████████████████████████████████████████████████████████████████████████████████| 333/333 [00:55<00:00,  5.97batch/s, accuracy=0.0764, loss=0.25]\n"
     ]
    },
    {
     "name": "stdout",
     "output_type": "stream",
     "text": [
      "validation...\n",
      "saving!\n",
      "validation: accuracy=0.07456320356472795, loss=0.2617965916531618\n"
     ]
    },
    {
     "name": "stderr",
     "output_type": "stream",
     "text": [
      "Epoch 8 | trn: 100%|███████████████████████████████████████████████████████████████████████████████████████| 300/300 [00:49<00:00,  6.01batch/s, accuracy=0.0949, loss=0.202]\n",
      "Epoch 8 | prm: 100%|███████████████████████████████████████████████████████████████████████████████████████| 333/333 [00:55<00:00,  5.97batch/s, accuracy=0.0783, loss=0.246]\n"
     ]
    },
    {
     "name": "stdout",
     "output_type": "stream",
     "text": [
      "validation...\n",
      "saving!\n",
      "validation: accuracy=0.07613156660412758, loss=0.2607909823448081\n"
     ]
    },
    {
     "name": "stderr",
     "output_type": "stream",
     "text": [
      "Epoch 9 | trn: 100%|███████████████████████████████████████████████████████████████████████████████████████| 300/300 [00:49<00:00,  6.01batch/s, accuracy=0.0967, loss=0.198]\n",
      "Epoch 9 | prm: 100%|█████████████████████████████████████████████████████████████████████████████████████████| 333/333 [00:55<00:00,  5.97batch/s, accuracy=0.08, loss=0.243]\n"
     ]
    },
    {
     "name": "stdout",
     "output_type": "stream",
     "text": [
      "validation...\n",
      "validation: accuracy=0.0754719746716698, loss=0.26098465114328695\n"
     ]
    },
    {
     "name": "stderr",
     "output_type": "stream",
     "text": [
      "Epoch 10 | trn: 100%|██████████████████████████████████████████████████████████████████████████████████████| 300/300 [00:49<00:00,  6.01batch/s, accuracy=0.0989, loss=0.194]\n",
      "Epoch 10 | prm: 100%|██████████████████████████████████████████████████████████████████████████████████████| 333/333 [00:55<00:00,  5.96batch/s, accuracy=0.0819, loss=0.239]\n"
     ]
    },
    {
     "name": "stdout",
     "output_type": "stream",
     "text": [
      "validation...\n",
      "saving!\n",
      "validation: accuracy=0.07816897279549719, loss=0.25605810247711125\n"
     ]
    },
    {
     "name": "stderr",
     "output_type": "stream",
     "text": [
      "Epoch 11 | trn: 100%|███████████████████████████████████████████████████████████████████████████████████| 300/300 [00:49<00:00,  6.01batch/s, accuracy=0.1, loss=0.191]\n",
      "Epoch 11 | prm: 100%|████████████████████████████████████████████████████████████████████████████████| 333/333 [00:55<00:00,  5.96batch/s, accuracy=0.0832, loss=0.237]\n"
     ]
    },
    {
     "name": "stdout",
     "output_type": "stream",
     "text": [
      "validation...\n",
      "saving!\n",
      "validation: accuracy=0.0794734990619137, loss=0.2552501296460293\n"
     ]
    },
    {
     "name": "stderr",
     "output_type": "stream",
     "text": [
      "Epoch 12 | trn: 100%|█████████████████████████████████████████████████████████████████████████████████| 300/300 [00:50<00:00,  6.00batch/s, accuracy=0.102, loss=0.188]\n",
      "Epoch 12 | prm: 100%|████████████████████████████████████████████████████████████████████████████████| 333/333 [00:55<00:00,  5.96batch/s, accuracy=0.0847, loss=0.234]\n"
     ]
    },
    {
     "name": "stdout",
     "output_type": "stream",
     "text": [
      "validation...\n",
      "saving!\n",
      "validation: accuracy=0.07960541744840526, loss=0.2537454037907871\n"
     ]
    },
    {
     "name": "stderr",
     "output_type": "stream",
     "text": [
      "Epoch 13 | trn: 100%|█████████████████████████████████████████████████████████████████████████████████| 300/300 [00:49<00:00,  6.00batch/s, accuracy=0.104, loss=0.185]\n",
      "Epoch 13 | prm: 100%|█████████████████████████████████████████████████████████████████████████████████| 333/333 [00:55<00:00,  5.96batch/s, accuracy=0.086, loss=0.231]\n"
     ]
    },
    {
     "name": "stdout",
     "output_type": "stream",
     "text": [
      "validation...\n",
      "saving!\n",
      "validation: accuracy=0.08102720450281425, loss=0.2521034342710341\n"
     ]
    },
    {
     "name": "stderr",
     "output_type": "stream",
     "text": [
      "Epoch 14 | trn: 100%|███████████████████████████████████████████████████████████████████████████████████████| 300/300 [00:49<00:00,  6.01batch/s, accuracy=0.105, loss=0.181]\n",
      "Epoch 14 | prm: 100%|██████████████████████████████████████████████████████████████████████████████████████| 333/333 [00:55<00:00,  5.97batch/s, accuracy=0.0873, loss=0.229]\n"
     ]
    },
    {
     "name": "stdout",
     "output_type": "stream",
     "text": [
      "validation...\n",
      "saving!\n",
      "validation: accuracy=0.08284474671669793, loss=0.24967908769790048\n"
     ]
    },
    {
     "name": "stderr",
     "output_type": "stream",
     "text": [
      "Epoch 15 | trn: 100%|███████████████████████████████████████████████████████████████████████████████████████| 300/300 [00:49<00:00,  6.01batch/s, accuracy=0.107, loss=0.179]\n",
      "Epoch 15 | prm: 100%|██████████████████████████████████████████████████████████████████████████████████████| 333/333 [00:55<00:00,  5.97batch/s, accuracy=0.0886, loss=0.226]\n"
     ]
    },
    {
     "name": "stdout",
     "output_type": "stream",
     "text": [
      "validation...\n",
      "saving!\n",
      "validation: accuracy=0.08302063789868667, loss=0.24809621333181298\n"
     ]
    },
    {
     "name": "stderr",
     "output_type": "stream",
     "text": [
      "Epoch 16 | trn: 100%|███████████████████████████████████████████████████████████████████████████████████████| 300/300 [00:49<00:00,  6.00batch/s, accuracy=0.108, loss=0.176]\n",
      "Epoch 16 | prm: 100%|██████████████████████████████████████████████████████████████████████████████████████| 333/333 [00:55<00:00,  5.97batch/s, accuracy=0.0897, loss=0.224]\n"
     ]
    },
    {
     "name": "stdout",
     "output_type": "stream",
     "text": [
      "validation...\n",
      "saving!\n",
      "validation: accuracy=0.08373886022514071, loss=0.24694101716519296\n"
     ]
    },
    {
     "name": "stderr",
     "output_type": "stream",
     "text": [
      "Epoch 17 | trn: 100%|████████████████████████████████████████████████████████████████████████████████████████| 300/300 [00:49<00:00,  6.01batch/s, accuracy=0.11, loss=0.174]\n",
      "Epoch 17 | prm: 100%|██████████████████████████████████████████████████████████████████████████████████████| 333/333 [00:55<00:00,  5.97batch/s, accuracy=0.0909, loss=0.222]\n"
     ]
    },
    {
     "name": "stdout",
     "output_type": "stream",
     "text": [
      "validation...\n",
      "saving!\n",
      "validation: accuracy=0.08476489212007504, loss=0.24575961061087603\n"
     ]
    },
    {
     "name": "stderr",
     "output_type": "stream",
     "text": [
      "Epoch 18 | trn: 100%|███████████████████████████████████████████████████████████████████████████████████████| 300/300 [00:49<00:00,  6.01batch/s, accuracy=0.111, loss=0.171]\n",
      "Epoch 18 | prm: 100%|███████████████████████████████████████████████████████████████████████████████████████| 333/333 [00:55<00:00,  5.97batch/s, accuracy=0.0922, loss=0.22]\n"
     ]
    },
    {
     "name": "stdout",
     "output_type": "stream",
     "text": [
      "validation...\n",
      "saving!\n",
      "validation: accuracy=0.08492612570356473, loss=0.24473657214395547\n"
     ]
    },
    {
     "name": "stderr",
     "output_type": "stream",
     "text": [
      "Epoch 19 | trn: 100%|███████████████████████████████████████████████████████████████████████████████████████| 300/300 [00:49<00:00,  6.01batch/s, accuracy=0.113, loss=0.169]\n",
      "Epoch 19 | prm: 100%|██████████████████████████████████████████████████████████████████████████████████████| 333/333 [00:55<00:00,  5.97batch/s, accuracy=0.0935, loss=0.218]\n"
     ]
    },
    {
     "name": "stdout",
     "output_type": "stream",
     "text": [
      "validation...\n",
      "saving!\n",
      "validation: accuracy=0.08554174484052533, loss=0.24395440622297504\n"
     ]
    },
    {
     "name": "stderr",
     "output_type": "stream",
     "text": [
      "Epoch 20 | trn: 100%|███████████████████████████████████████████████████████████████████████████████████████| 300/300 [00:49<00:00,  6.01batch/s, accuracy=0.114, loss=0.167]\n",
      "Epoch 20 | prm: 100%|██████████████████████████████████████████████████████████████████████████████████████| 333/333 [00:55<00:00,  5.97batch/s, accuracy=0.0948, loss=0.216]\n"
     ]
    },
    {
     "name": "stdout",
     "output_type": "stream",
     "text": [
      "validation...\n",
      "saving!\n",
      "validation: accuracy=0.08694887429643527, loss=0.24167121463152974\n"
     ]
    },
    {
     "name": "stderr",
     "output_type": "stream",
     "text": [
      "Epoch 21 | trn: 100%|███████████████████████████████████████████████████████████████████████████████████████| 300/300 [00:49<00:00,  6.01batch/s, accuracy=0.115, loss=0.164]\n",
      "Epoch 21 | prm: 100%|██████████████████████████████████████████████████████████████████████████████████████| 333/333 [00:55<00:00,  5.97batch/s, accuracy=0.0957, loss=0.214]\n"
     ]
    },
    {
     "name": "stdout",
     "output_type": "stream",
     "text": [
      "validation...\n",
      "validation: accuracy=0.08592284240150094, loss=0.24321840806928852\n"
     ]
    },
    {
     "name": "stderr",
     "output_type": "stream",
     "text": [
      "Epoch 22 | trn: 100%|███████████████████████████████████████████████████████████████████████████████████████| 300/300 [00:49<00:00,  6.01batch/s, accuracy=0.117, loss=0.163]\n",
      "Epoch 22 | prm: 100%|██████████████████████████████████████████████████████████████████████████████████████| 333/333 [00:55<00:00,  5.97batch/s, accuracy=0.0969, loss=0.212]\n"
     ]
    },
    {
     "name": "stdout",
     "output_type": "stream",
     "text": [
      "validation...\n",
      "validation: accuracy=0.08573229362101313, loss=0.24328041971288972\n"
     ]
    },
    {
     "name": "stderr",
     "output_type": "stream",
     "text": [
      "Epoch 23 | trn: 100%|████████████████████████████████████████████████████████████████████████████████████████| 300/300 [00:49<00:00,  6.00batch/s, accuracy=0.118, loss=0.16]\n",
      "Epoch 23 | prm: 100%|███████████████████████████████████████████████████████████████████████████████████████| 333/333 [00:55<00:00,  5.97batch/s, accuracy=0.0979, loss=0.21]\n"
     ]
    },
    {
     "name": "stdout",
     "output_type": "stream",
     "text": [
      "validation...\n",
      "saving!\n",
      "validation: accuracy=0.08709545028142589, loss=0.24086959679623257\n"
     ]
    },
    {
     "name": "stderr",
     "output_type": "stream",
     "text": [
      "Epoch 24 | trn: 100%|███████████████████████████████████████████████████████████████████████████████████████| 300/300 [00:49<00:00,  6.01batch/s, accuracy=0.119, loss=0.158]\n",
      "Epoch 24 | prm: 100%|███████████████████████████████████████████████████████████████████████████████████████| 333/333 [00:55<00:00,  5.97batch/s, accuracy=0.099, loss=0.208]\n"
     ]
    },
    {
     "name": "stdout",
     "output_type": "stream",
     "text": [
      "validation...\n",
      "saving!\n",
      "validation: accuracy=0.08713942307692307, loss=0.2397890457740197\n"
     ]
    },
    {
     "name": "stderr",
     "output_type": "stream",
     "text": [
      "Epoch 25 | trn: 100%|████████████████████████████████████████████████████████████████████████████████████████| 300/300 [00:49<00:00,  6.01batch/s, accuracy=0.12, loss=0.156]\n",
      "Epoch 25 | prm: 100%|██████████████████████████████████████████████████████████████████████████████████████| 333/333 [00:55<00:00,  5.95batch/s, accuracy=0.0999, loss=0.207]\n"
     ]
    },
    {
     "name": "stdout",
     "output_type": "stream",
     "text": [
      "validation...\n",
      "validation: accuracy=0.087359287054409, loss=0.2405064168611566\n"
     ]
    },
    {
     "name": "stderr",
     "output_type": "stream",
     "text": [
      "Epoch 26 | trn: 100%|█████████████████████████████████████████████████████████████████████████████████| 300/300 [00:50<00:00,  5.99batch/s, accuracy=0.122, loss=0.154]\n",
      "Epoch 26 | prm: 100%|█████████████████████████████████████████████████████████████████████████████████| 333/333 [00:55<00:00,  5.95batch/s, accuracy=0.101, loss=0.205]\n"
     ]
    },
    {
     "name": "stdout",
     "output_type": "stream",
     "text": [
      "validation...\n",
      "saving!\n",
      "validation: accuracy=0.08945532363977486, loss=0.23793593535503796\n"
     ]
    },
    {
     "name": "stderr",
     "output_type": "stream",
     "text": [
      "Epoch 27 | trn: 100%|█████████████████████████████████████████████████████████████████████████████████| 300/300 [00:49<00:00,  6.00batch/s, accuracy=0.123, loss=0.152]\n",
      "Epoch 27 | prm: 100%|█████████████████████████████████████████████████████████████████████████████████| 333/333 [00:55<00:00,  5.97batch/s, accuracy=0.102, loss=0.204]\n"
     ]
    },
    {
     "name": "stdout",
     "output_type": "stream",
     "text": [
      "validation...\n",
      "saving!\n",
      "validation: accuracy=0.08961655722326455, loss=0.23782278851764957\n"
     ]
    },
    {
     "name": "stderr",
     "output_type": "stream",
     "text": [
      "Epoch 28 | trn: 100%|██████████████████████████████████████████████████████████████████████████████████| 300/300 [00:49<00:00,  6.01batch/s, accuracy=0.124, loss=0.15]\n",
      "Epoch 28 | prm: 100%|█████████████████████████████████████████████████████████████████████████████████| 333/333 [00:55<00:00,  5.97batch/s, accuracy=0.103, loss=0.202]\n"
     ]
    },
    {
     "name": "stdout",
     "output_type": "stream",
     "text": [
      "validation...\n",
      "saving!\n",
      "validation: accuracy=0.08927943245778612, loss=0.23747769305674712\n"
     ]
    },
    {
     "name": "stderr",
     "output_type": "stream",
     "text": [
      "Epoch 29 | trn: 100%|█████████████████████████████████████████████████████████████████████████████████| 300/300 [00:49<00:00,  6.00batch/s, accuracy=0.126, loss=0.149]\n",
      "Epoch 29 | prm: 100%|███████████████████████████████████████████████████████████████████████████████████| 333/333 [00:55<00:00,  5.96batch/s, accuracy=0.104, loss=0.2]\n"
     ]
    },
    {
     "name": "stdout",
     "output_type": "stream",
     "text": [
      "validation...\n",
      "saving!\n",
      "validation: accuracy=0.09020286116322701, loss=0.23549226703608014\n"
     ]
    },
    {
     "name": "stderr",
     "output_type": "stream",
     "text": [
      "Epoch 30 | trn: 100%|███████████████████████████████████████████████████████████████████████████████████████| 300/300 [00:49<00:00,  6.00batch/s, accuracy=0.127, loss=0.147]\n",
      "Epoch 30 | prm: 100%|███████████████████████████████████████████████████████████████████████████████████████| 333/333 [00:55<00:00,  5.97batch/s, accuracy=0.105, loss=0.199]\n"
     ]
    },
    {
     "name": "stdout",
     "output_type": "stream",
     "text": [
      "validation...\n",
      "saving!\n",
      "validation: accuracy=0.09039340994371482, loss=0.23286743996067297\n"
     ]
    },
    {
     "name": "stderr",
     "output_type": "stream",
     "text": [
      "Epoch 31 | trn:  98%|████████████████████████████████████████████████████████████████████████████████████▉  | 293/300 [00:49<00:01,  5.97batch/s, accuracy=0.128, loss=0.145]\n"
     ]
    },
    {
     "ename": "KeyboardInterrupt",
     "evalue": "",
     "output_type": "error",
     "traceback": [
      "\u001b[0;31m---------------------------------------------------------------------------\u001b[0m",
      "\u001b[0;31mKeyboardInterrupt\u001b[0m                         Traceback (most recent call last)",
      "Cell \u001b[0;32mIn[5], line 31\u001b[0m\n\u001b[1;32m     29\u001b[0m \u001b[38;5;66;03m# update loss\u001b[39;00m\n\u001b[1;32m     30\u001b[0m samples_num \u001b[38;5;241m+\u001b[39m\u001b[38;5;241m=\u001b[39m melodies\u001b[38;5;241m.\u001b[39mshape[\u001b[38;5;241m0\u001b[39m]\n\u001b[0;32m---> 31\u001b[0m running_loss \u001b[38;5;241m+\u001b[39m\u001b[38;5;241m=\u001b[39m loss\u001b[38;5;241m.\u001b[39mitem()\n\u001b[1;32m     32\u001b[0m train_loss \u001b[38;5;241m=\u001b[39m running_loss\u001b[38;5;241m/\u001b[39msamples_num\n\u001b[1;32m     33\u001b[0m \u001b[38;5;66;03m# accuracy\u001b[39;00m\n",
      "\u001b[0;31mKeyboardInterrupt\u001b[0m: "
     ]
    }
   ],
   "source": [
    "criterion = CrossEntropyLoss(ignore_index=0)\n",
    "optimizer = Adam(transformer.parameters(), lr=0.0001, betas=(0.9, 0.98), eps=1e-9)\n",
    "\n",
    "transformer.train()\n",
    "\n",
    "# keep best validation loss for saving\n",
    "best_val_loss = np.inf\n",
    "save_dir = '../saved_models/encoder_decoder_one_hot/'\n",
    "encoder_path = save_dir + 'encoder_one_hot.pt'\n",
    "decoder_path = save_dir + 'decoder_one_hot.pt'\n",
    "os.makedirs(save_dir, exist_ok=True)\n",
    "\n",
    "for epoch in range(epochs):\n",
    "    train_loss = 0\n",
    "    running_loss = 0\n",
    "    samples_num = 0\n",
    "    running_accuracy = 0\n",
    "    accuracy = 0\n",
    "    with tqdm(train_loader, unit='batch') as tepoch:\n",
    "        tepoch.set_description(f\"Epoch {epoch} | trn\")\n",
    "        for melodies, chords in tepoch:\n",
    "            melodies = melodies.to(dev)\n",
    "            chords = chords.to(dev)\n",
    "            optimizer.zero_grad()\n",
    "            output = transformer(melodies, chords[:, :-1])\n",
    "            loss = criterion(output.contiguous().view(-1, tgt_vocab_size), chords[:, 1:].contiguous().view(-1))\n",
    "            loss.backward()\n",
    "            optimizer.step()\n",
    "            # update loss\n",
    "            samples_num += melodies.shape[0]\n",
    "            running_loss += loss.item()\n",
    "            train_loss = running_loss/samples_num\n",
    "            # accuracy\n",
    "            prediction = output.argmax(dim=2, keepdim=True).squeeze()\n",
    "            running_accuracy += (prediction == chords[:, 1:]).sum().item()/prediction.shape[1]\n",
    "            accuracy = running_accuracy/samples_num\n",
    "            tepoch.set_postfix(loss=train_loss, accuracy=accuracy) # tepoch.set_postfix(loss=loss.item(), accuracy=100. * accuracy)\n",
    "    with tqdm(permutation_loader, unit='batch') as tepoch:\n",
    "        tepoch.set_description(f\"Epoch {epoch} | prm\")\n",
    "        for melodies, chords in tepoch:\n",
    "            melodies = melodies.to(dev)\n",
    "            chords = chords.to(dev)\n",
    "            optimizer.zero_grad()\n",
    "            output = transformer(melodies, chords[:, :-1])\n",
    "            loss = criterion(output.contiguous().view(-1, tgt_vocab_size), chords[:, 1:].contiguous().view(-1))\n",
    "            loss.backward()\n",
    "            optimizer.step()\n",
    "            # update loss\n",
    "            samples_num += melodies.shape[0]\n",
    "            running_loss += loss.item()\n",
    "            train_loss = running_loss/samples_num\n",
    "            # accuracy\n",
    "            prediction = output.argmax(dim=2, keepdim=True).squeeze()\n",
    "            running_accuracy += (prediction == chords[:, 1:]).sum().item()/prediction.shape[1]\n",
    "            accuracy = running_accuracy/samples_num\n",
    "            tepoch.set_postfix(loss=train_loss, accuracy=accuracy) # tepoch.set_postfix(loss=loss.item(), accuracy=100. * accuracy)\n",
    "    # validation\n",
    "    with torch.no_grad():\n",
    "        val_loss = 0\n",
    "        running_loss = 0\n",
    "        samples_num = 0\n",
    "        running_accuracy = 0\n",
    "        accuracy = 0\n",
    "        print('validation...')\n",
    "        for melodies, chords in test_loader:\n",
    "            melodies = melodies.to(dev)\n",
    "            chords = chords.to(dev)\n",
    "            output = transformer(melodies, chords[:, :-1])\n",
    "            loss = criterion(output.contiguous().view(-1, tgt_vocab_size), chords[:, 1:].contiguous().view(-1))\n",
    "            # update loss\n",
    "            samples_num += melodies.shape[0]\n",
    "            running_loss += loss.item()\n",
    "            val_loss = running_loss/samples_num\n",
    "            # accuracy\n",
    "            prediction = output.argmax(dim=2, keepdim=True).squeeze()\n",
    "            running_accuracy += (prediction == chords[:, 1:]).sum().item()/prediction.shape[1]\n",
    "            accuracy = running_accuracy/samples_num\n",
    "        if best_val_loss > val_loss:\n",
    "            print('saving!')\n",
    "            best_val_loss = val_loss\n",
    "            torch.save(encoderModel.state_dict(), encoder_path)\n",
    "            torch.save(decoderModel.state_dict(), decoder_path)\n",
    "        print(f'validation: accuracy={accuracy}, loss={val_loss}')\n",
    "    # print(f\"Epoch: {epoch+1}, training loss: {train_loss} | validation loss {val_loss}\")"
   ]
  },
  {
   "cell_type": "code",
   "execution_count": null,
   "id": "c7b380cf-8c1f-4a6e-8ff4-b83e6ed3645e",
   "metadata": {},
   "outputs": [],
   "source": [
    "# to load the model\n",
    "encoderModel = EncoderModel(src_vocab_size, d_model, num_heads, num_layers, d_ff, max_seq_length, dropout)\n",
    "decoderModel = DecoderModel(tgt_vocab_size, d_model, num_heads, num_layers, d_ff, max_seq_length, dropout)\n",
    "\n",
    "encoderModel.load_state_dict(torch.load(encoder_dir))\n",
    "decoderModel.load_state_dict(torch.load(decoder_dir))\n",
    "\n",
    "transformer = TransformerFromModels(encoderModel, decoderModel)\n",
    "# for inference, not retraining, we need to run\n",
    "transformer.eval()"
   ]
  }
 ],
 "metadata": {
  "kernelspec": {
   "display_name": "Python 3 (ipykernel)",
   "language": "python",
   "name": "python3"
  },
  "language_info": {
   "codemirror_mode": {
    "name": "ipython",
    "version": 3
   },
   "file_extension": ".py",
   "mimetype": "text/x-python",
   "name": "python",
   "nbconvert_exporter": "python",
   "pygments_lexer": "ipython3",
   "version": "3.11.6"
  }
 },
 "nbformat": 4,
 "nbformat_minor": 5
}
