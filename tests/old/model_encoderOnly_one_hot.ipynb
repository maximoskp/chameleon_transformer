{
 "cells": [
  {
   "cell_type": "code",
   "execution_count": 1,
   "id": "f3a19577-2e7a-4aec-9364-8247c7059d80",
   "metadata": {},
   "outputs": [],
   "source": [
    "from Datasets import TokenizedChromaDataset\n",
    "import numpy as np\n",
    "from torch.utils.data import DataLoader, Subset\n",
    "import sys\n",
    "sys.path.insert(0, '..')\n",
    "from transformer.models import EncoderOnlyWrapper, EncoderModel\n",
    "from torch.nn import CrossEntropyLoss\n",
    "from torch.optim import Adam\n",
    "import torch\n",
    "from tqdm import tqdm\n",
    "import os"
   ]
  },
  {
   "cell_type": "code",
   "execution_count": 2,
   "id": "8f6fea6c-86ba-464d-b216-5691b912fd90",
   "metadata": {},
   "outputs": [],
   "source": [
    "npz_path = '../data/augmented_and_padded_data.npz'\n",
    "dataset = TokenizedChromaDataset(npz_path)\n",
    "\n",
    "train_percentage = 0.9\n",
    "split_idx = int( len(dataset)*train_percentage )\n",
    "\n",
    "train_set = Subset(dataset, range(0,split_idx))\n",
    "test_set = Subset(dataset, range(split_idx, len(dataset)))\n",
    "\n",
    "batch_size = 8\n",
    "epochs = 1000\n",
    "\n",
    "train_loader = DataLoader(train_set, batch_size=batch_size, shuffle=True)\n",
    "test_loader = DataLoader(test_set, batch_size=batch_size, shuffle=True)"
   ]
  },
  {
   "cell_type": "code",
   "execution_count": 3,
   "id": "4a81513d-cc13-43bc-9522-43a5a3f5dce4",
   "metadata": {},
   "outputs": [],
   "source": [
    "src_vocab_size = 2**12\n",
    "tgt_vocab_size = 2**12\n",
    "d_model = 512\n",
    "num_heads = 8\n",
    "num_layers = 8\n",
    "d_ff = 1024\n",
    "max_seq_length = 129\n",
    "dropout = 0.3\n",
    "\n",
    "dev = torch.device(\"cuda:0\" if torch.cuda.is_available() else \"cpu\")\n",
    "\n",
    "encoderModel = EncoderModel(src_vocab_size, d_model, num_heads, num_layers, d_ff, max_seq_length, dropout)\n",
    "\n",
    "transformer = EncoderOnlyWrapper(encoderModel)\n",
    "\n",
    "transformer = transformer.to(dev)"
   ]
  },
  {
   "cell_type": "code",
   "execution_count": 4,
   "id": "a97921b5-ccb0-488b-9ce1-49a21327c98c",
   "metadata": {},
   "outputs": [
    {
     "name": "stderr",
     "output_type": "stream",
     "text": [
      "Epoch 0 | trn: 100%|██████████████████████████████████████████████████████████████████████████████████| 600/600 [02:06<00:00,  4.76batch/s, accuracy=0.253, loss=0.171]\n"
     ]
    },
    {
     "name": "stdout",
     "output_type": "stream",
     "text": [
      "validation...\n",
      "saving!\n",
      "validation: accuracy=0.2899486597728232, loss=0.02863294432746984\n"
     ]
    },
    {
     "name": "stderr",
     "output_type": "stream",
     "text": [
      "Epoch 1 | trn: 100%|█████████████████████████████████████████████████████████████████████████████████| 600/600 [02:14<00:00,  4.45batch/s, accuracy=0.292, loss=0.0203]\n"
     ]
    },
    {
     "name": "stdout",
     "output_type": "stream",
     "text": [
      "validation...\n",
      "saving!\n",
      "validation: accuracy=0.29458818738455733, loss=0.009267136000278519\n"
     ]
    },
    {
     "name": "stderr",
     "output_type": "stream",
     "text": [
      "Epoch 2 | trn: 100%|████████████████████████████████████████████████████████████████████████████████| 600/600 [02:19<00:00,  4.31batch/s, accuracy=0.294, loss=0.00734]\n"
     ]
    },
    {
     "name": "stdout",
     "output_type": "stream",
     "text": [
      "validation...\n",
      "saving!\n",
      "validation: accuracy=0.29540264991200876, loss=0.004527520319782407\n"
     ]
    },
    {
     "name": "stderr",
     "output_type": "stream",
     "text": [
      "Epoch 3 | trn: 100%|████████████████████████████████████████████████████████████████████████████████| 600/600 [02:18<00:00,  4.32batch/s, accuracy=0.295, loss=0.00352]\n"
     ]
    },
    {
     "name": "stdout",
     "output_type": "stream",
     "text": [
      "validation...\n",
      "saving!\n",
      "validation: accuracy=0.29578079322832584, loss=0.0028507410046053915\n"
     ]
    },
    {
     "name": "stderr",
     "output_type": "stream",
     "text": [
      "Epoch 4 | trn:  76%|████████████████████████████████████████████████████████████▍                   | 453/600 [01:45<00:34,  4.30batch/s, accuracy=0.296, loss=0.00195]\n"
     ]
    },
    {
     "ename": "KeyboardInterrupt",
     "evalue": "",
     "output_type": "error",
     "traceback": [
      "\u001b[0;31m---------------------------------------------------------------------------\u001b[0m",
      "\u001b[0;31mKeyboardInterrupt\u001b[0m                         Traceback (most recent call last)",
      "Cell \u001b[0;32mIn[4], line 31\u001b[0m\n\u001b[1;32m     29\u001b[0m \u001b[38;5;66;03m# update loss\u001b[39;00m\n\u001b[1;32m     30\u001b[0m samples_num \u001b[38;5;241m+\u001b[39m\u001b[38;5;241m=\u001b[39m melodies\u001b[38;5;241m.\u001b[39mshape[\u001b[38;5;241m0\u001b[39m]\n\u001b[0;32m---> 31\u001b[0m running_loss \u001b[38;5;241m+\u001b[39m\u001b[38;5;241m=\u001b[39m loss\u001b[38;5;241m.\u001b[39mitem()\n\u001b[1;32m     32\u001b[0m train_loss \u001b[38;5;241m=\u001b[39m running_loss\u001b[38;5;241m/\u001b[39msamples_num\n\u001b[1;32m     33\u001b[0m \u001b[38;5;66;03m# accuracy\u001b[39;00m\n",
      "\u001b[0;31mKeyboardInterrupt\u001b[0m: "
     ]
    }
   ],
   "source": [
    "criterion = CrossEntropyLoss(ignore_index=0)\n",
    "optimizer = Adam(transformer.parameters(), lr=0.0001, betas=(0.9, 0.98), eps=1e-9)\n",
    "\n",
    "transformer.train()\n",
    "\n",
    "# keep best validation loss for saving\n",
    "best_val_loss = np.inf\n",
    "save_dir = '../saved_models/encoderOnly_one_hot/'\n",
    "encoder_path = save_dir + 'encoderOnly_one_hot.pt'\n",
    "os.makedirs(save_dir, exist_ok=True)\n",
    "\n",
    "for epoch in range(epochs):\n",
    "    train_loss = 0\n",
    "    running_loss = 0\n",
    "    samples_num = 0\n",
    "    running_accuracy = 0\n",
    "    accuracy = 0\n",
    "    with tqdm(train_loader, unit='batch') as tepoch:\n",
    "        tepoch.set_description(f\"Epoch {epoch} | trn\")\n",
    "        for melodies, chords in tepoch:\n",
    "            melodies = melodies.to(dev)\n",
    "            chords = chords.to(dev)\n",
    "            optimizer.zero_grad()\n",
    "            # output = transformer(melodies)\n",
    "            output = transformer(chords)\n",
    "            loss = criterion(output.contiguous().view(-1, tgt_vocab_size), chords.contiguous().view(-1))\n",
    "            loss.backward()\n",
    "            optimizer.step()\n",
    "            # update loss\n",
    "            samples_num += melodies.shape[0]\n",
    "            running_loss += loss.item()\n",
    "            train_loss = running_loss/samples_num\n",
    "            # accuracy\n",
    "            prediction = output.argmax(dim=2, keepdim=True).squeeze()\n",
    "            running_accuracy += (prediction == chords).sum().item()/prediction.shape[1]\n",
    "            accuracy = running_accuracy/samples_num\n",
    "            tepoch.set_postfix(loss=train_loss, accuracy=accuracy) # tepoch.set_postfix(loss=loss.item(), accuracy=100. * accuracy)\n",
    "    # validation\n",
    "    with torch.no_grad():\n",
    "        val_loss = 0\n",
    "        running_loss = 0\n",
    "        samples_num = 0\n",
    "        running_accuracy = 0\n",
    "        accuracy = 0\n",
    "        print('validation...')\n",
    "        for melodies, chords in test_loader:\n",
    "            melodies = melodies.to(dev)\n",
    "            chords = chords.to(dev)\n",
    "            # output = transformer(melodies)\n",
    "            output = transformer(chords)\n",
    "            loss = criterion(output.contiguous().view(-1, tgt_vocab_size), chords.contiguous().view(-1))\n",
    "            # update loss\n",
    "            samples_num += melodies.shape[0]\n",
    "            running_loss += loss.item()\n",
    "            val_loss = running_loss/samples_num\n",
    "            # accuracy\n",
    "            prediction = output.argmax(dim=2, keepdim=True).squeeze()\n",
    "            running_accuracy += (prediction == chords).sum().item()/prediction.shape[1]\n",
    "            accuracy = running_accuracy/samples_num\n",
    "        if best_val_loss > val_loss:\n",
    "            print('saving!')\n",
    "            best_val_loss = val_loss\n",
    "            torch.save(transformer.state_dict(), encoder_path)\n",
    "        print(f'validation: accuracy={accuracy}, loss={val_loss}')"
   ]
  }
 ],
 "metadata": {
  "kernelspec": {
   "display_name": "Python 3 (ipykernel)",
   "language": "python",
   "name": "python3"
  },
  "language_info": {
   "codemirror_mode": {
    "name": "ipython",
    "version": 3
   },
   "file_extension": ".py",
   "mimetype": "text/x-python",
   "name": "python",
   "nbconvert_exporter": "python",
   "pygments_lexer": "ipython3",
   "version": "3.11.6"
  }
 },
 "nbformat": 4,
 "nbformat_minor": 5
}
