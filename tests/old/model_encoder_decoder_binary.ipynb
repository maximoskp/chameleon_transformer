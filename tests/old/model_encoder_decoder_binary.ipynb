{
 "cells": [
  {
   "cell_type": "code",
   "execution_count": 1,
   "id": "a69d3f99-66d1-4a6d-9e34-01e1d094f404",
   "metadata": {},
   "outputs": [],
   "source": [
    "# https://github.com/lanpa/tensorboardX/tree/8a7925b27cc7233c8fa700c11b741725fc1ce2d9\n",
    "from Datasets import BinChromaDataset, PermutationsBinChromaDataset\n",
    "import numpy as np\n",
    "from torch.utils.data import DataLoader, Subset\n",
    "import sys\n",
    "sys.path.insert(0, '..')\n",
    "from transformer.models import TransformerFromModels, ContinuousEncoder, ContinuousDecoderModel\n",
    "from torch.nn import BCEWithLogitsLoss\n",
    "from torch.optim import Adam\n",
    "import torch\n",
    "from tqdm import tqdm\n",
    "import os"
   ]
  },
  {
   "cell_type": "code",
   "execution_count": 2,
   "id": "926c06b2-d115-449a-9748-1f941f602b03",
   "metadata": {},
   "outputs": [],
   "source": [
    "npz_path = '../data/augmented_and_padded_data.npz'\n",
    "dataset = BinChromaDataset(npz_path)\n",
    "\n",
    "train_percentage = 0.9\n",
    "split_idx = int( len(dataset)*train_percentage )\n",
    "\n",
    "train_set = Subset(dataset, range(0,split_idx))\n",
    "test_set = Subset(dataset, range(split_idx, len(dataset)))\n",
    "\n",
    "batch_size = 8\n",
    "epochs = 1000\n",
    "\n",
    "train_loader = DataLoader(train_set, batch_size=batch_size, shuffle=True)\n",
    "test_loader = DataLoader(test_set, batch_size=batch_size, shuffle=True)"
   ]
  },
  {
   "cell_type": "code",
   "execution_count": 3,
   "id": "8ed275e7-bb07-40e1-92da-b48d70b3487f",
   "metadata": {},
   "outputs": [],
   "source": [
    "permutation_dataset = PermutationsBinChromaDataset(npz_path)\n",
    "permutation_loader = DataLoader(permutation_dataset, batch_size=batch_size, shuffle=True)"
   ]
  },
  {
   "cell_type": "code",
   "execution_count": 4,
   "id": "72be4403-b754-47fc-83e7-7773a5ab237c",
   "metadata": {},
   "outputs": [],
   "source": [
    "src_vocab_size = 12\n",
    "tgt_vocab_size = 12\n",
    "d_model = 256\n",
    "num_heads = 4\n",
    "num_layers = 4\n",
    "d_ff = 256\n",
    "max_seq_length = 129\n",
    "dropout = 0.3\n",
    "\n",
    "dev = torch.device(\"cuda:0\" if torch.cuda.is_available() else \"cpu\")\n",
    "\n",
    "encoderModel = ContinuousEncoder(src_vocab_size, d_model, num_heads, num_layers, d_ff, max_seq_length, dropout)\n",
    "decoderModel = ContinuousDecoderModel(tgt_vocab_size, d_model, num_heads, num_layers, d_ff, max_seq_length, dropout)\n",
    "\n",
    "encoderModel = encoderModel.to(dev)\n",
    "decoderModel = decoderModel.to(dev)\n",
    "\n",
    "transformer = TransformerFromModels(encoderModel, decoderModel)\n",
    "\n",
    "transformer = transformer.to(dev)"
   ]
  },
  {
   "cell_type": "code",
   "execution_count": 5,
   "id": "3ca5441d-dee5-4a7d-b280-d49994ced581",
   "metadata": {},
   "outputs": [
    {
     "name": "stderr",
     "output_type": "stream",
     "text": [
      "Epoch 0 | trn: 100%|███████████████████████████████████████████████████████| 600/600 [00:49<00:00, 12.11batch/s, accuracy=tensor(0.0883, device='cuda:0'), loss=0.0273]\n",
      "Epoch 0 | prm: 100%|███████████████████████████████████████████████████████| 666/666 [00:57<00:00, 11.66batch/s, accuracy=tensor(0.0883, device='cuda:0'), loss=0.0245]\n"
     ]
    },
    {
     "name": "stdout",
     "output_type": "stream",
     "text": [
      "validation...\n",
      "saving!\n",
      "validation: accuracy=0.08851504325866699, loss=0.020841262326007935\n"
     ]
    },
    {
     "name": "stderr",
     "output_type": "stream",
     "text": [
      "Epoch 1 | trn: 100%|███████████████████████████████████████████████████████| 600/600 [00:51<00:00, 11.68batch/s, accuracy=tensor(0.0882, device='cuda:0'), loss=0.0199]\n",
      "Epoch 1 | prm: 100%|███████████████████████████████████████████████████████| 666/666 [00:57<00:00, 11.54batch/s, accuracy=tensor(0.0882, device='cuda:0'), loss=0.0204]\n"
     ]
    },
    {
     "name": "stdout",
     "output_type": "stream",
     "text": [
      "validation...\n",
      "saving!\n",
      "validation: accuracy=0.08871255069971085, loss=0.020141068237919297\n"
     ]
    },
    {
     "name": "stderr",
     "output_type": "stream",
     "text": [
      "Epoch 2 | trn: 100%|███████████████████████████████████████████████████████| 600/600 [00:51<00:00, 11.59batch/s, accuracy=tensor(0.0885, device='cuda:0'), loss=0.0191]\n",
      "Epoch 2 | prm: 100%|███████████████████████████████████████████████████████| 666/666 [00:57<00:00, 11.50batch/s, accuracy=tensor(0.0885, device='cuda:0'), loss=0.0198]\n"
     ]
    },
    {
     "name": "stdout",
     "output_type": "stream",
     "text": [
      "validation...\n",
      "saving!\n",
      "validation: accuracy=0.08918452262878418, loss=0.01958494317520403\n"
     ]
    },
    {
     "name": "stderr",
     "output_type": "stream",
     "text": [
      "Epoch 3 | trn: 100%|███████████████████████████████████████████████████████| 600/600 [00:49<00:00, 12.18batch/s, accuracy=tensor(0.0891, device='cuda:0'), loss=0.0185]\n",
      "Epoch 3 | prm:  22%|████████████▏                                          | 148/666 [00:11<00:40, 12.70batch/s, accuracy=tensor(0.0892, device='cuda:0'), loss=0.0187]\n"
     ]
    },
    {
     "ename": "KeyboardInterrupt",
     "evalue": "",
     "output_type": "error",
     "traceback": [
      "\u001b[0;31m---------------------------------------------------------------------------\u001b[0m",
      "\u001b[0;31mKeyboardInterrupt\u001b[0m                         Traceback (most recent call last)",
      "Cell \u001b[0;32mIn[5], line 69\u001b[0m\n\u001b[1;32m     67\u001b[0m     \u001b[38;5;28;01mfor\u001b[39;00m s_i \u001b[38;5;129;01min\u001b[39;00m \u001b[38;5;28mrange\u001b[39m(bin_output\u001b[38;5;241m.\u001b[39mshape[\u001b[38;5;241m1\u001b[39m]):\n\u001b[1;32m     68\u001b[0m         tmp_count \u001b[38;5;241m+\u001b[39m\u001b[38;5;241m=\u001b[39m \u001b[38;5;241m1\u001b[39m\n\u001b[0;32m---> 69\u001b[0m         tmp_acc \u001b[38;5;241m+\u001b[39m\u001b[38;5;241m=\u001b[39m torch\u001b[38;5;241m.\u001b[39mall(bin_output[b_i, s_i, :]\u001b[38;5;241m.\u001b[39meq(bin_chords[b_i, s_i, :]))\n\u001b[1;32m     70\u001b[0m running_accuracy \u001b[38;5;241m+\u001b[39m\u001b[38;5;241m=\u001b[39m tmp_acc\u001b[38;5;241m/\u001b[39mtmp_count\n\u001b[1;32m     71\u001b[0m accuracy \u001b[38;5;241m=\u001b[39m running_accuracy\u001b[38;5;241m/\u001b[39msamples_num\n",
      "\u001b[0;31mKeyboardInterrupt\u001b[0m: "
     ]
    }
   ],
   "source": [
    "criterion = BCEWithLogitsLoss()\n",
    "optimizer = Adam(transformer.parameters(), lr=0.0001, betas=(0.9, 0.98), eps=1e-9)\n",
    "\n",
    "transformer.train()\n",
    "\n",
    "# keep best validation loss for saving\n",
    "best_val_loss = np.inf\n",
    "save_dir = '../saved_models/encoder_decoder_binary/'\n",
    "encoder_path = save_dir + 'encoder_one_hot.pt'\n",
    "decoder_path = save_dir + 'decoder_one_hot.pt'\n",
    "os.makedirs(save_dir, exist_ok=True)\n",
    "\n",
    "for epoch in range(epochs):\n",
    "    train_loss = 0\n",
    "    running_loss = 0\n",
    "    samples_num = 0\n",
    "    running_accuracy = 0\n",
    "    accuracy = 0\n",
    "    with tqdm(train_loader, unit='batch') as tepoch:\n",
    "        tepoch.set_description(f\"Epoch {epoch} | trn\")\n",
    "        for melodies, chords in tepoch:\n",
    "            melodies = melodies.to(dev)\n",
    "            chords = chords.to(dev)\n",
    "            optimizer.zero_grad()\n",
    "            output = transformer(melodies, chords[:, :-1, :])\n",
    "            # loss = criterion(output.contiguous().view(-1, tgt_vocab_size), chords[:, 1:, :].contiguous().view(-1, tgt_vocab_size))\n",
    "            loss = criterion(output.permute(0, 2, 1), chords[:, 1:, :].permute(0, 2, 1))\n",
    "            loss.backward()\n",
    "            optimizer.step()\n",
    "            # update loss\n",
    "            samples_num += melodies.shape[0]\n",
    "            running_loss += loss.item()\n",
    "            train_loss = running_loss/samples_num\n",
    "            # accuracy\n",
    "            bin_output = output > 0.5\n",
    "            bin_chords = chords[:, 1:] > 0.5\n",
    "            tmp_acc = 0\n",
    "            tmp_count = 0\n",
    "            for b_i in range(bin_output.shape[0]):\n",
    "                for s_i in range(bin_output.shape[1]):\n",
    "                    tmp_count += 1\n",
    "                    tmp_acc += torch.all(bin_output[b_i, s_i, :].eq(bin_chords[b_i, s_i, :]))\n",
    "            running_accuracy += tmp_acc/tmp_count\n",
    "            accuracy = running_accuracy/samples_num\n",
    "            tepoch.set_postfix(loss=train_loss, accuracy=accuracy) # tepoch.set_postfix(loss=loss.item(), accuracy=100. * accuracy)\n",
    "    with tqdm(permutation_loader, unit='batch') as tepoch:\n",
    "        tepoch.set_description(f\"Epoch {epoch} | prm\")\n",
    "        for melodies, chords in tepoch:\n",
    "            melodies = melodies.to(dev)\n",
    "            chords = chords.to(dev)\n",
    "            optimizer.zero_grad()\n",
    "            output = transformer(melodies, chords[:, :-1, :])\n",
    "            # loss = criterion(output.contiguous().view(-1, tgt_vocab_size), chords[:, 1:, :].contiguous().view(-1, tgt_vocab_size))\n",
    "            loss = criterion(output.permute(0, 2, 1), chords[:, 1:, :].permute(0, 2, 1))\n",
    "            loss.backward()\n",
    "            optimizer.step()\n",
    "            # update loss\n",
    "            samples_num += melodies.shape[0]\n",
    "            running_loss += loss.item()\n",
    "            train_loss = running_loss/samples_num\n",
    "            # accuracy\n",
    "            bin_output = output > 0.5\n",
    "            bin_chords = chords[:, 1:] > 0.5\n",
    "            tmp_acc = 0\n",
    "            tmp_count = 0\n",
    "            for b_i in range(bin_output.shape[0]):\n",
    "                for s_i in range(bin_output.shape[1]):\n",
    "                    tmp_count += 1\n",
    "                    tmp_acc += torch.all(bin_output[b_i, s_i, :].eq(bin_chords[b_i, s_i, :]))\n",
    "            running_accuracy += tmp_acc/tmp_count\n",
    "            accuracy = running_accuracy/samples_num\n",
    "            tepoch.set_postfix(loss=train_loss, accuracy=accuracy) # tepoch.set_postfix(loss=loss.item(), accuracy=100. * accuracy)\n",
    "    # validation\n",
    "    with torch.no_grad():\n",
    "        val_loss = 0\n",
    "        running_loss = 0\n",
    "        samples_num = 0\n",
    "        running_accuracy = 0\n",
    "        accuracy = 0\n",
    "        print('validation...')\n",
    "        for melodies, chords in test_loader:\n",
    "            melodies = melodies.to(dev)\n",
    "            chords = chords.to(dev)\n",
    "            output = transformer(melodies, chords[:, :-1, :])\n",
    "            # loss = criterion(output.contiguous().view(-1, tgt_vocab_size), chords[:, 1:].contiguous().view(-1, tgt_vocab_size))\n",
    "            loss = criterion(output.permute(0, 2, 1), chords[:, 1:, :].permute(0, 2, 1))\n",
    "            # update loss\n",
    "            samples_num += melodies.shape[0]\n",
    "            running_loss += loss.item()\n",
    "            val_loss = running_loss/samples_num\n",
    "            # accuracy\n",
    "            bin_output = output > 0.5\n",
    "            bin_chords = chords[:, 1:] > 0.5\n",
    "            tmp_acc = 0\n",
    "            tmp_count = 0\n",
    "            for b_i in range(bin_output.shape[0]):\n",
    "                for s_i in range(bin_output.shape[1]):\n",
    "                    tmp_count += 1\n",
    "                    tmp_acc += torch.all(bin_output[b_i, s_i, :].eq(bin_chords[b_i, s_i, :]))\n",
    "            running_accuracy += tmp_acc/tmp_count\n",
    "            accuracy = running_accuracy/samples_num\n",
    "        if best_val_loss > val_loss:\n",
    "            print('saving!')\n",
    "            best_val_loss = val_loss\n",
    "            torch.save(encoderModel.state_dict(), encoder_path)\n",
    "            torch.save(decoderModel.state_dict(), decoder_path)\n",
    "        print(f'validation: accuracy={accuracy}, loss={val_loss}')"
   ]
  }
 ],
 "metadata": {
  "kernelspec": {
   "display_name": "Python 3 (ipykernel)",
   "language": "python",
   "name": "python3"
  },
  "language_info": {
   "codemirror_mode": {
    "name": "ipython",
    "version": 3
   },
   "file_extension": ".py",
   "mimetype": "text/x-python",
   "name": "python",
   "nbconvert_exporter": "python",
   "pygments_lexer": "ipython3",
   "version": "3.11.6"
  }
 },
 "nbformat": 4,
 "nbformat_minor": 5
}
