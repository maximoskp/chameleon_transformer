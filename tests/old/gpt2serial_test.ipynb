{
 "cells": [
  {
   "cell_type": "code",
   "execution_count": 10,
   "id": "3008633e-c3af-47bc-8686-f2dbf76f40f6",
   "metadata": {},
   "outputs": [],
   "source": [
    "import numpy as np\n",
    "from torch.utils.data import DataLoader, Subset\n",
    "import sys\n",
    "sys.path.insert(0, '..')\n",
    "from data_utils.Datasets import SerializedConcatDataset, ShiftSerializedConcatDataset, BinarySerializer\n",
    "from torch.nn import CrossEntropyLoss\n",
    "from torch.optim import Adam\n",
    "import torch\n",
    "from tqdm import tqdm\n",
    "import os\n",
    "import csv\n",
    "import pickle\n",
    "\n",
    "from transformers import AutoConfig, GPT2LMHeadModel\n",
    "\n",
    "with open('serializer.pkl', 'rb') as inp:\n",
    "    binser = pickle.load(inp)"
   ]
  },
  {
   "cell_type": "code",
   "execution_count": 11,
   "id": "3a499c14-15d3-4c70-941a-7924322e181e",
   "metadata": {},
   "outputs": [],
   "source": [
    "# define model\n",
    "vocab_size = binser.vocab_size\n",
    "d_model = 256\n",
    "num_heads = 4\n",
    "num_layers = 4\n",
    "d_ff = 256\n",
    "max_seq_length = binser.max_seq_length\n",
    "dropout = 0.3"
   ]
  },
  {
   "cell_type": "code",
   "execution_count": 12,
   "id": "ae48baaa-a068-48c0-ad41-e203546c91ba",
   "metadata": {},
   "outputs": [],
   "source": [
    "# load data\n",
    "npz_path = '../data/augmented_and_padded_data.npz'\n",
    "dataset = SerializedConcatDataset(npz_path, pad_to_length=max_seq_length)\n",
    "\n",
    "train_percentage = 0.9\n",
    "split_idx = int( len(dataset)*train_percentage )\n",
    "\n",
    "train_set = Subset(dataset, range(0,split_idx))\n",
    "test_set = Subset(dataset, range(split_idx, len(dataset)))\n",
    "\n",
    "batch_size = 4\n",
    "epochs = 2\n",
    "\n",
    "train_loader = DataLoader(train_set, batch_size=batch_size, shuffle=True)\n",
    "test_loader = DataLoader(test_set, batch_size=batch_size, shuffle=True)\n",
    "\n",
    "# shiftutation data\n",
    "shift_dataset = ShiftSerializedConcatDataset(npz_path, pad_to_length=max_seq_length)\n",
    "shift_loader = DataLoader(shift_dataset, batch_size=batch_size, shuffle=True)\n",
    "\n",
    "dev = torch.device(\"cuda:0\" if torch.cuda.is_available() else \"cpu\")"
   ]
  },
  {
   "cell_type": "code",
   "execution_count": 13,
   "id": "e29f35cd-59c8-4409-a74f-72cae45f7b65",
   "metadata": {},
   "outputs": [],
   "source": [
    "config = AutoConfig.from_pretrained(\n",
    "    \"gpt2\",\n",
    "    vocab_size=vocab_size,\n",
    "    n_positions=max_seq_length,\n",
    "    n_layer=num_layers,\n",
    "    n_head=num_heads,\n",
    "    pad_token_id=binser.padding,\n",
    "    bos_token_id=binser.padding,\n",
    "    eos_token_id=binser.padding,\n",
    "    n_embd=d_ff\n",
    ")\n",
    "transformer = GPT2LMHeadModel(config).to(dev)"
   ]
  },
  {
   "cell_type": "code",
   "execution_count": 14,
   "id": "23d83633-5e65-43e2-8396-ca57dcb1e3fc",
   "metadata": {},
   "outputs": [
    {
     "data": {
      "text/plain": [
       "GPT2LMHeadModel(\n",
       "  (transformer): GPT2Model(\n",
       "    (wte): Embedding(30, 256)\n",
       "    (wpe): Embedding(1063, 256)\n",
       "    (drop): Dropout(p=0.1, inplace=False)\n",
       "    (h): ModuleList(\n",
       "      (0-3): 4 x GPT2Block(\n",
       "        (ln_1): LayerNorm((256,), eps=1e-05, elementwise_affine=True)\n",
       "        (attn): GPT2Attention(\n",
       "          (c_attn): Conv1D()\n",
       "          (c_proj): Conv1D()\n",
       "          (attn_dropout): Dropout(p=0.1, inplace=False)\n",
       "          (resid_dropout): Dropout(p=0.1, inplace=False)\n",
       "        )\n",
       "        (ln_2): LayerNorm((256,), eps=1e-05, elementwise_affine=True)\n",
       "        (mlp): GPT2MLP(\n",
       "          (c_fc): Conv1D()\n",
       "          (c_proj): Conv1D()\n",
       "          (act): NewGELUActivation()\n",
       "          (dropout): Dropout(p=0.1, inplace=False)\n",
       "        )\n",
       "      )\n",
       "    )\n",
       "    (ln_f): LayerNorm((256,), eps=1e-05, elementwise_affine=True)\n",
       "  )\n",
       "  (lm_head): Linear(in_features=256, out_features=30, bias=False)\n",
       ")"
      ]
     },
     "execution_count": 14,
     "metadata": {},
     "output_type": "execute_result"
    }
   ],
   "source": [
    "# train model\n",
    "criterion = CrossEntropyLoss(ignore_index=0)\n",
    "optimizer = Adam(transformer.parameters(), lr=0.0001, betas=(0.9, 0.98), eps=1e-9)\n",
    "\n",
    "transformer.train()"
   ]
  },
  {
   "cell_type": "code",
   "execution_count": 17,
   "id": "70686aff-0c83-4698-980f-685a73b138f9",
   "metadata": {},
   "outputs": [
    {
     "name": "stderr",
     "output_type": "stream",
     "text": [
      "Epoch 0 | trn: 100%|█████████████████████████████████████████████████████████████████████████████████████| 1199/1199 [08:42<00:00,  2.30batch/s, accuracy=0.0373, loss=0.154]\n",
      "Epoch 1 | trn: 100%|█████████████████████████████████████████████████████████████████████████████████████| 1199/1199 [11:28<00:00,  1.74batch/s, accuracy=0.0425, loss=0.136]\n"
     ]
    }
   ],
   "source": [
    "for epoch in range(epochs):\n",
    "    train_loss = 0\n",
    "    running_loss = 0\n",
    "    samples_num = 0\n",
    "    running_accuracy = 0\n",
    "    train_accuracy = 0\n",
    "    with tqdm(train_loader, unit='batch') as tepoch:\n",
    "        tepoch.set_description(f\"Epoch {epoch} | trn\")\n",
    "        for seq in tepoch:\n",
    "            seq = seq.to(dev)\n",
    "            attention_mask = seq[:,:-1] != 0\n",
    "            optimizer.zero_grad()\n",
    "            target = seq[:, 1:]\n",
    "            output = transformer(seq[:, :-1], labels=target, attention_mask=attention_mask)\n",
    "            loss = output.loss\n",
    "            loss.backward()\n",
    "            optimizer.step()\n",
    "            # loss = criterion(output.contiguous().view(-1, vocab_size), seq[:, 1:].contiguous().view(-1))\n",
    "            # loss.backward()\n",
    "            # optimizer.step()\n",
    "            # # update loss\n",
    "            samples_num += seq.shape[0]\n",
    "            running_loss += loss.item()\n",
    "            train_loss = running_loss/samples_num\n",
    "            # accuracy\n",
    "            prediction = output.logits.argmax(dim=2, keepdim=True).squeeze()\n",
    "            running_accuracy += (prediction[attention_mask] == target[attention_mask]).sum().item()/prediction.shape[1]\n",
    "            train_accuracy = running_accuracy/samples_num\n",
    "            tepoch.set_postfix(loss=train_loss, accuracy=train_accuracy) # tepoch.set_postfix(loss=loss.item(), accuracy=100. * accuracy)"
   ]
  },
  {
   "cell_type": "code",
   "execution_count": null,
   "id": "d5d4659e-08b9-4a5b-bc7b-5533fa03fe56",
   "metadata": {},
   "outputs": [],
   "source": []
  }
 ],
 "metadata": {
  "kernelspec": {
   "display_name": "Python 3 (ipykernel)",
   "language": "python",
   "name": "python3"
  },
  "language_info": {
   "codemirror_mode": {
    "name": "ipython",
    "version": 3
   },
   "file_extension": ".py",
   "mimetype": "text/x-python",
   "name": "python",
   "nbconvert_exporter": "python",
   "pygments_lexer": "ipython3",
   "version": "3.11.6"
  }
 },
 "nbformat": 4,
 "nbformat_minor": 5
}
