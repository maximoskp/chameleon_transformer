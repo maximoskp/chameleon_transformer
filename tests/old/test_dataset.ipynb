{
 "cells": [
  {
   "cell_type": "code",
   "execution_count": 1,
   "id": "91cbed51-21cb-4432-97a3-d0c3b4491860",
   "metadata": {},
   "outputs": [],
   "source": [
    "import sys\n",
    "sys.path.insert(0, '..')\n",
    "import numpy as np\n",
    "from BinaryTokenizer import BinaryTokenizer\n",
    "from torch.utils.data import Dataset, DataLoader, Subset\n",
    "import torch.nn as nn"
   ]
  },
  {
   "cell_type": "code",
   "execution_count": 2,
   "id": "7b66011b-f734-4f5f-9275-c1d41b1008ed",
   "metadata": {},
   "outputs": [],
   "source": [
    "npz_path = '../data/augmented_and_padded_data.npz'"
   ]
  },
  {
   "cell_type": "code",
   "execution_count": 3,
   "id": "2182f1a2-7e18-4494-94a3-491969702522",
   "metadata": {},
   "outputs": [],
   "source": [
    "class TokenizedChromaDataset(Dataset):\n",
    "    def __init__(self, npz_path):\n",
    "        data = np.load(npz_path)\n",
    "        melody_pcps = data['melody_pcps']\n",
    "        chord_pcps = data['chord_pcps']\n",
    "        binTok = BinaryTokenizer()\n",
    "        self.tok_melody = binTok.fit_transform( melody_pcps )\n",
    "        self.tok_chord = binTok.fit_transform( chord_pcps )\n",
    "    # end __init__\n",
    "    \n",
    "    def __len__(self):\n",
    "        return self.tok_melody.shape[0]\n",
    "    # end __len__\n",
    "    \n",
    "    def __getitem__(self, idx):\n",
    "        return self.tok_melody[idx,:], self.tok_chord[idx,:]\n",
    "    # end __getitem__\n",
    "# end BinChromaDataset"
   ]
  },
  {
   "cell_type": "code",
   "execution_count": 4,
   "id": "8c692549-3933-4801-bdc3-c4aff0cfd63b",
   "metadata": {},
   "outputs": [],
   "source": [
    "class BinChromaDataset(Dataset):\n",
    "    def __init__(self, npz_path):\n",
    "        data = np.load(npz_path)\n",
    "        self.melody_pcps = data['melody_pcps'].astype('float32')\n",
    "        self.chord_pcps = data['chord_pcps'].astype('float32')\n",
    "    # end __init__\n",
    "    \n",
    "    def __len__(self):\n",
    "        return self.melody_pcps.shape[0]\n",
    "    # end __len__\n",
    "    \n",
    "    def __getitem__(self, idx):\n",
    "        return self.melody_pcps[idx,:,:], self.chord_pcps[idx,:,:]\n",
    "    # end __getitem__\n",
    "# end BinChromaDataset"
   ]
  },
  {
   "cell_type": "code",
   "execution_count": 5,
   "id": "4cac6c32-882c-4ebf-9960-9e9c9c6efe53",
   "metadata": {},
   "outputs": [],
   "source": [
    "td = TokenizedChromaDataset(npz_path)\n",
    "td_loader = DataLoader(td, batch_size=64, shuffle=True)\n",
    "bd = BinChromaDataset(npz_path)\n",
    "bd_loader = DataLoader(bd, batch_size=64, shuffle=True)\n",
    "# split_idx = int( len(td)*0.8 )\n",
    "# train_set = Subset(td, range(0,split_idx))\n",
    "# test_set = Subset(td, range(split_idx, len(dataset)))"
   ]
  },
  {
   "cell_type": "code",
   "execution_count": 13,
   "id": "5f86405e-2cd9-4613-889d-384edd9546d5",
   "metadata": {},
   "outputs": [],
   "source": [
    "# train_loader = DataLoader(train_set, batch_size=64, shuffle=True)\n",
    "# test_loader = DataLoader(test_set, batch_size=64, shuffle=True)"
   ]
  },
  {
   "cell_type": "code",
   "execution_count": 10,
   "id": "8ca968b6-c4b7-41c5-9fc0-e6d1e9f37fc8",
   "metadata": {},
   "outputs": [
    {
     "name": "stdout",
     "output_type": "stream",
     "text": [
      "torch.Size([64, 129])\n",
      "torch.Size([64, 129])\n"
     ]
    }
   ],
   "source": [
    "# melodies, chords = next(iter(train_loader))\n",
    "t_melodies, t_chords = next(iter(td_loader))\n",
    "print(t_melodies.shape)\n",
    "print(t_chords.shape)"
   ]
  },
  {
   "cell_type": "code",
   "execution_count": 11,
   "id": "4c7e83a8-aeec-401c-b6bc-e0225c3ab380",
   "metadata": {},
   "outputs": [
    {
     "name": "stdout",
     "output_type": "stream",
     "text": [
      "torch.Size([64, 129, 12])\n",
      "torch.Size([64, 129, 12])\n"
     ]
    }
   ],
   "source": [
    "b_melodies, b_chords = next(iter(bd_loader))\n",
    "print(b_melodies.shape)\n",
    "print(b_chords.shape)"
   ]
  },
  {
   "cell_type": "code",
   "execution_count": 12,
   "id": "a5191bfc-c3b7-4e7f-879c-24216b7e9cd1",
   "metadata": {},
   "outputs": [],
   "source": [
    "embedding = nn.Embedding(2**12, 512)\n",
    "linear = nn.Linear(12,512)"
   ]
  },
  {
   "cell_type": "code",
   "execution_count": 14,
   "id": "50d02236-80ff-4389-be64-8780e8cf3afe",
   "metadata": {},
   "outputs": [
    {
     "name": "stdout",
     "output_type": "stream",
     "text": [
      "torch.Size([64, 129, 512])\n"
     ]
    }
   ],
   "source": [
    "y_embedding = embedding(t_melodies)\n",
    "print(y_embedding.shape)"
   ]
  },
  {
   "cell_type": "code",
   "execution_count": 16,
   "id": "d831ae41-5435-41d1-86ee-5e85268cf5b0",
   "metadata": {},
   "outputs": [
    {
     "name": "stdout",
     "output_type": "stream",
     "text": [
      "torch.Size([64, 129, 512])\n"
     ]
    }
   ],
   "source": [
    "y_linear = linear(b_melodies)\n",
    "print(y_linear.shape)"
   ]
  }
 ],
 "metadata": {
  "kernelspec": {
   "display_name": "Python 3 (ipykernel)",
   "language": "python",
   "name": "python3"
  },
  "language_info": {
   "codemirror_mode": {
    "name": "ipython",
    "version": 3
   },
   "file_extension": ".py",
   "mimetype": "text/x-python",
   "name": "python",
   "nbconvert_exporter": "python",
   "pygments_lexer": "ipython3",
   "version": "3.11.6"
  }
 },
 "nbformat": 4,
 "nbformat_minor": 5
}
