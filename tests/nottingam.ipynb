{
 "cells": [
  {
   "cell_type": "code",
   "execution_count": 5,
   "metadata": {},
   "outputs": [],
   "source": [
    "import numpy as np\n",
    "import music21 as m21\n",
    "from tqdm import tqdm"
   ]
  },
  {
   "cell_type": "code",
   "execution_count": 6,
   "metadata": {},
   "outputs": [],
   "source": [
    "x = np.load('../data/nottingham/augmented_and_padded_data.npz')"
   ]
  },
  {
   "cell_type": "code",
   "execution_count": 7,
   "metadata": {},
   "outputs": [],
   "source": [
    "names = x['name']\n",
    "melody_pcps = x['melody_pcps']\n",
    "chord_pcps = x['chord_pcps']\n",
    "chord_roots = x['chord_roots']\n",
    "chord_types = x['chord_types']"
   ]
  },
  {
   "cell_type": "code",
   "execution_count": 8,
   "metadata": {},
   "outputs": [
    {
     "name": "stdout",
     "output_type": "stream",
     "text": [
      "(12252, 580, 12)\n"
     ]
    }
   ],
   "source": [
    "print(melody_pcps.shape)"
   ]
  },
  {
   "cell_type": "code",
   "execution_count": 9,
   "metadata": {},
   "outputs": [],
   "source": [
    "# key finding\n",
    "def tonality_from_pcp( pcp ):\n",
    "    major_profile = m21.analysis.discrete.KrumhanslSchmuckler().getWeights('major')\n",
    "    minor_profile = m21.analysis.discrete.KrumhanslSchmuckler().getWeights('minor')\n",
    "    major_corrs = np.zeros(12).astype(np.float32)\n",
    "    minor_corrs = np.zeros(12).astype(np.float32)\n",
    "    for i in range(12):\n",
    "        major_corrs[i] = np.corrcoef( pcp, np.roll( \n",
    "            major_profile, i ) )[0][1]\n",
    "        minor_corrs[i] = np.corrcoef( pcp, np.roll( \n",
    "            minor_profile, i ) )[0][1]\n",
    "    major_max_idx = np.argmax( major_corrs )\n",
    "    minor_max_idx = np.argmax( minor_corrs )\n",
    "    major_max = np.max( major_corrs )\n",
    "    minor_max = np.max( minor_corrs )\n",
    "    if major_max > minor_max:\n",
    "        return {'root': major_max_idx,\n",
    "                'mode': 'major',\n",
    "                'correlation': major_max}\n",
    "    else:\n",
    "        return {'root': minor_max_idx,\n",
    "                'mode': 'minor',\n",
    "                'correlation': minor_max}\n",
    "# end tonality_from_pcp"
   ]
  },
  {
   "cell_type": "code",
   "execution_count": 10,
   "metadata": {},
   "outputs": [
    {
     "name": "stderr",
     "output_type": "stream",
     "text": [
      "  0%|          | 0/12252 [00:00<?, ?it/s]"
     ]
    },
    {
     "name": "stderr",
     "output_type": "stream",
     "text": [
      " 13%|█▎        | 1615/12252 [00:05<00:39, 271.07it/s]/home/maximos/miniconda3/envs/torch/lib/python3.12/site-packages/numpy/lib/function_base.py:2897: RuntimeWarning: invalid value encountered in divide\n",
      "  c /= stddev[:, None]\n",
      "/home/maximos/miniconda3/envs/torch/lib/python3.12/site-packages/numpy/lib/function_base.py:2898: RuntimeWarning: invalid value encountered in divide\n",
      "  c /= stddev[None, :]\n",
      "100%|██████████| 12252/12252 [00:45<00:00, 268.79it/s]\n"
     ]
    }
   ],
   "source": [
    "# keep only c major pieces\n",
    "c_melody_pcps = []\n",
    "c_chord_pcps = []\n",
    "\n",
    "for i in tqdm(range(melody_pcps.shape[0])):\n",
    "    tm = tonality_from_pcp( np.sum(melody_pcps[i,:,:], axis=0) )\n",
    "    tc = tonality_from_pcp( np.sum(chord_pcps[i,:,:], axis=0) )\n",
    "    if tm['root'] == 0 and tm['mode'] == 'major' and tm['correlation'] > 0.8 and \\\n",
    "        tc['root'] == 0 and tc['mode'] == 'major' and tc['correlation'] > 0.8:\n",
    "        c_melody_pcps.append( melody_pcps[i,:,:] )\n",
    "        c_chord_pcps.append( chord_pcps[i,:,:] )\n",
    "\n",
    "# print( tonality_from_pcp( np.sum(melody_pcps[0,:,:], axis=0) ) )\n",
    "# print( tonality_from_pcp( np.sum(melody_pcps[1,:,:], axis=0) ) )\n",
    "# print( tonality_from_pcp( np.sum(melody_pcps[2,:,:], axis=0) ) )\n",
    "# print( np.sum(melody_pcps[0,:,:], axis=0) )"
   ]
  },
  {
   "cell_type": "code",
   "execution_count": 11,
   "metadata": {},
   "outputs": [
    {
     "name": "stdout",
     "output_type": "stream",
     "text": [
      "(526, 580, 12)\n",
      "(526, 580, 12)\n"
     ]
    }
   ],
   "source": [
    "c_mel_np = np.array( c_melody_pcps )\n",
    "print(c_mel_np.shape)\n",
    "c_chr_np = np.array( c_chord_pcps )\n",
    "print(c_chr_np.shape)"
   ]
  },
  {
   "cell_type": "code",
   "execution_count": 12,
   "metadata": {},
   "outputs": [],
   "source": [
    "np.savez('../data/nottingham_c_major.npz', melody_pcps=c_mel_np, chord_pcps=c_chr_np)"
   ]
  }
 ],
 "metadata": {
  "kernelspec": {
   "display_name": "torch",
   "language": "python",
   "name": "python3"
  },
  "language_info": {
   "codemirror_mode": {
    "name": "ipython",
    "version": 3
   },
   "file_extension": ".py",
   "mimetype": "text/x-python",
   "name": "python",
   "nbconvert_exporter": "python",
   "pygments_lexer": "ipython3",
   "version": "3.12.2"
  }
 },
 "nbformat": 4,
 "nbformat_minor": 2
}
