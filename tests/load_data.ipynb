{
 "cells": [
  {
   "cell_type": "code",
   "execution_count": 30,
   "id": "e8ea150f-507c-4b7f-82fb-c4c072d4ddda",
   "metadata": {},
   "outputs": [
    {
     "ename": "ImportError",
     "evalue": "attempted relative import with no known parent package",
     "output_type": "error",
     "traceback": [
      "\u001b[0;31m---------------------------------------------------------------------------\u001b[0m",
      "\u001b[0;31mImportError\u001b[0m                               Traceback (most recent call last)",
      "Cell \u001b[0;32mIn[30], line 2\u001b[0m\n\u001b[1;32m      1\u001b[0m \u001b[38;5;28;01mimport\u001b[39;00m \u001b[38;5;21;01mnumpy\u001b[39;00m \u001b[38;5;28;01mas\u001b[39;00m \u001b[38;5;21;01mnp\u001b[39;00m\n\u001b[0;32m----> 2\u001b[0m \u001b[38;5;28;01mfrom\u001b[39;00m \u001b[38;5;21;01m.\u001b[39;00m\u001b[38;5;21;01m.\u001b[39;00m\u001b[38;5;21;01mBinaryTokenizer\u001b[39;00m \u001b[38;5;28;01mimport\u001b[39;00m BinaryTokenizer\n",
      "\u001b[0;31mImportError\u001b[0m: attempted relative import with no known parent package"
     ]
    }
   ],
   "source": [
    "import sys\n",
    "sys.path.insert(0, '..')\n",
    "import numpy as np\n",
    "from BinaryTokenizer import BinaryTokenizer"
   ]
  },
  {
   "cell_type": "code",
   "execution_count": 10,
   "id": "aa3f7845-985e-4c14-a5b1-46366f192601",
   "metadata": {},
   "outputs": [
    {
     "name": "stdout",
     "output_type": "stream",
     "text": [
      "NpzFile '../data/augmented_and_padded_data.npz' with keys: melody_pcps, chord_pcps\n"
     ]
    }
   ],
   "source": [
    "data = np.load('../data/augmented_and_padded_data.npz')\n",
    "print(data)\n",
    "melody_pcps = data['melody_pcps']\n",
    "chord_pcps = data['chord_pcps']"
   ]
  },
  {
   "cell_type": "code",
   "execution_count": 25,
   "id": "0e8bb14f-cd89-4d31-8725-80b070e0c157",
   "metadata": {},
   "outputs": [
    {
     "name": "stdout",
     "output_type": "stream",
     "text": [
      "melody_pcps.shape:  (5328, 129, 12)\n",
      "chord_pcps.shape:  (5328, 129, 12)\n",
      "[[1 0 0 ... 1 0 0]\n",
      " [0 0 0 ... 0 0 1]\n",
      " [1 0 0 ... 1 0 0]\n",
      " ...\n",
      " [0 0 0 ... 0 0 0]\n",
      " [0 0 0 ... 0 0 0]\n",
      " [0 0 0 ... 0 0 0]]\n",
      "[[1 0 1 ... 1 0 0]\n",
      " [0 0 1 ... 0 0 1]\n",
      " [1 0 1 ... 1 0 0]\n",
      " ...\n",
      " [0 0 0 ... 0 0 0]\n",
      " [0 0 0 ... 0 0 0]\n",
      " [0 0 0 ... 0 0 0]]\n"
     ]
    }
   ],
   "source": [
    "print('melody_pcps.shape: ', melody_pcps.shape)\n",
    "print('chord_pcps.shape: ', chord_pcps.shape)\n",
    "print(melody_pcps[0,:,:])\n",
    "print(chord_pcps[0,:,:])"
   ]
  },
  {
   "cell_type": "code",
   "execution_count": 13,
   "id": "c7e17484-8fbc-4152-9c41-3c47c794ff9b",
   "metadata": {},
   "outputs": [],
   "source": [
    "binTok = BinaryTokenizer()"
   ]
  },
  {
   "cell_type": "code",
   "execution_count": 20,
   "id": "2a22d586-ab94-49d1-986d-491343bcc80a",
   "metadata": {},
   "outputs": [],
   "source": [
    "tok_melody = binTok.fit_transform( melody_pcps )\n",
    "tok_chord = binTok.fit_transform( chord_pcps )"
   ]
  },
  {
   "cell_type": "code",
   "execution_count": 24,
   "id": "388c9bfc-4c5e-4845-8147-683e7960e032",
   "metadata": {},
   "outputs": [
    {
     "name": "stdout",
     "output_type": "stream",
     "text": [
      "tok_melody.shape:  (5328, 129)\n",
      "tok_chord.shape:  (5328, 129)\n",
      "[2052    1 2052    1   17    4   17    4 2052    1 2052   17  128  128\n",
      " 1152  256 1152  256  257 1024  257 1024 1152  256 1152  257    8   16\n",
      " 2052    1 2052    1   17    4   17    4 2052    1 2052   17   16   16\n",
      "    4   16   64  128   16   64  640 2052    1 2052  129 2048 2048    0\n",
      "    0    0    0    0    0    0    0    0    0    0    0    0    0    0\n",
      "    0    0    0    0    0    0    0    0    0    0    0    0    0    0\n",
      "    0    0    0    0    0    0    0    0    0    0    0    0    0    0\n",
      "    0    0    0    0    0    0    0    0    0    0    0    0    0    0\n",
      "    0    0    0    0    0    0    0    0    0    0    0    0    0    0\n",
      "    0    0    0]\n",
      "[2628  593 2628  593 2193 2372  657 1172 2628  593 2628  593 2193 2193\n",
      " 1188  293 1188  293  393 1172  297 1097 1188  293 1188  293  393  593\n",
      " 2628  593 2628  593 2193 2372  657 1172 2628  593 2628  593  658 1174\n",
      " 2628 1170 2244 1170 2628 2628  586  657 2340 2628  593 2196 2196    0\n",
      "    0    0    0    0    0    0    0    0    0    0    0    0    0    0\n",
      "    0    0    0    0    0    0    0    0    0    0    0    0    0    0\n",
      "    0    0    0    0    0    0    0    0    0    0    0    0    0    0\n",
      "    0    0    0    0    0    0    0    0    0    0    0    0    0    0\n",
      "    0    0    0    0    0    0    0    0    0    0    0    0    0    0\n",
      "    0    0    0]\n"
     ]
    }
   ],
   "source": [
    "print('tok_melody.shape: ', tok_melody.shape)\n",
    "print('tok_chord.shape: ', tok_chord.shape)\n",
    "print(tok_melody[0,:])\n",
    "print(tok_chord[0,:])"
   ]
  }
 ],
 "metadata": {
  "kernelspec": {
   "display_name": "Python 3 (ipykernel)",
   "language": "python",
   "name": "python3"
  },
  "language_info": {
   "codemirror_mode": {
    "name": "ipython",
    "version": 3
   },
   "file_extension": ".py",
   "mimetype": "text/x-python",
   "name": "python",
   "nbconvert_exporter": "python",
   "pygments_lexer": "ipython3",
   "version": "3.11.6"
  }
 },
 "nbformat": 4,
 "nbformat_minor": 5
}
