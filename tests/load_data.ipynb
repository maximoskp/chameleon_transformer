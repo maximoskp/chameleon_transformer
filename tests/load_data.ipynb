{
 "cells": [
  {
   "cell_type": "code",
   "execution_count": 1,
   "id": "e8ea150f-507c-4b7f-82fb-c4c072d4ddda",
   "metadata": {},
   "outputs": [],
   "source": [
    "import sys\n",
    "sys.path.insert(0, '..')\n",
    "import numpy as np\n",
    "from BinaryTokenizer import BinaryTokenizer"
   ]
  },
  {
   "cell_type": "code",
   "execution_count": 2,
   "id": "aa3f7845-985e-4c14-a5b1-46366f192601",
   "metadata": {},
   "outputs": [
    {
     "name": "stdout",
     "output_type": "stream",
     "text": [
      "NpzFile '../data/augmented_and_padded_data.npz' with keys: melody_pcps, chord_pcps\n"
     ]
    }
   ],
   "source": [
    "data = np.load('../data/augmented_and_padded_data.npz')\n",
    "print(data)\n",
    "melody_pcps = data['melody_pcps']\n",
    "chord_pcps = data['chord_pcps']"
   ]
  },
  {
   "cell_type": "code",
   "execution_count": 3,
   "id": "0e8bb14f-cd89-4d31-8725-80b070e0c157",
   "metadata": {},
   "outputs": [
    {
     "name": "stdout",
     "output_type": "stream",
     "text": [
      "melody_pcps.shape:  (5328, 129, 12)\n",
      "chord_pcps.shape:  (5328, 129, 12)\n",
      "[[1 0 0 ... 1 0 0]\n",
      " [0 0 0 ... 0 0 1]\n",
      " [1 0 0 ... 1 0 0]\n",
      " ...\n",
      " [0 0 0 ... 0 0 0]\n",
      " [0 0 0 ... 0 0 0]\n",
      " [0 0 0 ... 0 0 0]]\n",
      "[[1 0 1 ... 1 0 0]\n",
      " [0 0 1 ... 0 0 1]\n",
      " [1 0 1 ... 1 0 0]\n",
      " ...\n",
      " [0 0 0 ... 0 0 0]\n",
      " [0 0 0 ... 0 0 0]\n",
      " [0 0 0 ... 0 0 0]]\n"
     ]
    }
   ],
   "source": [
    "print('melody_pcps.shape: ', melody_pcps.shape)\n",
    "print('chord_pcps.shape: ', chord_pcps.shape)\n",
    "print(melody_pcps[0,:,:])\n",
    "print(chord_pcps[0,:,:])"
   ]
  },
  {
   "cell_type": "code",
   "execution_count": 4,
   "id": "c7e17484-8fbc-4152-9c41-3c47c794ff9b",
   "metadata": {},
   "outputs": [],
   "source": [
    "binTok = BinaryTokenizer()"
   ]
  },
  {
   "cell_type": "code",
   "execution_count": 5,
   "id": "2a22d586-ab94-49d1-986d-491343bcc80a",
   "metadata": {},
   "outputs": [],
   "source": [
    "tok_melody = binTok.fit_transform( melody_pcps )\n",
    "tok_chord = binTok.fit_transform( chord_pcps )"
   ]
  },
  {
   "cell_type": "code",
   "execution_count": 6,
   "id": "388c9bfc-4c5e-4845-8147-683e7960e032",
   "metadata": {},
   "outputs": [
    {
     "name": "stdout",
     "output_type": "stream",
     "text": [
      "tok_melody.shape:  (5328, 129)\n",
      "tok_chord.shape:  (5328, 129)\n",
      "[2052    1 2052    1   17    4   17    4 2052    1 2052   17  128  128\n",
      " 1152  256 1152  256  257 1024  257 1024 1152  256 1152  257    8   16\n",
      " 2052    1 2052    1   17    4   17    4 2052    1 2052   17   16   16\n",
      "    4   16   64  128   16   64  640 2052    1 2052  129 2048 2048    0\n",
      "    0    0    0    0    0    0    0    0    0    0    0    0    0    0\n",
      "    0    0    0    0    0    0    0    0    0    0    0    0    0    0\n",
      "    0    0    0    0    0    0    0    0    0    0    0    0    0    0\n",
      "    0    0    0    0    0    0    0    0    0    0    0    0    0    0\n",
      "    0    0    0    0    0    0    0    0    0    0    0    0    0    0\n",
      "    0    0    0]\n",
      "[2628  593 2628  593 2193 2372  657 1172 2628  593 2628  593 2193 2193\n",
      " 1188  293 1188  293  393 1172  297 1097 1188  293 1188  293  393  593\n",
      " 2628  593 2628  593 2193 2372  657 1172 2628  593 2628  593  658 1174\n",
      " 2628 1170 2244 1170 2628 2628  586  657 2340 2628  593 2196 2196    0\n",
      "    0    0    0    0    0    0    0    0    0    0    0    0    0    0\n",
      "    0    0    0    0    0    0    0    0    0    0    0    0    0    0\n",
      "    0    0    0    0    0    0    0    0    0    0    0    0    0    0\n",
      "    0    0    0    0    0    0    0    0    0    0    0    0    0    0\n",
      "    0    0    0    0    0    0    0    0    0    0    0    0    0    0\n",
      "    0    0    0]\n"
     ]
    }
   ],
   "source": [
    "print('tok_melody.shape: ', tok_melody.shape)\n",
    "print('tok_chord.shape: ', tok_chord.shape)\n",
    "print(tok_melody[0,:])\n",
    "print(tok_chord[0,:])"
   ]
  },
  {
   "cell_type": "code",
   "execution_count": 43,
   "id": "a59b86a1-e6c4-428d-9863-0b6570bdf3a3",
   "metadata": {},
   "outputs": [
    {
     "name": "stdout",
     "output_type": "stream",
     "text": [
      "unique melody tokens:  2171  / 4096\n",
      "unique chord tokens:  1496  / 4096\n"
     ]
    }
   ],
   "source": [
    "# unique\n",
    "u_melody = np.unique( tok_melody )\n",
    "print('unique melody tokens: ', len(u_melody) , ' / 4096')\n",
    "u_chord = np.unique( tok_chord )\n",
    "print('unique chord tokens: ', len(u_chord) , ' / 4096')"
   ]
  },
  {
   "cell_type": "code",
   "execution_count": 24,
   "id": "890d5f07-82a4-47b7-8425-239e8f069305",
   "metadata": {},
   "outputs": [],
   "source": [
    "# check similarity between melody and chord pcps\n",
    "similarity_per_chord = []\n",
    "pc_chords_over_melodies_ratio = []\n",
    "for i in range(melody_pcps.shape[0]):\n",
    "    for j in range(melody_pcps.shape[1]):\n",
    "        if np.sum(melody_pcps[i,j,:]) > 0:\n",
    "            similarity_per_chord.append( np.sum(np.logical_and(melody_pcps[i,j,:], chord_pcps[i,j,:]))/np.sum(melody_pcps[i,j,:]) )\n",
    "            pc_chords_over_melodies_ratio.append( np.sum(chord_pcps[i,j,:])/np.sum(melody_pcps[i,j,:]) )"
   ]
  },
  {
   "cell_type": "code",
   "execution_count": 25,
   "id": "a6070ce0-75b5-4778-8b54-294d0b603168",
   "metadata": {},
   "outputs": [
    {
     "name": "stdout",
     "output_type": "stream",
     "text": [
      "0.7403842650937908\n",
      "2.4650007086821244\n"
     ]
    }
   ],
   "source": [
    "s = np.array(similarity_per_chord)\n",
    "r = np.array(pc_chords_over_melodies_ratio)\n",
    "print(np.mean(s))\n",
    "print(np.mean(r))"
   ]
  },
  {
   "cell_type": "code",
   "execution_count": 26,
   "id": "c1cd675d-bce9-41cc-bbe9-befe01b5bcc7",
   "metadata": {},
   "outputs": [],
   "source": [
    "import matplotlib.pyplot as plt"
   ]
  },
  {
   "cell_type": "code",
   "execution_count": 39,
   "id": "a1b5217c-6749-4b37-a83f-21debaa1b212",
   "metadata": {},
   "outputs": [
    {
     "data": {
      "image/png": "[encoded data removed]",
      "text/plain": [
       "<Figure size 640x480 with 1 Axes>"
      ]
     },
     "metadata": {},
     "output_type": "display_data"
    }
   ],
   "source": [
    "s_counts, s_bins = np.histogram(s, 20)\n",
    "s_hist = plt.hist(s_bins[:-1], s_bins, weights=s_counts)"
   ]
  },
  {
   "cell_type": "code",
   "execution_count": 40,
   "id": "20767a05-0d41-48ef-b229-5f7537a2e611",
   "metadata": {},
   "outputs": [
    {
     "data": {
      "image/png": "[encoded data removed]",
      "text/plain": [
       "<Figure size 640x480 with 1 Axes>"
      ]
     },
     "metadata": {},
     "output_type": "display_data"
    }
   ],
   "source": [
    "r_counts, r_bins = np.histogram(r, 20)\n",
    "r_hist = plt.hist(r_bins[:-1], r_bins, weights=r_counts)"
   ]
  }
 ],
 "metadata": {
  "kernelspec": {
   "display_name": "Python 3 (ipykernel)",
   "language": "python",
   "name": "python3"
  },
  "language_info": {
   "codemirror_mode": {
    "name": "ipython",
    "version": 3
   },
   "file_extension": ".py",
   "mimetype": "text/x-python",
   "name": "python",
   "nbconvert_exporter": "python",
   "pygments_lexer": "ipython3",
   "version": "3.11.6"
  }
 },
 "nbformat": 4,
 "nbformat_minor": 5
}
