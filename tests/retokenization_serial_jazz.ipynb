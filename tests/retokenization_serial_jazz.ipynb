{
 "cells": [
  {
   "cell_type": "code",
   "execution_count": 1,
   "id": "0ac19562-39bd-49aa-a0a0-2ec9ac034e35",
   "metadata": {},
   "outputs": [],
   "source": [
    "import numpy as np\n",
    "from tqdm import tqdm\n",
    "import sys\n",
    "sys.path.insert(0, '..')\n",
    "from data_utils.Datasets import BinarySerializer"
   ]
  },
  {
   "cell_type": "code",
   "execution_count": 2,
   "id": "e26fe882-d6aa-4a0c-b8e9-948ccddeb85e",
   "metadata": {},
   "outputs": [
    {
     "name": "stdout",
     "output_type": "stream",
     "text": [
      "['name', 'melody_pcps', 'chord_pcps', 'chord_roots', 'chord_types', 'measure_onsets']\n",
      "melody_pcps.shape:  (7800, 129, 12)\n",
      "chord_pcps.shape:  (7800, 129, 12)\n",
      "measure_onsets.shape:  (7800, 85)\n"
     ]
    }
   ],
   "source": [
    "# load data\n",
    "data_path = '../data/augmented_and_padded_data_650_songs_with_measure_info.npz'\n",
    "# data_path = '../data/augmented_and_padded_data.npz'\n",
    "# data_path = '../data/nottingham_c_major.npz'\n",
    "data = np.load(data_path)\n",
    "melody_pcps = data['melody_pcps']\n",
    "chord_pcps = data['chord_pcps']\n",
    "measure_onsets = data['measure_onsets']\n",
    "print(list(data.keys()))\n",
    "print('melody_pcps.shape: ', melody_pcps.shape)\n",
    "print('chord_pcps.shape: ', chord_pcps.shape)\n",
    "print('measure_onsets.shape: ', measure_onsets.shape)"
   ]
  },
  {
   "cell_type": "code",
   "execution_count": 3,
   "id": "5b574fc1-bb08-4159-807c-51e7c37f26c5",
   "metadata": {},
   "outputs": [
    {
     "data": {
      "text/plain": [
       "array([ 8, 15])"
      ]
     },
     "execution_count": 3,
     "metadata": {},
     "output_type": "execute_result"
    }
   ],
   "source": [
    "np.nonzero(melody_pcps[0,0,:])[0] + 6"
   ]
  },
  {
   "cell_type": "code",
   "execution_count": 4,
   "id": "0aea09de-bb23-4d48-a158-06ce4f39fd8c",
   "metadata": {},
   "outputs": [
    {
     "name": "stdout",
     "output_type": "stream",
     "text": [
      "[ 1 30  2  5 12 31  2  7 12 32  2  5  7 12 33  2  5  7 34  2  3 12 14 35\n",
      "  2  3 12 14 36  2  3  7 10 12 37  2  3 10 12 14 30  2  5 12 31  2  7 12\n",
      " 32  2  5  7 12 33  2  5  7 34  2  3 12 14 35  2  3 12 14 36  2 11 14  2\n",
      "  4  9 37  2  7  9 30  2  5 10 31  2  7  8 32  2  5 10 33  2  3  8 34  2\n",
      "  3  7 35  2  3  5 36  2  5  7  2  3 14 37  2 12 14  2 10 30  2  5 12 31\n",
      "  2  5  7 32  2  3 14  2  5  7 33  2  7 10 34  2  8  9 10 12 35  2  7  8\n",
      "  9 10 36  2  5  7  2  3  5 37  2  3 15 16 17 19 22 26 16 19 22 24 28 16\n",
      " 17 19 22 26 16 19 22 24 28 16 17 21 24 28 16 17 20 22 26 28 16 19 21 24\n",
      " 28 16 17 21 24 26 16 17 19 22 26 16 19 22 24 28 16 17 19 22 26 16 19 22\n",
      " 24 28 16 17 21 24 28 16 17 20 22 26 28 16 20 21 25 28 16 20 23 26 28 16\n",
      " 18 21 25 28 16 19 22 24 27 16 17 21 24 27 16 19 22 24 27 16 17 21 24 27\n",
      " 16 17 21 22 26 16 19 22 25 27 16 17 21 24 26 16 17 19 23 26 16 17 19 22\n",
      " 26 16 19 22 24 28 16 17 19 22 26 16 19 22 24 28 16 17 21 24 28 16 19 22\n",
      " 25 27 16 18 21 24 26 27 16 17 19 22 26 16 19 22 25 27 16 17 19 22 26 16\n",
      " 19 22 24 28 16 17 21 24 26 29] [-100 -100 -100 -100 -100 -100 -100 -100 -100 -100 -100 -100 -100 -100\n",
      " -100 -100 -100 -100 -100 -100 -100 -100 -100 -100 -100 -100 -100 -100\n",
      " -100 -100 -100 -100 -100 -100 -100 -100 -100 -100 -100 -100 -100 -100\n",
      " -100 -100 -100 -100 -100 -100 -100 -100 -100 -100 -100 -100 -100 -100\n",
      " -100 -100 -100 -100 -100 -100 -100 -100 -100 -100 -100 -100 -100 -100\n",
      " -100 -100 -100 -100 -100 -100 -100 -100 -100 -100 -100 -100 -100 -100\n",
      " -100 -100 -100 -100 -100 -100 -100 -100 -100 -100 -100 -100 -100 -100\n",
      " -100 -100 -100 -100 -100 -100 -100 -100 -100 -100 -100 -100 -100 -100\n",
      " -100 -100 -100 -100 -100 -100 -100 -100 -100 -100 -100 -100 -100 -100\n",
      " -100 -100 -100 -100 -100 -100 -100 -100 -100 -100 -100 -100 -100 -100\n",
      " -100 -100 -100 -100 -100 -100 -100 -100 -100 -100 -100 -100 -100 -100\n",
      " -100   15   16   17   19   22   26   16   19   22   24   28   16   17\n",
      "   19   22   26   16   19   22   24   28   16   17   21   24   28   16\n",
      "   17   20   22   26   28   16   19   21   24   28   16   17   21   24\n",
      "   26   16   17   19   22   26   16   19   22   24   28   16   17   19\n",
      "   22   26   16   19   22   24   28   16   17   21   24   28   16   17\n",
      "   20   22   26   28   16   20   21   25   28   16   20   23   26   28\n",
      "   16   18   21   25   28   16   19   22   24   27   16   17   21   24\n",
      "   27   16   19   22   24   27   16   17   21   24   27   16   17   21\n",
      "   22   26   16   19   22   25   27   16   17   21   24   26   16   17\n",
      "   19   23   26   16   17   19   22   26   16   19   22   24   28   16\n",
      "   17   19   22   26   16   19   22   24   28   16   17   21   24   28\n",
      "   16   19   22   25   27   16   18   21   24   26   27   16   17   19\n",
      "   22   26   16   19   22   25   27   16   17   19   22   26   16   19\n",
      "   22   24   28   16   17   21   24   26   29]\n"
     ]
    }
   ],
   "source": [
    "binser = BinarySerializer(left_padding=False)\n",
    "s, t = binser.sequence_serialization( melody_pcps[0,:,:], chord_pcps[0,:,:], measure_onsets[0,:] )\n",
    "print(s, t)"
   ]
  },
  {
   "cell_type": "code",
   "execution_count": 5,
   "id": "d3c5ce87-202b-468f-a9e2-756900e85d79",
   "metadata": {},
   "outputs": [
    {
     "name": "stderr",
     "output_type": "stream",
     "text": [
      "100%|██████████| 7800/7800 [00:04<00:00, 1566.06it/s]\n"
     ]
    }
   ],
   "source": [
    "binser = BinarySerializer(left_padding=False)\n",
    "serialized_data = []\n",
    "for i in tqdm(range(melody_pcps.shape[0])):\n",
    "    s, t = binser.sequence_serialization( melody_pcps[i,:,:], chord_pcps[i,:,:], measure_onsets[i,:] )\n",
    "    serialized_data.append( s )"
   ]
  },
  {
   "cell_type": "code",
   "execution_count": 6,
   "id": "bdf4dd94-3554-4c0d-a4c1-6c8c32712230",
   "metadata": {},
   "outputs": [
    {
     "name": "stdout",
     "output_type": "stream",
     "text": [
      "1121\n",
      "7800\n"
     ]
    }
   ],
   "source": [
    "print(binser.max_seq_length)\n",
    "print(len(serialized_data))"
   ]
  },
  {
   "cell_type": "code",
   "execution_count": 7,
   "id": "2d996cbd-710f-4266-aeb8-83af3b0b0be9",
   "metadata": {},
   "outputs": [
    {
     "name": "stdout",
     "output_type": "stream",
     "text": [
      "37\n"
     ]
    }
   ],
   "source": [
    "m = 0\n",
    "# print(serialized_data[0])\n",
    "for s in serialized_data:\n",
    "    if np.max(s) > m:\n",
    "        m = np.max(s)\n",
    "print(m)"
   ]
  },
  {
   "cell_type": "code",
   "execution_count": 8,
   "id": "327f68fc-0b83-4ed6-8fd0-418b51225ab9",
   "metadata": {},
   "outputs": [],
   "source": [
    "import pickle\n",
    "\n",
    "with open('serializer_jazz.pkl', 'wb') as outp:\n",
    "    pickle.dump(binser, outp, pickle.HIGHEST_PROTOCOL)"
   ]
  }
 ],
 "metadata": {
  "kernelspec": {
   "display_name": "Python 3 (ipykernel)",
   "language": "python",
   "name": "python3"
  },
  "language_info": {
   "codemirror_mode": {
    "name": "ipython",
    "version": 3
   },
   "file_extension": ".py",
   "mimetype": "text/x-python",
   "name": "python",
   "nbconvert_exporter": "python",
   "pygments_lexer": "ipython3",
   "version": "3.12.2"
  }
 },
 "nbformat": 4,
 "nbformat_minor": 5
}
