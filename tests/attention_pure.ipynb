{
 "cells": [
  {
   "cell_type": "code",
   "execution_count": 1,
   "id": "dab39bda-4026-469b-9080-1f6ee350769a",
   "metadata": {},
   "outputs": [],
   "source": [
    "import sys\n",
    "sys.path.insert(0, '..')\n",
    "# from transformer.models import DecoderOnlyModel\n",
    "from data_utils.Datasets import SerializedConcatDataset, PermSerializedConcatDataset, BinarySerializer\n",
    "import pickle\n",
    "import torch\n",
    "import numpy as np\n",
    "import os\n",
    "\n",
    "from transformers import AutoConfig, GPT2LMHeadModel\n",
    "\n",
    "from bertviz import model_view\n",
    "\n",
    "import matplotlib.pyplot as plt\n",
    "import networkx as nx\n",
    "\n",
    "import pandas\n",
    "from collections import Counter\n",
    "\n",
    "import music21 as m21"
   ]
  },
  {
   "cell_type": "code",
   "execution_count": 2,
   "id": "257e3420-a549-4bd4-a134-bd9010e01fe8",
   "metadata": {},
   "outputs": [
    {
     "data": {
      "text/plain": [
       "GPT2LMHeadModel(\n",
       "  (transformer): GPT2Model(\n",
       "    (wte): Embedding(30, 256)\n",
       "    (wpe): Embedding(3795, 256)\n",
       "    (drop): Dropout(p=0.1, inplace=False)\n",
       "    (h): ModuleList(\n",
       "      (0-1): 2 x GPT2Block(\n",
       "        (ln_1): LayerNorm((256,), eps=1e-05, elementwise_affine=True)\n",
       "        (attn): GPT2Attention(\n",
       "          (c_attn): Conv1D()\n",
       "          (c_proj): Conv1D()\n",
       "          (attn_dropout): Dropout(p=0.1, inplace=False)\n",
       "          (resid_dropout): Dropout(p=0.1, inplace=False)\n",
       "        )\n",
       "        (ln_2): LayerNorm((256,), eps=1e-05, elementwise_affine=True)\n",
       "        (mlp): GPT2MLP(\n",
       "          (c_fc): Conv1D()\n",
       "          (c_proj): Conv1D()\n",
       "          (act): NewGELUActivation()\n",
       "          (dropout): Dropout(p=0.1, inplace=False)\n",
       "        )\n",
       "      )\n",
       "    )\n",
       "    (ln_f): LayerNorm((256,), eps=1e-05, elementwise_affine=True)\n",
       "  )\n",
       "  (lm_head): Linear(in_features=256, out_features=30, bias=False)\n",
       ")"
      ]
     },
     "execution_count": 2,
     "metadata": {},
     "output_type": "execute_result"
    }
   ],
   "source": [
    "with open('serializer.pkl', 'rb') as inp:\n",
    "    binser = pickle.load(inp)\n",
    "\n",
    "binser2 = BinarySerializer()\n",
    "\n",
    "# define model\n",
    "vocab_size = binser.vocab_size\n",
    "d_model = 256\n",
    "num_heads = 2\n",
    "num_layers = 2\n",
    "d_ff = 256\n",
    "max_seq_length = binser.max_seq_length\n",
    "dropout = 0.3\n",
    "\n",
    "# dev = torch.device(\"cuda:0\" if torch.cuda.is_available() else \"cpu\")\n",
    "dev = torch.device(\"cpu\")\n",
    "\n",
    "config = AutoConfig.from_pretrained(\n",
    "    \"gpt2\",\n",
    "    vocab_size=vocab_size,\n",
    "    n_positions=max_seq_length,\n",
    "    n_layer=num_layers,\n",
    "    n_head=num_heads,\n",
    "    pad_token_id=binser.padding,\n",
    "    bos_token_id=binser.padding,\n",
    "    eos_token_id=binser.padding,\n",
    "    n_embd=d_ff\n",
    ")\n",
    "transformer = GPT2LMHeadModel(config).to(dev)\n",
    "\n",
    "transformer = transformer.to(dev)\n",
    "\n",
    "transformer = transformer.to(dev)\n",
    "\n",
    "saved_model_path = '../saved_models/melboost_cmaj_GPT2_serialized/melboost_cmaj_GPT2_serialized.pt'\n",
    "transformer.load_state_dict(torch.load(saved_model_path), strict=False)\n",
    "\n",
    "transformer.eval()"
   ]
  },
  {
   "cell_type": "code",
   "execution_count": 25,
   "id": "d84ee3c0-116d-4d85-a291-eb0aa246b584",
   "metadata": {},
   "outputs": [],
   "source": [
    "# inp = torch.from_numpy( np.r_[np.arange(30), np.arange(30), np.arange(30), np.arange(30)] ).to(dev)\n",
    "inp = torch.from_numpy( 2*np.ones(30).astype(int) ).to(dev)\n",
    "output = transformer(inp, attention_mask=inp != 0, output_attentions=True)\n",
    "a = output.attentions"
   ]
  },
  {
   "cell_type": "code",
   "execution_count": 26,
   "id": "51e10294-1402-400e-9aa2-254032866490",
   "metadata": {},
   "outputs": [
    {
     "data": {
      "image/png": "[encoded data removed]",
      "text/plain": [
       "<Figure size 640x480 with 4 Axes>"
      ]
     },
     "metadata": {
      "image/png": {
       "height": 389,
       "width": 458
      }
     },
     "output_type": "display_data"
    }
   ],
   "source": [
    "for l in range(2):\n",
    "    for h in range(2):\n",
    "        a_np = a[l][0,h,:,:].cpu().detach().numpy()\n",
    "        # print( np.sum(a_np, axis=1) ) # indeed add to 1\n",
    "        plt.subplot(2,2,2*l+h+1)\n",
    "        # find mean per row\n",
    "        m = np.mean( a_np, axis=1 )\n",
    "        # plot values in each row larger than the values in each row\n",
    "        # plt.imshow( a_np > m[:,None], cmap='gray_r' )\n",
    "        plt.imshow( a_np , cmap='gray_r' )\n",
    "        # plt.plot([a_np.shape[3], a_np.shape[3]],[0, a_np.shape[3]], 'r')\n",
    "        plt.xticks([])\n",
    "        plt.yticks([])"
   ]
  }
 ],
 "metadata": {
  "kernelspec": {
   "display_name": "Python 3 (ipykernel)",
   "language": "python",
   "name": "python3"
  },
  "language_info": {
   "codemirror_mode": {
    "name": "ipython",
    "version": 3
   },
   "file_extension": ".py",
   "mimetype": "text/x-python",
   "name": "python",
   "nbconvert_exporter": "python",
   "pygments_lexer": "ipython3",
   "version": "3.11.6"
  }
 },
 "nbformat": 4,
 "nbformat_minor": 5
}
