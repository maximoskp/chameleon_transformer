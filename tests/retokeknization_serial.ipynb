{
 "cells": [
  {
   "cell_type": "code",
   "execution_count": 1,
   "id": "0ac19562-39bd-49aa-a0a0-2ec9ac034e35",
   "metadata": {},
   "outputs": [],
   "source": [
    "import numpy as np\n",
    "from tqdm import tqdm"
   ]
  },
  {
   "cell_type": "code",
   "execution_count": 2,
   "id": "e26fe882-d6aa-4a0c-b8e9-948ccddeb85e",
   "metadata": {},
   "outputs": [
    {
     "name": "stdout",
     "output_type": "stream",
     "text": [
      "melody_pcps.shape:  (5328, 129, 12)\n",
      "chord_pcps.shape:  (5328, 129, 12)\n"
     ]
    }
   ],
   "source": [
    "# load data\n",
    "data_path = '../data/augmented_and_padded_data.npz'\n",
    "data = np.load(data_path)\n",
    "melody_pcps = data['melody_pcps']\n",
    "chord_pcps = data['chord_pcps']\n",
    "print('melody_pcps.shape: ', melody_pcps.shape)\n",
    "print('chord_pcps.shape: ', chord_pcps.shape)"
   ]
  },
  {
   "cell_type": "code",
   "execution_count": 15,
   "id": "5b574fc1-bb08-4159-807c-51e7c37f26c5",
   "metadata": {},
   "outputs": [
    {
     "data": {
      "text/plain": [
       "array([ 6, 15])"
      ]
     },
     "execution_count": 15,
     "metadata": {},
     "output_type": "execute_result"
    }
   ],
   "source": [
    "np.nonzero(melody_pcps[0,0,:])[0] + 6"
   ]
  },
  {
   "cell_type": "code",
   "execution_count": 21,
   "id": "2354b531-650d-4e3e-892e-57305b539cef",
   "metadata": {},
   "outputs": [],
   "source": [
    "class BinarySerializer:\n",
    "    def __init__(self, pad_to_length=0):\n",
    "        '''\n",
    "        0: padding\n",
    "        1: start_melody\n",
    "        2: melody segment seperator\n",
    "        3: chord segment separator\n",
    "        4: start harmonizing\n",
    "        5: end harmonizing\n",
    "        6 to 6+11=17: melody pitch class\n",
    "        18 to 18+11=29: chord pitch class\n",
    "        \n",
    "        vocab_size = 30\n",
    "        '''\n",
    "        self.padding = 0\n",
    "        self.start_melody = 1\n",
    "        self.melody_segment_separator = 2\n",
    "        self.chord_segment_separator = 3\n",
    "        self.start_harmonizing = 4\n",
    "        self.end_harmonizing = 5\n",
    "        self.melody_offset = 6\n",
    "        self.chord_offset = 18\n",
    "        self.max_seq_length = 0\n",
    "        self.pad_to_length = pad_to_length\n",
    "        self.vocab_size = 30\n",
    "    # end init\n",
    "    def sequence_serialization(self, melody, chords):\n",
    "        t = []\n",
    "        t.append(self.start_melody)\n",
    "        for i in range(melody.shape[0]):\n",
    "            # check if melody pcs exist\n",
    "            m = melody[i,:]\n",
    "            nzm = np.nonzero(m)[0]\n",
    "            if len(nzm) > 0:\n",
    "                t.append( self.melody_segment_separator )\n",
    "                t.extend( nzm + self.melody_offset )\n",
    "        t.append(self.start_harmonizing)\n",
    "        for i in range(chords.shape[0]):\n",
    "            # check if chord pcs exist\n",
    "            c = chords[i,:]\n",
    "            nzc = np.nonzero(c)[0]\n",
    "            if len(nzc) > 0:\n",
    "                t.append( self.chord_segment_separator )\n",
    "                t.extend( nzc + self.chord_offset )\n",
    "        t.append(self.end_harmonizing)\n",
    "        if len(t) > self.max_seq_length:\n",
    "            self.max_seq_length = len(t)\n",
    "        while self.pad_to_length > len(t):\n",
    "            t.append(self.padding)\n",
    "        return t\n",
    "    # end sequence_serialization\n",
    "# end class BinarySerializer"
   ]
  },
  {
   "cell_type": "code",
   "execution_count": 22,
   "id": "0aea09de-bb23-4d48-a158-06ce4f39fd8c",
   "metadata": {},
   "outputs": [
    {
     "name": "stdout",
     "output_type": "stream",
     "text": [
      "[1, 2, 6, 15, 2, 17, 2, 6, 15, 2, 17, 2, 13, 17, 2, 15, 2, 13, 17, 2, 15, 2, 6, 15, 2, 17, 2, 6, 15, 2, 13, 17, 2, 10, 2, 10, 2, 7, 10, 2, 9, 2, 7, 10, 2, 9, 2, 9, 17, 2, 7, 2, 9, 17, 2, 7, 2, 7, 10, 2, 9, 2, 7, 10, 2, 9, 17, 2, 14, 2, 13, 2, 6, 15, 2, 17, 2, 6, 15, 2, 17, 2, 13, 17, 2, 15, 2, 13, 17, 2, 15, 2, 6, 15, 2, 17, 2, 6, 15, 2, 13, 17, 2, 13, 2, 13, 2, 15, 2, 13, 2, 11, 2, 10, 2, 13, 2, 11, 2, 8, 10, 2, 6, 15, 2, 17, 2, 6, 15, 2, 10, 17, 2, 6, 2, 6, 4, 3, 18, 20, 23, 27, 3, 20, 23, 25, 29, 3, 18, 20, 23, 27, 3, 20, 23, 25, 29, 3, 18, 22, 25, 29, 3, 18, 21, 23, 27, 3, 20, 22, 25, 29, 3, 19, 22, 25, 27, 3, 18, 20, 23, 27, 3, 20, 23, 25, 29, 3, 18, 20, 23, 27, 3, 20, 23, 25, 29, 3, 18, 22, 25, 29, 3, 18, 22, 25, 29, 3, 19, 22, 24, 27, 3, 21, 24, 27, 29, 3, 19, 22, 24, 27, 3, 21, 24, 27, 29, 3, 21, 22, 26, 29, 3, 19, 22, 25, 27, 3, 21, 24, 26, 29, 3, 19, 23, 26, 29, 3, 19, 22, 24, 27, 3, 21, 24, 27, 29, 3, 19, 22, 24, 27, 3, 21, 24, 27, 29, 3, 21, 22, 26, 29, 3, 20, 23, 25, 29, 3, 18, 20, 23, 27, 3, 20, 23, 25, 29, 3, 18, 20, 23, 27, 3, 20, 23, 25, 29, 3, 18, 22, 25, 29, 3, 18, 21, 23, 27, 3, 20, 22, 25, 29, 3, 19, 22, 25, 27, 3, 18, 20, 23, 27, 3, 20, 23, 25, 29, 3, 18, 20, 23, 27, 3, 20, 23, 25, 29, 3, 20, 22, 25, 28, 3, 19, 22, 25, 27, 28, 3, 18, 20, 23, 27, 3, 19, 22, 25, 28, 3, 18, 22, 23, 27, 3, 19, 22, 25, 28, 3, 18, 20, 23, 27, 3, 18, 20, 23, 27, 3, 20, 23, 26, 28, 3, 20, 22, 25, 29, 3, 18, 21, 24, 27, 3, 18, 20, 23, 27, 3, 20, 23, 25, 29, 3, 18, 22, 25, 27, 3, 18, 22, 25, 27, 5]\n"
     ]
    }
   ],
   "source": [
    "binser = BinarySerializer()\n",
    "s = binser.sequence_serialization( melody_pcps[0,:,:], chord_pcps[0,:,:] )\n",
    "print(s)"
   ]
  },
  {
   "cell_type": "code",
   "execution_count": 23,
   "id": "d3c5ce87-202b-468f-a9e2-756900e85d79",
   "metadata": {},
   "outputs": [
    {
     "name": "stderr",
     "output_type": "stream",
     "text": [
      "100%|████████████████████████████████████████████████████████████████████████████████████████████████████████████████████████████| 5328/5328 [00:01<00:00, 3625.90it/s]\n"
     ]
    }
   ],
   "source": [
    "binser = BinarySerializer()\n",
    "serialized_data = []\n",
    "for i in tqdm(range(melody_pcps.shape[0])):\n",
    "    serialized_data.append( binser.sequence_serialization( melody_pcps[i,:,:], chord_pcps[i,:,:] ) )"
   ]
  },
  {
   "cell_type": "code",
   "execution_count": 24,
   "id": "bdf4dd94-3554-4c0d-a4c1-6c8c32712230",
   "metadata": {},
   "outputs": [
    {
     "name": "stdout",
     "output_type": "stream",
     "text": [
      "1063\n",
      "5328\n"
     ]
    }
   ],
   "source": [
    "print(binser.max_seq_length)\n",
    "print(len(serialized_data))"
   ]
  },
  {
   "cell_type": "code",
   "execution_count": 29,
   "id": "2d996cbd-710f-4266-aeb8-83af3b0b0be9",
   "metadata": {},
   "outputs": [
    {
     "name": "stdout",
     "output_type": "stream",
     "text": [
      "29\n"
     ]
    }
   ],
   "source": [
    "m = 0\n",
    "# print(serialized_data[0])\n",
    "for s in serialized_data:\n",
    "    if np.max(s) > m:\n",
    "        m = np.max(s)\n",
    "print(m)"
   ]
  },
  {
   "cell_type": "code",
   "execution_count": 30,
   "id": "327f68fc-0b83-4ed6-8fd0-418b51225ab9",
   "metadata": {},
   "outputs": [],
   "source": [
    "import pickle\n",
    "\n",
    "with open('serializer.pkl', 'wb') as outp:\n",
    "    pickle.dump(binser, outp, pickle.HIGHEST_PROTOCOL)"
   ]
  }
 ],
 "metadata": {
  "kernelspec": {
   "display_name": "Python 3 (ipykernel)",
   "language": "python",
   "name": "python3"
  },
  "language_info": {
   "codemirror_mode": {
    "name": "ipython",
    "version": 3
   },
   "file_extension": ".py",
   "mimetype": "text/x-python",
   "name": "python",
   "nbconvert_exporter": "python",
   "pygments_lexer": "ipython3",
   "version": "3.11.6"
  }
 },
 "nbformat": 4,
 "nbformat_minor": 5
}
