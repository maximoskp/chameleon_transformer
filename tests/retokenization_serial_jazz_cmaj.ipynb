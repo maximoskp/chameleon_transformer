{
 "cells": [
  {
   "cell_type": "code",
   "execution_count": 1,
   "id": "0ac19562-39bd-49aa-a0a0-2ec9ac034e35",
   "metadata": {},
   "outputs": [],
   "source": [
    "import numpy as np\n",
    "from tqdm import tqdm\n",
    "import sys\n",
    "sys.path.insert(0, '..')\n",
    "from data_utils.Datasets import BinarySerializer"
   ]
  },
  {
   "cell_type": "code",
   "execution_count": 2,
   "id": "e26fe882-d6aa-4a0c-b8e9-948ccddeb85e",
   "metadata": {},
   "outputs": [
    {
     "name": "stdout",
     "output_type": "stream",
     "text": [
      "['melody_pcps', 'chord_pcps', 'measure_onsets']\n",
      "melody_pcps.shape:  (172, 129, 12)\n",
      "chord_pcps.shape:  (172, 129, 12)\n",
      "measure_onsets.shape:  (172, 68)\n"
     ]
    }
   ],
   "source": [
    "# load data\n",
    "data_path = '../data/jazz_c_major_bars.npz'\n",
    "# data_path = '../data/augmented_and_padded_data.npz'\n",
    "# data_path = '../data/nottingham_c_major.npz'\n",
    "data = np.load(data_path)\n",
    "melody_pcps = data['melody_pcps']\n",
    "chord_pcps = data['chord_pcps']\n",
    "measure_onsets = data['measure_onsets']\n",
    "print(list(data.keys()))\n",
    "print('melody_pcps.shape: ', melody_pcps.shape)\n",
    "print('chord_pcps.shape: ', chord_pcps.shape)\n",
    "print('measure_onsets.shape: ', measure_onsets.shape)"
   ]
  },
  {
   "cell_type": "code",
   "execution_count": 3,
   "id": "5b574fc1-bb08-4159-807c-51e7c37f26c5",
   "metadata": {},
   "outputs": [
    {
     "data": {
      "text/plain": [
       "array([ 6, 10, 13, 15])"
      ]
     },
     "execution_count": 3,
     "metadata": {},
     "output_type": "execute_result"
    }
   ],
   "source": [
    "np.nonzero(melody_pcps[0,0,:])[0] + 6"
   ]
  },
  {
   "cell_type": "code",
   "execution_count": 4,
   "id": "0aea09de-bb23-4d48-a158-06ce4f39fd8c",
   "metadata": {},
   "outputs": [
    {
     "name": "stdout",
     "output_type": "stream",
     "text": [
      "[ 1 30  2  3  7 10 12 31  2  3  7 10 12 32  2  3  6  8 10 12  2  3  6  9\n",
      " 12 33  2  3 10 12 34  2  3  7 10 12 35  2  3  7 10 12 36  2  3  5  9 12\n",
      " 37  2  3 10 12 30  2  3  7 10 12 31  2  3  7 10 13 32  2  3  5  8 12 33\n",
      "  2  3 34  2  3  7  8 12  2  3  6  9 12 35  2  3  7 10  2 12 36  2  3  5\n",
      "  8 12  2  5  8 10 14 37  2  3 10 12 15 16 17 21 24 26 16 17 21 24 26 16\n",
      " 17 20 22 24 26 16 17 20 23 26 16 17 21 24 26 16 17 21 24 26 16 17 21 24\n",
      " 26 16 17 19 23 26 16 19 22 24 28 16 17 21 24 26 16 17 21 24 27 16 17 19\n",
      " 22 26 16 19 21 25 28 16 17 21 22 26 16 17 20 23 26 16 17 21 24 16 18 21\n",
      " 24 26 16 17 19 22 26 16 19 22 24 28 16 17 21 24 26 29] [-100 -100 -100 -100 -100 -100 -100 -100 -100 -100 -100 -100 -100 -100\n",
      " -100 -100 -100 -100 -100 -100 -100 -100 -100 -100 -100 -100 -100 -100\n",
      " -100 -100 -100 -100 -100 -100 -100 -100 -100 -100 -100 -100 -100 -100\n",
      " -100 -100 -100 -100 -100 -100 -100 -100 -100 -100 -100 -100 -100 -100\n",
      " -100 -100 -100 -100 -100 -100 -100 -100 -100 -100 -100 -100 -100 -100\n",
      " -100 -100 -100 -100 -100 -100 -100 -100 -100 -100 -100 -100 -100 -100\n",
      " -100 -100 -100 -100 -100 -100 -100 -100 -100 -100 -100 -100 -100 -100\n",
      " -100 -100 -100 -100 -100 -100 -100 -100 -100   15   16   17   21   24\n",
      "   26   16   17   21   24   26   16   17   20   22   24   26   16   17\n",
      "   20   23   26   16   17   21   24   26   16   17   21   24   26   16\n",
      "   17   21   24   26   16   17   19   23   26   16   19   22   24   28\n",
      "   16   17   21   24   26   16   17   21   24   27   16   17   19   22\n",
      "   26   16   19   21   25   28   16   17   21   22   26   16   17   20\n",
      "   23   26   16   17   21   24   16   18   21   24   26   16   17   19\n",
      "   22   26   16   19   22   24   28   16   17   21   24   26   29]\n"
     ]
    }
   ],
   "source": [
    "binser = BinarySerializer(left_padding=False)\n",
    "s, t = binser.sequence_serialization( melody_pcps[0,:,:], chord_pcps[0,:,:], measure_onsets[0,:] )\n",
    "print(s, t)"
   ]
  },
  {
   "cell_type": "code",
   "execution_count": 5,
   "id": "d3c5ce87-202b-468f-a9e2-756900e85d79",
   "metadata": {},
   "outputs": [
    {
     "name": "stderr",
     "output_type": "stream",
     "text": [
      "100%|██████████| 172/172 [00:00<00:00, 2093.17it/s]\n"
     ]
    }
   ],
   "source": [
    "binser = BinarySerializer(left_padding=False)\n",
    "serialized_data = []\n",
    "for i in tqdm(range(melody_pcps.shape[0])):\n",
    "    s, t = binser.sequence_serialization( melody_pcps[i,:,:], chord_pcps[i,:,:], measure_onsets[i,:] )\n",
    "    serialized_data.append( s )"
   ]
  },
  {
   "cell_type": "code",
   "execution_count": 6,
   "id": "bdf4dd94-3554-4c0d-a4c1-6c8c32712230",
   "metadata": {},
   "outputs": [
    {
     "name": "stdout",
     "output_type": "stream",
     "text": [
      "699\n",
      "172\n"
     ]
    }
   ],
   "source": [
    "print(binser.max_seq_length)\n",
    "print(len(serialized_data))"
   ]
  },
  {
   "cell_type": "code",
   "execution_count": 7,
   "id": "2d996cbd-710f-4266-aeb8-83af3b0b0be9",
   "metadata": {},
   "outputs": [
    {
     "name": "stdout",
     "output_type": "stream",
     "text": [
      "37\n"
     ]
    }
   ],
   "source": [
    "m = 0\n",
    "# print(serialized_data[0])\n",
    "for s in serialized_data:\n",
    "    if np.max(s) > m:\n",
    "        m = np.max(s)\n",
    "print(m)"
   ]
  },
  {
   "cell_type": "code",
   "execution_count": 8,
   "id": "327f68fc-0b83-4ed6-8fd0-418b51225ab9",
   "metadata": {},
   "outputs": [],
   "source": [
    "import pickle\n",
    "\n",
    "with open('serializer_jazz_cmaj.pkl', 'wb') as outp:\n",
    "    pickle.dump(binser, outp, pickle.HIGHEST_PROTOCOL)"
   ]
  }
 ],
 "metadata": {
  "kernelspec": {
   "display_name": "Python 3 (ipykernel)",
   "language": "python",
   "name": "python3"
  },
  "language_info": {
   "codemirror_mode": {
    "name": "ipython",
    "version": 3
   },
   "file_extension": ".py",
   "mimetype": "text/x-python",
   "name": "python",
   "nbconvert_exporter": "python",
   "pygments_lexer": "ipython3",
   "version": "3.11.6"
  }
 },
 "nbformat": 4,
 "nbformat_minor": 5
}
