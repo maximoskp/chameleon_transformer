{
 "cells": [
  {
   "cell_type": "code",
   "execution_count": 19,
   "id": "ab972478-dd32-43ec-83f9-5f73a636ac9a",
   "metadata": {},
   "outputs": [],
   "source": [
    "import sys\n",
    "sys.path.insert(0, '..')\n",
    "from transformer.models import DecoderOnlyModel\n",
    "from data_utils.Datasets import SerializedConcatDataset, PermSerializedConcatDataset, BinarySerializer\n",
    "import pickle\n",
    "import torch\n",
    "import numpy as np"
   ]
  },
  {
   "cell_type": "code",
   "execution_count": 32,
   "id": "8e8492e1-907a-49ab-8a62-14a1652edf48",
   "metadata": {},
   "outputs": [
    {
     "data": {
      "text/plain": [
       "DecoderOnlyModel(\n",
       "  (decoder_embedding): Embedding(30, 512)\n",
       "  (positional_encoding): PositionalEncoding()\n",
       "  (decoder_layers): ModuleList(\n",
       "    (0-7): 8 x DecoderOnlyLayer(\n",
       "      (self_attn): MultiHeadAttention(\n",
       "        (W_q): Linear(in_features=512, out_features=512, bias=True)\n",
       "        (W_k): Linear(in_features=512, out_features=512, bias=True)\n",
       "        (W_v): Linear(in_features=512, out_features=512, bias=True)\n",
       "        (W_o): Linear(in_features=512, out_features=512, bias=True)\n",
       "      )\n",
       "      (feed_forward): PositionWiseFeedForward(\n",
       "        (fc1): Linear(in_features=512, out_features=512, bias=True)\n",
       "        (fc2): Linear(in_features=512, out_features=512, bias=True)\n",
       "        (relu): ReLU()\n",
       "      )\n",
       "      (norm1): LayerNorm((512,), eps=1e-05, elementwise_affine=True)\n",
       "      (norm2): LayerNorm((512,), eps=1e-05, elementwise_affine=True)\n",
       "      (dropout): Dropout(p=0.3, inplace=False)\n",
       "    )\n",
       "  )\n",
       "  (fc): Linear(in_features=512, out_features=30, bias=True)\n",
       "  (dropout): Dropout(p=0.3, inplace=False)\n",
       ")"
      ]
     },
     "execution_count": 32,
     "metadata": {},
     "output_type": "execute_result"
    }
   ],
   "source": [
    "with open('serializer.pkl', 'rb') as inp:\n",
    "    binser = pickle.load(inp)\n",
    "\n",
    "# define model\n",
    "vocab_size = binser.vocab_size\n",
    "d_model = 512\n",
    "num_heads = 8\n",
    "num_layers = 8\n",
    "d_ff = 512\n",
    "max_seq_length = binser.max_seq_length\n",
    "dropout = 0.3\n",
    "\n",
    "transformer = DecoderOnlyModel(vocab_size, d_model, num_heads, num_layers, d_ff, max_seq_length, dropout)\n",
    "\n",
    "dev = torch.device(\"cuda:0\" if torch.cuda.is_available() else \"cpu\")\n",
    "transformer = transformer.to(dev)\n",
    "\n",
    "saved_model_path = '../saved_models/perm_decoderOnly_serialized/perm_decoderOnly_serialized.pt'\n",
    "transformer.load_state_dict(torch.load(saved_model_path), strict=False)\n",
    "\n",
    "transformer.eval()"
   ]
  },
  {
   "cell_type": "code",
   "execution_count": 11,
   "id": "dbe73d4e-e5de-4f8a-867d-b342498efc7d",
   "metadata": {},
   "outputs": [],
   "source": [
    "# load data to test\n",
    "# load data\n",
    "npz_path = '../data/augmented_and_padded_data.npz'\n",
    "dataset = SerializedConcatDataset(npz_path, pad_to_length=max_seq_length)"
   ]
  },
  {
   "cell_type": "code",
   "execution_count": 46,
   "id": "a2fa266d-7c45-4ba9-9d15-669cb8bbbb80",
   "metadata": {},
   "outputs": [
    {
     "name": "stdout",
     "output_type": "stream",
     "text": [
      "136\n",
      "(1063,)\n",
      "(1063,)\n",
      "[ 0  0  0  0  0  0  0  0  0  0  0  0  0  0  0  0  0  0  0  0  0  0  0  0\n",
      "  0  0  0  0  0  0  0  0  0  0  0  0  0  0  0  0  0  0  0  0  0  0  0  0\n",
      "  0  0  0  0  0  0  0  0  0  0  0  0  0  0  0  0  0  0  0  0  0  0  0  0\n",
      "  0  0  0  0  0  0  0  0  0  0  0  0  0  0  0  0  0  0  0  0  0  0  0  0\n",
      "  0  0  0  0  0  0  0  0  0  0  0  0  0  0  0  0  0  0  0  0  0  0  0  0\n",
      "  0  0  0  0  0  0  0  0  0  0  0  0  0  0  0  0  0  0  0  0  0  0  0  0\n",
      "  0  0  0  0  0  0  0  0  0  0  0  0  0  0  0  0  0  0  0  0  0  0  0  0\n",
      "  0  0  0  0  0  0  0  0  0  0  0  0  0  0  0  0  0  0  0  0  0  0  0  0\n",
      "  0  0  0  0  0  0  0  0  0  0  0  0  0  0  0  0  0  0  0  0  0  0  0  0\n",
      "  0  0  0  0  0  0  0  0  0  0  0  0  0  0  0  0  0  0  0  0  0  0  0  0\n",
      "  0  0  0  0  0  0  0  0  0  0  0  0  0  0  0  0  0  0  0  0  0  0  0  0\n",
      "  0  0  0  0  0  0  0  0  0  0  0  0  0  0  0  0  0  0  0  0  0  0  0  0\n",
      "  0  0  0  0  0  0  0  0  0  0  0  0  0  0  0  0  0  0  0  0  0  0  0  0\n",
      "  0  0  0  0  0  0  0  0  0  0  0  0  0  0  0  0  0  0  0  0  0  0  0  0\n",
      "  0  0  0  0  0  0  0  0  0  0  0  0  0  0  0  0  0  0  0  0  0  0  0  0\n",
      "  0  0  0  0  0  0  0  0  0  0  0  0  0  0  0  0  0  0  0  0  0  0  0  0\n",
      "  0  0  0  0  0  0  0  0  0  0  0  0  0  0  0  0  0  0  0  0  0  0  0  0\n",
      "  0  0  0  0  0  0  0  0  0  0  0  0  0  0  0  0  0  0  0  0  0  0  0  0\n",
      "  0  0  0  0  0  0  0  0  0  0  0  0  0  0  0  0  0  0  0  0  0  0  0  0\n",
      "  0  0  0  0  0  0  0  0  0  0  0  0  0  0  0  0  0  0  0  0  0  0  0  0\n",
      "  0  0  0  0  0  0  0  0  0  0  0  0  0  0  0  0  0  0  0  0  0  0  0  0\n",
      "  0  0  0  0  0  0  0  0  0  0  0  0  0  0  0  0  0  0  0  0  0  0  0  0\n",
      "  0  0  0  0  0  0  0  0  0  0  0  0  0  0  0  0  0  0  0  0  0  0  0  0\n",
      "  0  0  0  0  0  0  0  0  0  0  0  0  0  0  0  0  0  0  0  0  0  0  0  0\n",
      "  0  0  0  0  0  0  0  0  0  0  0  0  0  0  0  0  0  0  0  0  0  0  0  0\n",
      "  0  0  0  0  0  0  0  0  0  0  0  0  0  0  0  0  0  0  0  0  0  0  0  0\n",
      "  0  0  0  0  0  0  0  0  0  0  0  0  0  0  0  0  0  0  0  0  0  0  0  0\n",
      "  0  0  0  0  0  0  0  0  0  0  0  0  0  0  0  0  0  0  0  0  0  0  0  0\n",
      "  0  0  0  0  0  0  0  0  0  0  0  0  0  0  0  0  0  0  0  0  0  0  0  0\n",
      "  0  0  0  0  0  0  0  0  0  0  0  0  0  0  0  0  0  0  0  0  0  0  0  0\n",
      "  0  0  0  0  0  0  0  0  0  0  0  0  0  0  0  0  0  0  0  0  0  0  0  0\n",
      "  0  0  0  0  0  0  0  0  0  0  0  0  0  0  0  0  0  0  0  0  0  0  0  0\n",
      "  0  0  0  0  0  0  0  0  0  0  0  0  0  0  0  0  0  0  0  0  0  0  0  0\n",
      "  0  0  0  0  0  0  0  0  0  0  0  0  0  0  0  0  0  0  0  0  0  0  0  0\n",
      "  0  0  0  0  0  0  0  0  0  0  0  0  0  0  0  0  0  0  0  0  0  0  0  0\n",
      "  0  0  0  0  0  0  0  0  0  0  0  0  0  0  0  0  0  0  0  0  0  0  0  0\n",
      "  0  0  0  0  0  0  0  0  0  0  0  0  0  0  0  0  0  0  0  0  0  0  0  0\n",
      "  0  0  0  0  0  0  0  0  0  0  0  0  0  0  0  0  0  0  0  0  0  0  0  0\n",
      "  0  0  0  0  0  0  0  0  0  0  0  0  0  0  1  2  6 15  2 17  2  6 15  2\n",
      " 17  2 13 17  2 15  2 13 17  2 15  2  6 15  2 17  2  6 15  2 13 17  2 10\n",
      "  2 10  2  7 10  2  9  2  7 10  2  9  2  9 17  2  7  2  9 17  2  7  2  7\n",
      " 10  2  9  2  7 10  2  9 17  2 14  2 13  2  6 15  2 17  2  6 15  2 17  2\n",
      " 13 17  2 15  2 13 17  2 15  2  6 15  2 17  2  6 15  2 13 17  2 13  2 13\n",
      "  2 15  2 13  2 11  2 10  2 13  2 11  2  8 10  2  6 15  2 17  2  6 15  2\n",
      " 10 17  2  6  2  6  4]\n"
     ]
    }
   ],
   "source": [
    "x = dataset.__getitem__(0)\n",
    "# find start harmonization index\n",
    "idx = np.where(x == 4)[0][0]\n",
    "print(idx)\n",
    "y = np.pad(x[:idx+1], (x.shape[0]-idx-1, 0))\n",
    "print(x.shape)\n",
    "print(y.shape)\n",
    "with np.printoptions(threshold=np.inf):\n",
    "    print(y)"
   ]
  },
  {
   "cell_type": "code",
   "execution_count": 47,
   "id": "8952b5e8-d419-4d74-a4f8-63a6b925d72b",
   "metadata": {},
   "outputs": [],
   "source": [
    "inp = torch.from_numpy( np.expand_dims(y[:-1], axis=0)).to(dev)\n",
    "output = transformer(inp)"
   ]
  },
  {
   "cell_type": "code",
   "execution_count": 48,
   "id": "b0a5d9f0-ea5a-4801-b307-8e6c78f5cec3",
   "metadata": {},
   "outputs": [
    {
     "name": "stdout",
     "output_type": "stream",
     "text": [
      "[17 17 17 17 17 17 17 17 17 17 17 17 17 17 17 17 17 17 17 17 17 17 17 17\n",
      " 17 17 17 17 17 17 17 17 17 17 17 17 17 17 17 17 17 17 17 17 17 17 17 12\n",
      " 12 17 17 17 17 17 17 17 17 17 17 17 17 17 17 17 17 17 17 17 17 17 17 17\n",
      " 17 17 17 17 17 17 17 17 17 17 17 17 17 17 17 17 17 17 17 17 17 17 17 17\n",
      " 17 17 17 17 17 17 17 17 17 17 17 17 17 17 24 24 17 17 17 17 17 17 17 17\n",
      " 17 17 17 17 17 17 17 17 17 12 12 12 12 17 17 17 17 17 17 17 17 17 17 17\n",
      " 17 17 17 17 17 17 17 17 17 17 17 17 17 17 17 17 17 17 17 17 17 17 17 17\n",
      " 17 17 17 17 17 17 17 17 17 12 12 12 12 17 17 12 12 12 12 12 12 12 17 17\n",
      " 17 17 17 17 17 17 17 17 17 17 17 17 17 17 17 17 17 17 12 12 12 12 12 12\n",
      " 12 12 12 17 17 17 17 17 17 17 17 17 12 12 12 12 12 12 12 12 12 12 12 12\n",
      " 12 12 12 12 12 17 17 17 17 17 17 17 17 17 17 17 17 17 17 17 17 12 12 12\n",
      " 12 17 17 17 17 17 17 17 17 17 17 17 17 17 17 12 12 17 17 17 17 12 12 12\n",
      " 12 12 12 12 17 17 17 17 17 12 12 12 12 12 12 12 17 17 17 17 17 17 17 17\n",
      " 17 17 17 17 17 17 17 12 12 17 17 17 17 12 12 12 12 12 17 17 17 17 17 17\n",
      " 17 17 12 12 12 12 17 17 17 17 12 12 12 12 12 12 12 12 12 12 12 12 12 12\n",
      " 12 12 12 12 17 17 17 12 12 12 12 12 12 12 12 12 12 12 12 12 12 12 12 17\n",
      " 17 17 17 12 12 12 12 12 12 12 12 12 12 12 12 12 12 12 12 12 12 12 12 12\n",
      " 12 12 12 12 12 12 17 17 17 17 12 12 12 12 12 17 17 17 17 17 17 17 12 12\n",
      " 12 17 17 17 17 12 12 12 12 12 12 12 12 12 12 12 12 12 12 17 17 17 17 12\n",
      " 12 12 12 12 12 12 12 12 12 12 12 12 12 17 17 17 17 12 12 12 12 12 12 12\n",
      " 12 12 12 12 17 17 17 12 12 12 12 12 12 12 12 12 12 17 17 17 17 17 17 17\n",
      " 12 12 12 12 12 12 12 12 12 12 12 12 12 17 17 17 17 12 12 12 12 17 17 17\n",
      " 17 17 17 17 17 17 17 17 17 17 17 17 17 17 12 12 17 17 17 17 17 12 17 17\n",
      " 17 17 17 17 17 17 12 12 12 12 12 12 12 17 17 17 17 17 17 17 17 17 17 17\n",
      " 17 17 17 17 17 17 17 17 17 17 17 17 17 17 17 17 17 17 17 17 17 17 17 17\n",
      " 17 17 17 17 17 17 17 17 17 17 17 17 17 17 17 17 17 17 17 17 17 17 17 17\n",
      " 17 17 17 17 17 17 17 17 17 17 17 17 17 17 17 12 12 12 17 17 17 17 17 17\n",
      " 17 17 17 17 17 17 17 17 17 17 17 17 17 17 12 17 17 17 17 17 17 17 17 17\n",
      " 17 17 17 17 17 17 17 17 17 17 17 17 17 17 17 17 17 17 17 17 17 17 17 17\n",
      " 17 17 17 17 17 17 17 17 17 17 17 17 17 17 17 17 17 17 17 17 17 17 17 17\n",
      " 17 17 17 17 17 17 17 17 17 17 17 17 17 17 17 17 17 17 17 17 17 17 17 17\n",
      " 17 17 17 17 17 17 17 17 17 17 17 17 17 17 17 17 17 17 17 17 17 17 17 17\n",
      " 17 17 17 17 17 17 17 17 17 17 17 17 17 17 17 17 17 17 17 17 17 17 17 17\n",
      " 17 17 17 17 17 17 17 17 17 17 17 12 12 17 17 17 17 17 17 17 17 17 17 17\n",
      " 17 17 17 17 17 17 17 17 17 17 17 17 17 17 17 17 17 17 17 17 17 17 17 17\n",
      " 17 17 17 17 17 17 17 17 17 17 12 12 12 12 17 17 17 17 17 17 17 17 17 17\n",
      " 17 17 17 17 17 17 17 17 12 12 12 17 17 17 17 17 17 17 17 17 17 17 17 17\n",
      " 17 17 17 17 17 17 17 17 17 17 17 17 17 17 17 17 17 17 17 17 17 17 17 17\n",
      " 17 17 17 17 17 17 17 17 17 17 12 12 12 12 12  7  8 12  7  2  7  8 17  7\n",
      "  2  7 17  2  7 17  7 17  2  7 17  7  8 17  7  2  7  8 17  7 17  2  7 12\n",
      "  7 12  7 17 12  7 12  7 17 12  7 12  7 12  2  7 17  7 12  2  7 17  7  2\n",
      " 12  7 12  7  2 12  7 12  2  7 17  7 17  7  2  2  7  2  7  2  2  7  2  7\n",
      " 17  2  7  2  7 17  2  7 17  7  2  2  7  2  7  2  2  7 17  2  7 17  7 17\n",
      "  7  2  7 17  7 12  7 17  7 17  7 12  7  2 17  7  2  2  7  2  7  2  2  7\n",
      " 17  2  7  2  7  2]\n"
     ]
    }
   ],
   "source": [
    "prediction = output.argmax(dim=2, keepdim=True).squeeze()\n",
    "z = prediction.cpu().numpy()\n",
    "with np.printoptions(threshold=np.inf):\n",
    "    print(z)"
   ]
  }
 ],
 "metadata": {
  "kernelspec": {
   "display_name": "Python 3 (ipykernel)",
   "language": "python",
   "name": "python3"
  },
  "language_info": {
   "codemirror_mode": {
    "name": "ipython",
    "version": 3
   },
   "file_extension": ".py",
   "mimetype": "text/x-python",
   "name": "python",
   "nbconvert_exporter": "python",
   "pygments_lexer": "ipython3",
   "version": "3.11.6"
  }
 },
 "nbformat": 4,
 "nbformat_minor": 5
}
