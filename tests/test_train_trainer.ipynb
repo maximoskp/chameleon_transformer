{
 "cells": [
  {
   "cell_type": "code",
   "execution_count": 1,
   "id": "059642b3-5bb7-4226-bd70-ac6f8db5990e",
   "metadata": {},
   "outputs": [
    {
     "ename": "RuntimeError",
     "evalue": "Failed to import transformers.trainer because of the following error (look up to see its traceback):\nNo module named 'tokenizers.pre_tokenizers'",
     "output_type": "error",
     "traceback": [
      "\u001b[0;31m---------------------------------------------------------------------------\u001b[0m",
      "\u001b[0;31mModuleNotFoundError\u001b[0m                       Traceback (most recent call last)",
      "File \u001b[0;32m~/miniconda/envs/torch/lib/python3.11/site-packages/transformers/utils/import_utils.py:1364\u001b[0m, in \u001b[0;36m_LazyModule._get_module\u001b[0;34m(self, module_name)\u001b[0m\n\u001b[1;32m   1363\u001b[0m \u001b[38;5;28;01mtry\u001b[39;00m:\n\u001b[0;32m-> 1364\u001b[0m     \u001b[38;5;28;01mreturn\u001b[39;00m importlib\u001b[38;5;241m.\u001b[39mimport_module(\u001b[38;5;124m\"\u001b[39m\u001b[38;5;124m.\u001b[39m\u001b[38;5;124m\"\u001b[39m \u001b[38;5;241m+\u001b[39m module_name, \u001b[38;5;28mself\u001b[39m\u001b[38;5;241m.\u001b[39m\u001b[38;5;18m__name__\u001b[39m)\n\u001b[1;32m   1365\u001b[0m \u001b[38;5;28;01mexcept\u001b[39;00m \u001b[38;5;167;01mException\u001b[39;00m \u001b[38;5;28;01mas\u001b[39;00m e:\n",
      "File \u001b[0;32m~/miniconda/envs/torch/lib/python3.11/importlib/__init__.py:126\u001b[0m, in \u001b[0;36mimport_module\u001b[0;34m(name, package)\u001b[0m\n\u001b[1;32m    125\u001b[0m         level \u001b[38;5;241m+\u001b[39m\u001b[38;5;241m=\u001b[39m \u001b[38;5;241m1\u001b[39m\n\u001b[0;32m--> 126\u001b[0m \u001b[38;5;28;01mreturn\u001b[39;00m _bootstrap\u001b[38;5;241m.\u001b[39m_gcd_import(name[level:], package, level)\n",
      "File \u001b[0;32m<frozen importlib._bootstrap>:1204\u001b[0m, in \u001b[0;36m_gcd_import\u001b[0;34m(name, package, level)\u001b[0m\n",
      "File \u001b[0;32m<frozen importlib._bootstrap>:1176\u001b[0m, in \u001b[0;36m_find_and_load\u001b[0;34m(name, import_)\u001b[0m\n",
      "File \u001b[0;32m<frozen importlib._bootstrap>:1147\u001b[0m, in \u001b[0;36m_find_and_load_unlocked\u001b[0;34m(name, import_)\u001b[0m\n",
      "File \u001b[0;32m<frozen importlib._bootstrap>:690\u001b[0m, in \u001b[0;36m_load_unlocked\u001b[0;34m(spec)\u001b[0m\n",
      "File \u001b[0;32m<frozen importlib._bootstrap_external>:940\u001b[0m, in \u001b[0;36mexec_module\u001b[0;34m(self, module)\u001b[0m\n",
      "File \u001b[0;32m<frozen importlib._bootstrap>:241\u001b[0m, in \u001b[0;36m_call_with_frames_removed\u001b[0;34m(f, *args, **kwds)\u001b[0m\n",
      "File \u001b[0;32m~/miniconda/envs/torch/lib/python3.11/site-packages/transformers/trainer.py:59\u001b[0m\n\u001b[1;32m     58\u001b[0m \u001b[38;5;28;01mfrom\u001b[39;00m \u001b[38;5;21;01m.\u001b[39;00m\u001b[38;5;21;01mconfiguration_utils\u001b[39;00m \u001b[38;5;28;01mimport\u001b[39;00m PretrainedConfig\n\u001b[0;32m---> 59\u001b[0m \u001b[38;5;28;01mfrom\u001b[39;00m \u001b[38;5;21;01m.\u001b[39;00m\u001b[38;5;21;01mdata\u001b[39;00m\u001b[38;5;21;01m.\u001b[39;00m\u001b[38;5;21;01mdata_collator\u001b[39;00m \u001b[38;5;28;01mimport\u001b[39;00m DataCollator, DataCollatorWithPadding, default_data_collator\n\u001b[1;32m     60\u001b[0m \u001b[38;5;28;01mfrom\u001b[39;00m \u001b[38;5;21;01m.\u001b[39;00m\u001b[38;5;21;01mdebug_utils\u001b[39;00m \u001b[38;5;28;01mimport\u001b[39;00m DebugOption, DebugUnderflowOverflow\n",
      "File \u001b[0;32m~/miniconda/envs/torch/lib/python3.11/site-packages/transformers/data/__init__.py:15\u001b[0m\n\u001b[1;32m      1\u001b[0m \u001b[38;5;66;03m# Copyright 2020 The HuggingFace Team. All rights reserved.\u001b[39;00m\n\u001b[1;32m      2\u001b[0m \u001b[38;5;66;03m#\u001b[39;00m\n\u001b[1;32m      3\u001b[0m \u001b[38;5;66;03m# Licensed under the Apache License, Version 2.0 (the \"License\");\u001b[39;00m\n\u001b[0;32m   (...)\u001b[0m\n\u001b[1;32m     12\u001b[0m \u001b[38;5;66;03m# See the License for the specific language governing permissions and\u001b[39;00m\n\u001b[1;32m     13\u001b[0m \u001b[38;5;66;03m# limitations under the License.\u001b[39;00m\n\u001b[0;32m---> 15\u001b[0m \u001b[38;5;28;01mfrom\u001b[39;00m \u001b[38;5;21;01m.\u001b[39;00m\u001b[38;5;21;01mdata_collator\u001b[39;00m \u001b[38;5;28;01mimport\u001b[39;00m (\n\u001b[1;32m     16\u001b[0m     DataCollatorForLanguageModeling,\n\u001b[1;32m     17\u001b[0m     DataCollatorForPermutationLanguageModeling,\n\u001b[1;32m     18\u001b[0m     DataCollatorForSeq2Seq,\n\u001b[1;32m     19\u001b[0m     DataCollatorForSOP,\n\u001b[1;32m     20\u001b[0m     DataCollatorForTokenClassification,\n\u001b[1;32m     21\u001b[0m     DataCollatorForWholeWordMask,\n\u001b[1;32m     22\u001b[0m     DataCollatorWithPadding,\n\u001b[1;32m     23\u001b[0m     DefaultDataCollator,\n\u001b[1;32m     24\u001b[0m     default_data_collator,\n\u001b[1;32m     25\u001b[0m )\n\u001b[1;32m     26\u001b[0m \u001b[38;5;28;01mfrom\u001b[39;00m \u001b[38;5;21;01m.\u001b[39;00m\u001b[38;5;21;01mmetrics\u001b[39;00m \u001b[38;5;28;01mimport\u001b[39;00m glue_compute_metrics, xnli_compute_metrics\n",
      "File \u001b[0;32m~/miniconda/envs/torch/lib/python3.11/site-packages/transformers/data/data_collator.py:24\u001b[0m\n\u001b[1;32m     22\u001b[0m \u001b[38;5;28;01mimport\u001b[39;00m \u001b[38;5;21;01mnumpy\u001b[39;00m \u001b[38;5;28;01mas\u001b[39;00m \u001b[38;5;21;01mnp\u001b[39;00m\n\u001b[0;32m---> 24\u001b[0m \u001b[38;5;28;01mfrom\u001b[39;00m \u001b[38;5;21;01m.\u001b[39;00m\u001b[38;5;21;01m.\u001b[39;00m\u001b[38;5;21;01mmodels\u001b[39;00m\u001b[38;5;21;01m.\u001b[39;00m\u001b[38;5;21;01mbert\u001b[39;00m \u001b[38;5;28;01mimport\u001b[39;00m BertTokenizer, BertTokenizerFast\n\u001b[1;32m     25\u001b[0m \u001b[38;5;28;01mfrom\u001b[39;00m \u001b[38;5;21;01m.\u001b[39;00m\u001b[38;5;21;01m.\u001b[39;00m\u001b[38;5;21;01mtokenization_utils_base\u001b[39;00m \u001b[38;5;28;01mimport\u001b[39;00m PreTrainedTokenizerBase\n",
      "File \u001b[0;32m~/miniconda/envs/torch/lib/python3.11/site-packages/transformers/models/__init__.py:15\u001b[0m\n\u001b[1;32m      1\u001b[0m \u001b[38;5;66;03m# Copyright 2020 The HuggingFace Team. All rights reserved.\u001b[39;00m\n\u001b[1;32m      2\u001b[0m \u001b[38;5;66;03m#\u001b[39;00m\n\u001b[1;32m      3\u001b[0m \u001b[38;5;66;03m# Licensed under the Apache License, Version 2.0 (the \"License\");\u001b[39;00m\n\u001b[0;32m   (...)\u001b[0m\n\u001b[1;32m     12\u001b[0m \u001b[38;5;66;03m# See the License for the specific language governing permissions and\u001b[39;00m\n\u001b[1;32m     13\u001b[0m \u001b[38;5;66;03m# limitations under the License.\u001b[39;00m\n\u001b[0;32m---> 15\u001b[0m \u001b[38;5;28;01mfrom\u001b[39;00m \u001b[38;5;21;01m.\u001b[39;00m \u001b[38;5;28;01mimport\u001b[39;00m (\n\u001b[1;32m     16\u001b[0m     albert,\n\u001b[1;32m     17\u001b[0m     align,\n\u001b[1;32m     18\u001b[0m     altclip,\n\u001b[1;32m     19\u001b[0m     audio_spectrogram_transformer,\n\u001b[1;32m     20\u001b[0m     auto,\n\u001b[1;32m     21\u001b[0m     autoformer,\n\u001b[1;32m     22\u001b[0m     bark,\n\u001b[1;32m     23\u001b[0m     bart,\n\u001b[1;32m     24\u001b[0m     barthez,\n\u001b[1;32m     25\u001b[0m     bartpho,\n\u001b[1;32m     26\u001b[0m     beit,\n\u001b[1;32m     27\u001b[0m     bert,\n\u001b[1;32m     28\u001b[0m     bert_generation,\n\u001b[1;32m     29\u001b[0m     bert_japanese,\n\u001b[1;32m     30\u001b[0m     bertweet,\n\u001b[1;32m     31\u001b[0m     big_bird,\n\u001b[1;32m     32\u001b[0m     bigbird_pegasus,\n\u001b[1;32m     33\u001b[0m     biogpt,\n\u001b[1;32m     34\u001b[0m     bit,\n\u001b[1;32m     35\u001b[0m     blenderbot,\n\u001b[1;32m     36\u001b[0m     blenderbot_small,\n\u001b[1;32m     37\u001b[0m     blip,\n\u001b[1;32m     38\u001b[0m     blip_2,\n\u001b[1;32m     39\u001b[0m     bloom,\n\u001b[1;32m     40\u001b[0m     bridgetower,\n\u001b[1;32m     41\u001b[0m     bros,\n\u001b[1;32m     42\u001b[0m     byt5,\n\u001b[1;32m     43\u001b[0m     camembert,\n\u001b[1;32m     44\u001b[0m     canine,\n\u001b[1;32m     45\u001b[0m     chinese_clip,\n\u001b[1;32m     46\u001b[0m     clap,\n\u001b[1;32m     47\u001b[0m     clip,\n\u001b[1;32m     48\u001b[0m     clipseg,\n\u001b[1;32m     49\u001b[0m     clvp,\n\u001b[1;32m     50\u001b[0m     code_llama,\n\u001b[1;32m     51\u001b[0m     codegen,\n\u001b[1;32m     52\u001b[0m     conditional_detr,\n\u001b[1;32m     53\u001b[0m     convbert,\n\u001b[1;32m     54\u001b[0m     convnext,\n\u001b[1;32m     55\u001b[0m     convnextv2,\n\u001b[1;32m     56\u001b[0m     cpm,\n\u001b[1;32m     57\u001b[0m     cpmant,\n\u001b[1;32m     58\u001b[0m     ctrl,\n\u001b[1;32m     59\u001b[0m     cvt,\n\u001b[1;32m     60\u001b[0m     data2vec,\n\u001b[1;32m     61\u001b[0m     deberta,\n\u001b[1;32m     62\u001b[0m     deberta_v2,\n\u001b[1;32m     63\u001b[0m     decision_transformer,\n\u001b[1;32m     64\u001b[0m     deformable_detr,\n\u001b[1;32m     65\u001b[0m     deit,\n\u001b[1;32m     66\u001b[0m     deprecated,\n\u001b[1;32m     67\u001b[0m     deta,\n\u001b[1;32m     68\u001b[0m     detr,\n\u001b[1;32m     69\u001b[0m     dialogpt,\n\u001b[1;32m     70\u001b[0m     dinat,\n\u001b[1;32m     71\u001b[0m     dinov2,\n\u001b[1;32m     72\u001b[0m     distilbert,\n\u001b[1;32m     73\u001b[0m     dit,\n\u001b[1;32m     74\u001b[0m     donut,\n\u001b[1;32m     75\u001b[0m     dpr,\n\u001b[1;32m     76\u001b[0m     dpt,\n\u001b[1;32m     77\u001b[0m     efficientformer,\n\u001b[1;32m     78\u001b[0m     efficientnet,\n\u001b[1;32m     79\u001b[0m     electra,\n\u001b[1;32m     80\u001b[0m     encodec,\n\u001b[1;32m     81\u001b[0m     encoder_decoder,\n\u001b[1;32m     82\u001b[0m     ernie,\n\u001b[1;32m     83\u001b[0m     ernie_m,\n\u001b[1;32m     84\u001b[0m     esm,\n\u001b[1;32m     85\u001b[0m     falcon,\n\u001b[1;32m     86\u001b[0m     fastspeech2_conformer,\n\u001b[1;32m     87\u001b[0m     flaubert,\n\u001b[1;32m     88\u001b[0m     flava,\n\u001b[1;32m     89\u001b[0m     fnet,\n\u001b[1;32m     90\u001b[0m     focalnet,\n\u001b[1;32m     91\u001b[0m     fsmt,\n\u001b[1;32m     92\u001b[0m     funnel,\n\u001b[1;32m     93\u001b[0m     fuyu,\n\u001b[1;32m     94\u001b[0m     git,\n\u001b[1;32m     95\u001b[0m     glpn,\n\u001b[1;32m     96\u001b[0m     gpt2,\n\u001b[1;32m     97\u001b[0m     gpt_bigcode,\n\u001b[1;32m     98\u001b[0m     gpt_neo,\n\u001b[1;32m     99\u001b[0m     gpt_neox,\n\u001b[1;32m    100\u001b[0m     gpt_neox_japanese,\n\u001b[1;32m    101\u001b[0m     gpt_sw3,\n\u001b[1;32m    102\u001b[0m     gptj,\n\u001b[1;32m    103\u001b[0m     gptsan_japanese,\n\u001b[1;32m    104\u001b[0m     graphormer,\n\u001b[1;32m    105\u001b[0m     groupvit,\n\u001b[1;32m    106\u001b[0m     herbert,\n\u001b[1;32m    107\u001b[0m     hubert,\n\u001b[1;32m    108\u001b[0m     ibert,\n\u001b[1;32m    109\u001b[0m     idefics,\n\u001b[1;32m    110\u001b[0m     imagegpt,\n\u001b[1;32m    111\u001b[0m     informer,\n\u001b[1;32m    112\u001b[0m     instructblip,\n\u001b[1;32m    113\u001b[0m     jukebox,\n\u001b[1;32m    114\u001b[0m     kosmos2,\n\u001b[1;32m    115\u001b[0m     layoutlm,\n\u001b[1;32m    116\u001b[0m     layoutlmv2,\n\u001b[1;32m    117\u001b[0m     layoutlmv3,\n\u001b[1;32m    118\u001b[0m     layoutxlm,\n\u001b[1;32m    119\u001b[0m     led,\n\u001b[1;32m    120\u001b[0m     levit,\n\u001b[1;32m    121\u001b[0m     lilt,\n\u001b[1;32m    122\u001b[0m     llama,\n\u001b[1;32m    123\u001b[0m     llava,\n\u001b[1;32m    124\u001b[0m     longformer,\n\u001b[1;32m    125\u001b[0m     longt5,\n\u001b[1;32m    126\u001b[0m     luke,\n\u001b[1;32m    127\u001b[0m     lxmert,\n\u001b[1;32m    128\u001b[0m     m2m_100,\n\u001b[1;32m    129\u001b[0m     marian,\n\u001b[1;32m    130\u001b[0m     markuplm,\n\u001b[1;32m    131\u001b[0m     mask2former,\n\u001b[1;32m    132\u001b[0m     maskformer,\n\u001b[1;32m    133\u001b[0m     mbart,\n\u001b[1;32m    134\u001b[0m     mbart50,\n\u001b[1;32m    135\u001b[0m     mega,\n\u001b[1;32m    136\u001b[0m     megatron_bert,\n\u001b[1;32m    137\u001b[0m     megatron_gpt2,\n\u001b[1;32m    138\u001b[0m     mgp_str,\n\u001b[1;32m    139\u001b[0m     mistral,\n\u001b[1;32m    140\u001b[0m     mixtral,\n\u001b[1;32m    141\u001b[0m     mluke,\n\u001b[1;32m    142\u001b[0m     mobilebert,\n\u001b[1;32m    143\u001b[0m     mobilenet_v1,\n\u001b[1;32m    144\u001b[0m     mobilenet_v2,\n\u001b[1;32m    145\u001b[0m     mobilevit,\n\u001b[1;32m    146\u001b[0m     mobilevitv2,\n\u001b[1;32m    147\u001b[0m     mpnet,\n\u001b[1;32m    148\u001b[0m     mpt,\n\u001b[1;32m    149\u001b[0m     mra,\n\u001b[1;32m    150\u001b[0m     mt5,\n\u001b[1;32m    151\u001b[0m     musicgen,\n\u001b[1;32m    152\u001b[0m     mvp,\n\u001b[1;32m    153\u001b[0m     nat,\n\u001b[1;32m    154\u001b[0m     nezha,\n\u001b[1;32m    155\u001b[0m     nllb,\n\u001b[1;32m    156\u001b[0m     nllb_moe,\n\u001b[1;32m    157\u001b[0m     nougat,\n\u001b[1;32m    158\u001b[0m     nystromformer,\n\u001b[1;32m    159\u001b[0m     oneformer,\n\u001b[1;32m    160\u001b[0m     openai,\n\u001b[1;32m    161\u001b[0m     opt,\n\u001b[1;32m    162\u001b[0m     owlv2,\n\u001b[1;32m    163\u001b[0m     owlvit,\n\u001b[1;32m    164\u001b[0m     patchtsmixer,\n\u001b[1;32m    165\u001b[0m     patchtst,\n\u001b[1;32m    166\u001b[0m     pegasus,\n\u001b[1;32m    167\u001b[0m     pegasus_x,\n\u001b[1;32m    168\u001b[0m     perceiver,\n\u001b[1;32m    169\u001b[0m     persimmon,\n\u001b[1;32m    170\u001b[0m     phi,\n\u001b[1;32m    171\u001b[0m     phobert,\n\u001b[1;32m    172\u001b[0m     pix2struct,\n\u001b[1;32m    173\u001b[0m     plbart,\n\u001b[1;32m    174\u001b[0m     poolformer,\n\u001b[1;32m    175\u001b[0m     pop2piano,\n\u001b[1;32m    176\u001b[0m     prophetnet,\n\u001b[1;32m    177\u001b[0m     pvt,\n\u001b[1;32m    178\u001b[0m     qdqbert,\n\u001b[1;32m    179\u001b[0m     qwen2,\n\u001b[1;32m    180\u001b[0m     rag,\n\u001b[1;32m    181\u001b[0m     realm,\n\u001b[1;32m    182\u001b[0m     reformer,\n\u001b[1;32m    183\u001b[0m     regnet,\n\u001b[1;32m    184\u001b[0m     rembert,\n\u001b[1;32m    185\u001b[0m     resnet,\n\u001b[1;32m    186\u001b[0m     roberta,\n\u001b[1;32m    187\u001b[0m     roberta_prelayernorm,\n\u001b[1;32m    188\u001b[0m     roc_bert,\n\u001b[1;32m    189\u001b[0m     roformer,\n\u001b[1;32m    190\u001b[0m     rwkv,\n\u001b[1;32m    191\u001b[0m     sam,\n\u001b[1;32m    192\u001b[0m     seamless_m4t,\n\u001b[1;32m    193\u001b[0m     seamless_m4t_v2,\n\u001b[1;32m    194\u001b[0m     segformer,\n\u001b[1;32m    195\u001b[0m     sew,\n\u001b[1;32m    196\u001b[0m     sew_d,\n\u001b[1;32m    197\u001b[0m     siglip,\n\u001b[1;32m    198\u001b[0m     speech_encoder_decoder,\n\u001b[1;32m    199\u001b[0m     speech_to_text,\n\u001b[1;32m    200\u001b[0m     speech_to_text_2,\n\u001b[1;32m    201\u001b[0m     speecht5,\n\u001b[1;32m    202\u001b[0m     splinter,\n\u001b[1;32m    203\u001b[0m     squeezebert,\n\u001b[1;32m    204\u001b[0m     swiftformer,\n\u001b[1;32m    205\u001b[0m     swin,\n\u001b[1;32m    206\u001b[0m     swin2sr,\n\u001b[1;32m    207\u001b[0m     swinv2,\n\u001b[1;32m    208\u001b[0m     switch_transformers,\n\u001b[1;32m    209\u001b[0m     t5,\n\u001b[1;32m    210\u001b[0m     table_transformer,\n\u001b[1;32m    211\u001b[0m     tapas,\n\u001b[1;32m    212\u001b[0m     time_series_transformer,\n\u001b[1;32m    213\u001b[0m     timesformer,\n\u001b[1;32m    214\u001b[0m     timm_backbone,\n\u001b[1;32m    215\u001b[0m     trocr,\n\u001b[1;32m    216\u001b[0m     tvlt,\n\u001b[1;32m    217\u001b[0m     tvp,\n\u001b[1;32m    218\u001b[0m     umt5,\n\u001b[1;32m    219\u001b[0m     unispeech,\n\u001b[1;32m    220\u001b[0m     unispeech_sat,\n\u001b[1;32m    221\u001b[0m     univnet,\n\u001b[1;32m    222\u001b[0m     upernet,\n\u001b[1;32m    223\u001b[0m     videomae,\n\u001b[1;32m    224\u001b[0m     vilt,\n\u001b[1;32m    225\u001b[0m     vipllava,\n\u001b[1;32m    226\u001b[0m     vision_encoder_decoder,\n\u001b[1;32m    227\u001b[0m     vision_text_dual_encoder,\n\u001b[1;32m    228\u001b[0m     visual_bert,\n\u001b[1;32m    229\u001b[0m     vit,\n\u001b[1;32m    230\u001b[0m     vit_hybrid,\n\u001b[1;32m    231\u001b[0m     vit_mae,\n\u001b[1;32m    232\u001b[0m     vit_msn,\n\u001b[1;32m    233\u001b[0m     vitdet,\n\u001b[1;32m    234\u001b[0m     vitmatte,\n\u001b[1;32m    235\u001b[0m     vits,\n\u001b[1;32m    236\u001b[0m     vivit,\n\u001b[1;32m    237\u001b[0m     wav2vec2,\n\u001b[1;32m    238\u001b[0m     wav2vec2_bert,\n\u001b[1;32m    239\u001b[0m     wav2vec2_conformer,\n\u001b[1;32m    240\u001b[0m     wav2vec2_phoneme,\n\u001b[1;32m    241\u001b[0m     wav2vec2_with_lm,\n\u001b[1;32m    242\u001b[0m     wavlm,\n\u001b[1;32m    243\u001b[0m     whisper,\n\u001b[1;32m    244\u001b[0m     x_clip,\n\u001b[1;32m    245\u001b[0m     xglm,\n\u001b[1;32m    246\u001b[0m     xlm,\n\u001b[1;32m    247\u001b[0m     xlm_prophetnet,\n\u001b[1;32m    248\u001b[0m     xlm_roberta,\n\u001b[1;32m    249\u001b[0m     xlm_roberta_xl,\n\u001b[1;32m    250\u001b[0m     xlnet,\n\u001b[1;32m    251\u001b[0m     xmod,\n\u001b[1;32m    252\u001b[0m     yolos,\n\u001b[1;32m    253\u001b[0m     yoso,\n\u001b[1;32m    254\u001b[0m )\n",
      "File \u001b[0;32m~/miniconda/envs/torch/lib/python3.11/site-packages/transformers/models/mt5/__init__.py:36\u001b[0m\n\u001b[1;32m     35\u001b[0m \u001b[38;5;28;01mif\u001b[39;00m is_tokenizers_available():\n\u001b[0;32m---> 36\u001b[0m     \u001b[38;5;28;01mfrom\u001b[39;00m \u001b[38;5;21;01m.\u001b[39;00m\u001b[38;5;21;01m.\u001b[39;00m\u001b[38;5;21;01mt5\u001b[39;00m\u001b[38;5;21;01m.\u001b[39;00m\u001b[38;5;21;01mtokenization_t5_fast\u001b[39;00m \u001b[38;5;28;01mimport\u001b[39;00m T5TokenizerFast\n\u001b[1;32m     37\u001b[0m \u001b[38;5;28;01melse\u001b[39;00m:\n",
      "File \u001b[0;32m~/miniconda/envs/torch/lib/python3.11/site-packages/transformers/models/t5/tokenization_t5_fast.py:24\u001b[0m\n\u001b[1;32m     22\u001b[0m \u001b[38;5;28;01mfrom\u001b[39;00m \u001b[38;5;21;01mtyping\u001b[39;00m \u001b[38;5;28;01mimport\u001b[39;00m List, Optional, Tuple\n\u001b[0;32m---> 24\u001b[0m \u001b[38;5;28;01mfrom\u001b[39;00m \u001b[38;5;21;01m.\u001b[39;00m\u001b[38;5;21;01m.\u001b[39;00m\u001b[38;5;21;01m.\u001b[39;00m\u001b[38;5;21;01mtokenization_utils_fast\u001b[39;00m \u001b[38;5;28;01mimport\u001b[39;00m PreTrainedTokenizerFast\n\u001b[1;32m     25\u001b[0m \u001b[38;5;28;01mfrom\u001b[39;00m \u001b[38;5;21;01m.\u001b[39;00m\u001b[38;5;21;01m.\u001b[39;00m\u001b[38;5;21;01m.\u001b[39;00m\u001b[38;5;21;01mutils\u001b[39;00m \u001b[38;5;28;01mimport\u001b[39;00m is_sentencepiece_available, logging\n",
      "File \u001b[0;32m~/miniconda/envs/torch/lib/python3.11/site-packages/transformers/tokenization_utils_fast.py:25\u001b[0m\n\u001b[1;32m     23\u001b[0m \u001b[38;5;28;01mfrom\u001b[39;00m \u001b[38;5;21;01mtyping\u001b[39;00m \u001b[38;5;28;01mimport\u001b[39;00m Any, Dict, List, Optional, Tuple, Union\n\u001b[0;32m---> 25\u001b[0m \u001b[38;5;28;01mimport\u001b[39;00m \u001b[38;5;21;01mtokenizers\u001b[39;00m\u001b[38;5;21;01m.\u001b[39;00m\u001b[38;5;21;01mpre_tokenizers\u001b[39;00m \u001b[38;5;28;01mas\u001b[39;00m \u001b[38;5;21;01mpre_tokenizers_fast\u001b[39;00m\n\u001b[1;32m     26\u001b[0m \u001b[38;5;28;01mfrom\u001b[39;00m \u001b[38;5;21;01mtokenizers\u001b[39;00m \u001b[38;5;28;01mimport\u001b[39;00m Encoding \u001b[38;5;28;01mas\u001b[39;00m EncodingFast\n",
      "\u001b[0;31mModuleNotFoundError\u001b[0m: No module named 'tokenizers.pre_tokenizers'",
      "\nThe above exception was the direct cause of the following exception:\n",
      "\u001b[0;31mRuntimeError\u001b[0m                              Traceback (most recent call last)",
      "Cell \u001b[0;32mIn[1], line 9\u001b[0m\n\u001b[1;32m      7\u001b[0m \u001b[38;5;28;01mfrom\u001b[39;00m \u001b[38;5;21;01mtorch\u001b[39;00m\u001b[38;5;21;01m.\u001b[39;00m\u001b[38;5;21;01mnn\u001b[39;00m \u001b[38;5;28;01mimport\u001b[39;00m CrossEntropyLoss\n\u001b[1;32m      8\u001b[0m \u001b[38;5;28;01mfrom\u001b[39;00m \u001b[38;5;21;01mtorch\u001b[39;00m\u001b[38;5;21;01m.\u001b[39;00m\u001b[38;5;21;01moptim\u001b[39;00m \u001b[38;5;28;01mimport\u001b[39;00m Adam\n\u001b[0;32m----> 9\u001b[0m \u001b[38;5;28;01mfrom\u001b[39;00m \u001b[38;5;21;01mtransformers\u001b[39;00m \u001b[38;5;28;01mimport\u001b[39;00m TrainingArguments, Trainer\n",
      "File \u001b[0;32m<frozen importlib._bootstrap>:1229\u001b[0m, in \u001b[0;36m_handle_fromlist\u001b[0;34m(module, fromlist, import_, recursive)\u001b[0m\n",
      "File \u001b[0;32m~/miniconda/envs/torch/lib/python3.11/site-packages/transformers/utils/import_utils.py:1354\u001b[0m, in \u001b[0;36m_LazyModule.__getattr__\u001b[0;34m(self, name)\u001b[0m\n\u001b[1;32m   1352\u001b[0m     value \u001b[38;5;241m=\u001b[39m \u001b[38;5;28mself\u001b[39m\u001b[38;5;241m.\u001b[39m_get_module(name)\n\u001b[1;32m   1353\u001b[0m \u001b[38;5;28;01melif\u001b[39;00m name \u001b[38;5;129;01min\u001b[39;00m \u001b[38;5;28mself\u001b[39m\u001b[38;5;241m.\u001b[39m_class_to_module\u001b[38;5;241m.\u001b[39mkeys():\n\u001b[0;32m-> 1354\u001b[0m     module \u001b[38;5;241m=\u001b[39m \u001b[38;5;28mself\u001b[39m\u001b[38;5;241m.\u001b[39m_get_module(\u001b[38;5;28mself\u001b[39m\u001b[38;5;241m.\u001b[39m_class_to_module[name])\n\u001b[1;32m   1355\u001b[0m     value \u001b[38;5;241m=\u001b[39m \u001b[38;5;28mgetattr\u001b[39m(module, name)\n\u001b[1;32m   1356\u001b[0m \u001b[38;5;28;01melse\u001b[39;00m:\n",
      "File \u001b[0;32m~/miniconda/envs/torch/lib/python3.11/site-packages/transformers/utils/import_utils.py:1366\u001b[0m, in \u001b[0;36m_LazyModule._get_module\u001b[0;34m(self, module_name)\u001b[0m\n\u001b[1;32m   1364\u001b[0m     \u001b[38;5;28;01mreturn\u001b[39;00m importlib\u001b[38;5;241m.\u001b[39mimport_module(\u001b[38;5;124m\"\u001b[39m\u001b[38;5;124m.\u001b[39m\u001b[38;5;124m\"\u001b[39m \u001b[38;5;241m+\u001b[39m module_name, \u001b[38;5;28mself\u001b[39m\u001b[38;5;241m.\u001b[39m\u001b[38;5;18m__name__\u001b[39m)\n\u001b[1;32m   1365\u001b[0m \u001b[38;5;28;01mexcept\u001b[39;00m \u001b[38;5;167;01mException\u001b[39;00m \u001b[38;5;28;01mas\u001b[39;00m e:\n\u001b[0;32m-> 1366\u001b[0m     \u001b[38;5;28;01mraise\u001b[39;00m \u001b[38;5;167;01mRuntimeError\u001b[39;00m(\n\u001b[1;32m   1367\u001b[0m         \u001b[38;5;124mf\u001b[39m\u001b[38;5;124m\"\u001b[39m\u001b[38;5;124mFailed to import \u001b[39m\u001b[38;5;132;01m{\u001b[39;00m\u001b[38;5;28mself\u001b[39m\u001b[38;5;241m.\u001b[39m\u001b[38;5;18m__name__\u001b[39m\u001b[38;5;132;01m}\u001b[39;00m\u001b[38;5;124m.\u001b[39m\u001b[38;5;132;01m{\u001b[39;00mmodule_name\u001b[38;5;132;01m}\u001b[39;00m\u001b[38;5;124m because of the following error (look up to see its\u001b[39m\u001b[38;5;124m\"\u001b[39m\n\u001b[1;32m   1368\u001b[0m         \u001b[38;5;124mf\u001b[39m\u001b[38;5;124m\"\u001b[39m\u001b[38;5;124m traceback):\u001b[39m\u001b[38;5;130;01m\\n\u001b[39;00m\u001b[38;5;132;01m{\u001b[39;00me\u001b[38;5;132;01m}\u001b[39;00m\u001b[38;5;124m\"\u001b[39m\n\u001b[1;32m   1369\u001b[0m     ) \u001b[38;5;28;01mfrom\u001b[39;00m \u001b[38;5;21;01me\u001b[39;00m\n",
      "\u001b[0;31mRuntimeError\u001b[0m: Failed to import transformers.trainer because of the following error (look up to see its traceback):\nNo module named 'tokenizers.pre_tokenizers'"
     ]
    }
   ],
   "source": [
    "from Datasets import BinChromaDataset\n",
    "import numpy as np\n",
    "from torch.utils.data import DataLoader, Subset\n",
    "import sys\n",
    "sys.path.insert(0, '..')\n",
    "from transformer.models import TransformerFromModels, EncoderModel, DecoderModel\n",
    "from torch.nn import CrossEntropyLoss\n",
    "from torch.optim import Adam\n",
    "from transformers import TrainingArguments, Trainer"
   ]
  },
  {
   "cell_type": "code",
   "execution_count": null,
   "id": "390b0ee3-e8e3-407e-ab88-806323407734",
   "metadata": {},
   "outputs": [],
   "source": [
    "npz_path = '../data/augmented_and_padded_data.npz'\n",
    "dataset = BinChromaDataset(npz_path)\n",
    "\n",
    "split_idx = int( len(dataset)*0.8 )\n",
    "\n",
    "train_set = Subset(dataset, range(0,split_idx))\n",
    "test_set = Subset(dataset, range(split_idx, len(dataset)))\n",
    "\n",
    "train_loader = DataLoader(train_set, batch_size=64, shuffle=True)\n",
    "test_loader = DataLoader(test_set, batch_size=64, shuffle=True)"
   ]
  },
  {
   "cell_type": "code",
   "execution_count": null,
   "id": "9bbee9ae-6254-4708-80cc-4a42915e7690",
   "metadata": {},
   "outputs": [],
   "source": [
    "src_vocab_size = 2**12\n",
    "tgt_vocab_size = 2**12\n",
    "d_model = 512\n",
    "num_heads = 8\n",
    "num_layers = 6\n",
    "d_ff = 2048\n",
    "max_seq_length = 129\n",
    "dropout = 0.1\n",
    "\n",
    "encoderModel = EncoderModel(src_vocab_size, d_model, num_heads, num_layers, d_ff, max_seq_length, dropout)\n",
    "decoderModel = DecoderModel(tgt_vocab_size, d_model, num_heads, num_layers, d_ff, max_seq_length, dropout)\n",
    "transformer = TransformerFromModels(encoderModel, decoderModel)"
   ]
  },
  {
   "cell_type": "code",
   "execution_count": null,
   "id": "2e680c08-3109-46f8-b079-db491c8a3bea",
   "metadata": {},
   "outputs": [],
   "source": [
    "criterion = CrossEntropyLoss(ignore_index=0)\n",
    "def compute_metrics(output):\n",
    "    return criterion(output.contiguous().view(-1, tgt_vocab_size), chords[:, 1:].contiguous().view(-1))\n",
    "\n",
    "optimizer = Adam(transformer.parameters(), lr=0.0001, betas=(0.9, 0.98), eps=1e-9)\n",
    "\n",
    "training_args = TrainingArguments(output_dir=\"test_trainer\", evaluation_strategy=\"epoch\")"
   ]
  },
  {
   "cell_type": "code",
   "execution_count": null,
   "id": "044d7092-d618-404f-8f3f-6ef22e391d21",
   "metadata": {},
   "outputs": [],
   "source": [
    "trainer = Trainer(\n",
    "    model=transformer,\n",
    "    args=training_args,\n",
    "    train_dataset=train_set,\n",
    "    eval_dataset=test_set,\n",
    "    compute_metrics=compute_metrics,\n",
    ")"
   ]
  }
 ],
 "metadata": {
  "kernelspec": {
   "display_name": "Python 3 (ipykernel)",
   "language": "python",
   "name": "python3"
  },
  "language_info": {
   "codemirror_mode": {
    "name": "ipython",
    "version": 3
   },
   "file_extension": ".py",
   "mimetype": "text/x-python",
   "name": "python",
   "nbconvert_exporter": "python",
   "pygments_lexer": "ipython3",
   "version": "3.11.6"
  }
 },
 "nbformat": 4,
 "nbformat_minor": 5
}
