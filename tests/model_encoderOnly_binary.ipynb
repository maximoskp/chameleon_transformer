{
 "cells": [
  {
   "cell_type": "code",
   "execution_count": 1,
   "id": "f3a19577-2e7a-4aec-9364-8247c7059d80",
   "metadata": {},
   "outputs": [],
   "source": [
    "from Datasets import BinChromaDataset\n",
    "import numpy as np\n",
    "from torch.utils.data import DataLoader, Subset\n",
    "import sys\n",
    "sys.path.insert(0, '..')\n",
    "from transformer.models import ContinuousEncoderOnlyWrapper, ContinuousEncoder\n",
    "from torch.nn import CrossEntropyLoss\n",
    "from torch.optim import Adam\n",
    "import torch\n",
    "from tqdm import tqdm\n",
    "import os"
   ]
  },
  {
   "cell_type": "code",
   "execution_count": 2,
   "id": "8f6fea6c-86ba-464d-b216-5691b912fd90",
   "metadata": {},
   "outputs": [],
   "source": [
    "npz_path = '../data/augmented_and_padded_data.npz'\n",
    "dataset = BinChromaDataset(npz_path)\n",
    "\n",
    "train_percentage = 0.9\n",
    "split_idx = int( len(dataset)*train_percentage )\n",
    "\n",
    "train_set = Subset(dataset, range(0,split_idx))\n",
    "test_set = Subset(dataset, range(split_idx, len(dataset)))\n",
    "\n",
    "batch_size = 8\n",
    "epochs = 1000\n",
    "\n",
    "train_loader = DataLoader(train_set, batch_size=batch_size, shuffle=True)\n",
    "test_loader = DataLoader(test_set, batch_size=batch_size, shuffle=True)"
   ]
  },
  {
   "cell_type": "code",
   "execution_count": 3,
   "id": "4a81513d-cc13-43bc-9522-43a5a3f5dce4",
   "metadata": {},
   "outputs": [],
   "source": [
    "src_vocab_size = 12\n",
    "tgt_vocab_size = 12\n",
    "d_model = 512\n",
    "num_heads = 8\n",
    "num_layers = 8\n",
    "d_ff = 1024\n",
    "max_seq_length = 129\n",
    "dropout = 0.3\n",
    "\n",
    "dev = torch.device(\"cuda:0\" if torch.cuda.is_available() else \"cpu\")\n",
    "\n",
    "encoderModel = ContinuousEncoder(src_vocab_size, d_model, num_heads, num_layers, d_ff, max_seq_length, dropout)\n",
    "\n",
    "transformer = ContinuousEncoderOnlyWrapper(encoderModel)\n",
    "\n",
    "transformer = transformer.to(dev)"
   ]
  },
  {
   "cell_type": "code",
   "execution_count": null,
   "id": "a97921b5-ccb0-488b-9ce1-49a21327c98c",
   "metadata": {},
   "outputs": [
    {
     "name": "stderr",
     "output_type": "stream",
     "text": [
      "Epoch 0 | trn: 100%|██████████████████████████████████████████████████████| 600/600 [02:10<00:00,  4.61batch/s, accuracy=tensor(0.0824, device='cuda:0'), loss=1.28e+3]\n"
     ]
    },
    {
     "name": "stdout",
     "output_type": "stream",
     "text": [
      "validation...\n",
      "saving!\n",
      "validation: accuracy=0.08599960058927536, loss=1266.6331981780604\n"
     ]
    },
    {
     "name": "stderr",
     "output_type": "stream",
     "text": [
      "Epoch 1 | trn: 100%|██████████████████████████████████████████████████████| 600/600 [02:18<00:00,  4.34batch/s, accuracy=tensor(0.0867, device='cuda:0'), loss=1.26e+3]\n"
     ]
    },
    {
     "name": "stdout",
     "output_type": "stream",
     "text": [
      "validation...\n",
      "saving!\n",
      "validation: accuracy=0.08696606755256653, loss=1262.9187639247186\n"
     ]
    },
    {
     "name": "stderr",
     "output_type": "stream",
     "text": [
      "Epoch 2 | trn: 100%|██████████████████████████████████████████████████████| 600/600 [02:18<00:00,  4.32batch/s, accuracy=tensor(0.0871, device='cuda:0'), loss=1.26e+3]\n"
     ]
    },
    {
     "name": "stdout",
     "output_type": "stream",
     "text": [
      "validation...\n",
      "saving!\n",
      "validation: accuracy=0.08783834427595139, loss=1258.172488786937\n"
     ]
    },
    {
     "name": "stderr",
     "output_type": "stream",
     "text": [
      "Epoch 3 | trn: 100%|████████████████████████████████████████████████████████████| 600/600 [03:04<00:00,  3.26batch/s, accuracy=tensor(0.0874, device='cuda:0'), loss=1.26e+3]\n"
     ]
    },
    {
     "name": "stdout",
     "output_type": "stream",
     "text": [
      "validation...\n",
      "saving!\n",
      "validation: accuracy=0.0878106877207756, loss=1257.2156425891183\n"
     ]
    },
    {
     "name": "stderr",
     "output_type": "stream",
     "text": [
      "Epoch 4 | trn:  53%|███████████████████████████████▌                            | 316/600 [01:34<02:18,  2.05batch/s, accuracy=tensor(0.0873, device='cuda:0'), loss=1.26e+3]"
     ]
    }
   ],
   "source": [
    "criterion = CrossEntropyLoss()\n",
    "optimizer = Adam(transformer.parameters(), lr=0.0001, betas=(0.9, 0.98), eps=1e-9)\n",
    "\n",
    "transformer.train()\n",
    "\n",
    "# keep best validation loss for saving\n",
    "best_val_loss = np.inf\n",
    "save_dir = '../saved_models/encoderOnly_one_hot/'\n",
    "encoder_path = save_dir + 'encoderOnly_one_hot.pt'\n",
    "os.makedirs(save_dir, exist_ok=True)\n",
    "\n",
    "for epoch in range(epochs):\n",
    "    train_loss = 0\n",
    "    running_loss = 0\n",
    "    samples_num = 0\n",
    "    running_accuracy = 0\n",
    "    accuracy = 0\n",
    "    with tqdm(train_loader, unit='batch') as tepoch:\n",
    "        tepoch.set_description(f\"Epoch {epoch} | trn\")\n",
    "        for melodies, chords in tepoch:\n",
    "            melodies = melodies.to(dev)\n",
    "            chords = chords.to(dev)\n",
    "            optimizer.zero_grad()\n",
    "            output = transformer(melodies)\n",
    "            loss = criterion(output.contiguous().view(-1), chords.contiguous().view(-1))\n",
    "            loss.backward()\n",
    "            optimizer.step()\n",
    "            # update loss\n",
    "            samples_num += melodies.shape[0]\n",
    "            running_loss += loss.item()\n",
    "            train_loss = running_loss/samples_num\n",
    "            # accuracy\n",
    "            bin_output = output > 0.5\n",
    "            bin_chords = chords > 0.5\n",
    "            tmp_acc = 0\n",
    "            tmp_count = 0\n",
    "            for b_i in range(bin_output.shape[0]):\n",
    "                for s_i in range(bin_output.shape[1]):\n",
    "                    tmp_count += 1\n",
    "                    tmp_acc += torch.all(bin_output[b_i, s_i, :].eq(bin_chords[b_i, s_i, :]))\n",
    "            running_accuracy += tmp_acc/tmp_count\n",
    "            accuracy = running_accuracy/samples_num\n",
    "            tepoch.set_postfix(loss=train_loss, accuracy=accuracy) # tepoch.set_postfix(loss=loss.item(), accuracy=100. * accuracy)\n",
    "    # validation\n",
    "    with torch.no_grad():\n",
    "        val_loss = 0\n",
    "        running_loss = 0\n",
    "        samples_num = 0\n",
    "        running_accuracy = 0\n",
    "        accuracy = 0\n",
    "        print('validation...')\n",
    "        for melodies, chords in test_loader:\n",
    "            melodies = melodies.to(dev)\n",
    "            chords = chords.to(dev)\n",
    "            output = transformer(melodies)\n",
    "            loss = criterion(output.contiguous().view(-1), chords.contiguous().view(-1))\n",
    "            # update loss\n",
    "            samples_num += melodies.shape[0]\n",
    "            running_loss += loss.item()\n",
    "            val_loss = running_loss/samples_num\n",
    "            # accuracy\n",
    "            bin_output = output > 0.5\n",
    "            bin_chords = chords > 0.5\n",
    "            tmp_acc = 0\n",
    "            tmp_count = 0\n",
    "            for b_i in range(bin_output.shape[0]):\n",
    "                for s_i in range(bin_output.shape[1]):\n",
    "                    tmp_count += 1\n",
    "                    tmp_acc += torch.all(bin_output[b_i, s_i, :].eq(bin_chords[b_i, s_i, :]))\n",
    "            running_accuracy += tmp_acc/tmp_count\n",
    "            accuracy = running_accuracy/samples_num\n",
    "        if best_val_loss > val_loss:\n",
    "            print('saving!')\n",
    "            best_val_loss = val_loss\n",
    "            torch.save(transformer.state_dict(), encoder_path)\n",
    "        print(f'validation: accuracy={accuracy}, loss={val_loss}')"
   ]
  },
  {
   "cell_type": "code",
   "execution_count": null,
   "id": "d5e0649c-c5bc-4a20-a9b7-6089a8b1e3b5",
   "metadata": {},
   "outputs": [],
   "source": []
  }
 ],
 "metadata": {
  "kernelspec": {
   "display_name": "Python 3 (ipykernel)",
   "language": "python",
   "name": "python3"
  },
  "language_info": {
   "codemirror_mode": {
    "name": "ipython",
    "version": 3
   },
   "file_extension": ".py",
   "mimetype": "text/x-python",
   "name": "python",
   "nbconvert_exporter": "python",
   "pygments_lexer": "ipython3",
   "version": "3.11.6"
  }
 },
 "nbformat": 4,
 "nbformat_minor": 5
}
