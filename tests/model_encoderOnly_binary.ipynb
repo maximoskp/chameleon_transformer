{
 "cells": [
  {
   "cell_type": "code",
   "execution_count": 1,
   "id": "f3a19577-2e7a-4aec-9364-8247c7059d80",
   "metadata": {},
   "outputs": [],
   "source": [
    "from Datasets import BinChromaDataset\n",
    "import numpy as np\n",
    "from torch.utils.data import DataLoader, Subset\n",
    "import sys\n",
    "sys.path.insert(0, '..')\n",
    "from transformer.models import ContinuousEncoderOnlyWrapper, ContinuousEncoder\n",
    "from torch.nn import CrossEntropyLoss\n",
    "from torch.optim import Adam\n",
    "import torch\n",
    "from tqdm import tqdm\n",
    "import os"
   ]
  },
  {
   "cell_type": "code",
   "execution_count": 2,
   "id": "8f6fea6c-86ba-464d-b216-5691b912fd90",
   "metadata": {},
   "outputs": [],
   "source": [
    "npz_path = '../data/augmented_and_padded_data.npz'\n",
    "dataset = BinChromaDataset(npz_path)\n",
    "\n",
    "train_percentage = 0.9\n",
    "split_idx = int( len(dataset)*train_percentage )\n",
    "\n",
    "train_set = Subset(dataset, range(0,split_idx))\n",
    "test_set = Subset(dataset, range(split_idx, len(dataset)))\n",
    "\n",
    "batch_size = 8\n",
    "epochs = 1000\n",
    "\n",
    "train_loader = DataLoader(train_set, batch_size=batch_size, shuffle=True)\n",
    "test_loader = DataLoader(test_set, batch_size=batch_size, shuffle=True)"
   ]
  },
  {
   "cell_type": "code",
   "execution_count": 3,
   "id": "4a81513d-cc13-43bc-9522-43a5a3f5dce4",
   "metadata": {},
   "outputs": [],
   "source": [
    "src_vocab_size = 12\n",
    "tgt_vocab_size = 12\n",
    "d_model = 128\n",
    "num_heads = 16\n",
    "num_layers = 4\n",
    "d_ff = 128\n",
    "max_seq_length = 129\n",
    "dropout = 0.3\n",
    "\n",
    "dev = torch.device(\"cuda:0\" if torch.cuda.is_available() else \"cpu\")\n",
    "\n",
    "encoderModel = ContinuousEncoder(src_vocab_size, d_model, num_heads, num_layers, d_ff, max_seq_length, dropout)\n",
    "\n",
    "transformer = ContinuousEncoderOnlyWrapper(encoderModel)\n",
    "\n",
    "transformer = transformer.to(dev)"
   ]
  },
  {
   "cell_type": "code",
   "execution_count": null,
   "id": "a97921b5-ccb0-488b-9ce1-49a21327c98c",
   "metadata": {},
   "outputs": [
    {
     "name": "stderr",
     "output_type": "stream",
     "text": [
      "Epoch 0 | trn: 100%|██████████████████████████████████████████████████████| 600/600 [00:36<00:00, 16.25batch/s, accuracy=tensor(0.0782, device='cuda:0'), loss=1.33e+3]\n"
     ]
    },
    {
     "name": "stdout",
     "output_type": "stream",
     "text": [
      "validation...\n",
      "saving!\n",
      "validation: accuracy=0.08267159014940262, loss=1289.0719907950281\n"
     ]
    },
    {
     "name": "stderr",
     "output_type": "stream",
     "text": [
      "Epoch 1 | trn: 100%|██████████████████████████████████████████████████████| 600/600 [00:37<00:00, 15.94batch/s, accuracy=tensor(0.0841, device='cuda:0'), loss=1.28e+3]\n"
     ]
    },
    {
     "name": "stdout",
     "output_type": "stream",
     "text": [
      "validation...\n",
      "saving!\n",
      "validation: accuracy=0.08695732057094574, loss=1277.9007937089586\n"
     ]
    },
    {
     "name": "stderr",
     "output_type": "stream",
     "text": [
      "Epoch 2 | trn: 100%|██████████████████████████████████████████████████████| 600/600 [00:36<00:00, 16.45batch/s, accuracy=tensor(0.0857, device='cuda:0'), loss=1.28e+3]\n"
     ]
    },
    {
     "name": "stdout",
     "output_type": "stream",
     "text": [
      "validation...\n",
      "saving!\n",
      "validation: accuracy=0.08658645302057266, loss=1271.5815548780488\n"
     ]
    },
    {
     "name": "stderr",
     "output_type": "stream",
     "text": [
      "Epoch 3 | trn: 100%|██████████████████████████████████████████████████████| 600/600 [00:36<00:00, 16.41batch/s, accuracy=tensor(0.0863, device='cuda:0'), loss=1.27e+3]\n"
     ]
    },
    {
     "name": "stdout",
     "output_type": "stream",
     "text": [
      "validation...\n",
      "saving!\n",
      "validation: accuracy=0.0871955156326294, loss=1268.852763506977\n"
     ]
    },
    {
     "name": "stderr",
     "output_type": "stream",
     "text": [
      "Epoch 4 | trn: 100%|██████████████████████████████████████████████████████| 600/600 [00:36<00:00, 16.35batch/s, accuracy=tensor(0.0865, device='cuda:0'), loss=1.27e+3]\n"
     ]
    },
    {
     "name": "stdout",
     "output_type": "stream",
     "text": [
      "validation...\n",
      "saving!\n",
      "validation: accuracy=0.08791286498308182, loss=1268.167519861046\n"
     ]
    },
    {
     "name": "stderr",
     "output_type": "stream",
     "text": [
      "Epoch 5 | trn: 100%|██████████████████████████████████████████████████████| 600/600 [00:37<00:00, 16.15batch/s, accuracy=tensor(0.0867, device='cuda:0'), loss=1.27e+3]\n"
     ]
    },
    {
     "name": "stdout",
     "output_type": "stream",
     "text": [
      "validation...\n",
      "saving!\n",
      "validation: accuracy=0.08794448524713516, loss=1265.9332538769347\n"
     ]
    },
    {
     "name": "stderr",
     "output_type": "stream",
     "text": [
      "Epoch 6 | trn: 100%|██████████████████████████████████████████████████████| 600/600 [00:37<00:00, 15.92batch/s, accuracy=tensor(0.0868, device='cuda:0'), loss=1.27e+3]\n"
     ]
    },
    {
     "name": "stdout",
     "output_type": "stream",
     "text": [
      "validation...\n",
      "saving!\n",
      "validation: accuracy=0.08682024478912354, loss=1265.2079226152086\n"
     ]
    },
    {
     "name": "stderr",
     "output_type": "stream",
     "text": [
      "Epoch 7 | trn: 100%|██████████████████████████████████████████████████████| 600/600 [00:37<00:00, 15.84batch/s, accuracy=tensor(0.0869, device='cuda:0'), loss=1.27e+3]\n"
     ]
    },
    {
     "name": "stdout",
     "output_type": "stream",
     "text": [
      "validation...\n",
      "saving!\n",
      "validation: accuracy=0.08755327761173248, loss=1263.7257242685857\n"
     ]
    },
    {
     "name": "stderr",
     "output_type": "stream",
     "text": [
      "Epoch 8 | trn: 100%|██████████████████████████████████████████████████████| 600/600 [00:37<00:00, 16.12batch/s, accuracy=tensor(0.0870, device='cuda:0'), loss=1.26e+3]\n"
     ]
    },
    {
     "name": "stdout",
     "output_type": "stream",
     "text": [
      "validation...\n",
      "saving!\n",
      "validation: accuracy=0.08721621334552765, loss=1263.2810567029198\n"
     ]
    },
    {
     "name": "stderr",
     "output_type": "stream",
     "text": [
      "Epoch 9 | trn: 100%|██████████████████████████████████████████████████████| 600/600 [00:36<00:00, 16.42batch/s, accuracy=tensor(0.0871, device='cuda:0'), loss=1.26e+3]\n"
     ]
    },
    {
     "name": "stdout",
     "output_type": "stream",
     "text": [
      "validation...\n",
      "saving!\n",
      "validation: accuracy=0.08673519641160965, loss=1261.8820255701805\n"
     ]
    },
    {
     "name": "stderr",
     "output_type": "stream",
     "text": [
      "Epoch 10 | trn: 100%|█████████████████████████████████████████████████████| 600/600 [00:36<00:00, 16.53batch/s, accuracy=tensor(0.0871, device='cuda:0'), loss=1.26e+3]\n"
     ]
    },
    {
     "name": "stdout",
     "output_type": "stream",
     "text": [
      "validation...\n",
      "validation: accuracy=0.08813899010419846, loss=1262.3799698419912\n"
     ]
    },
    {
     "name": "stderr",
     "output_type": "stream",
     "text": [
      "Epoch 11 | trn: 100%|█████████████████████████████████████████████████████| 600/600 [00:36<00:00, 16.53batch/s, accuracy=tensor(0.0872, device='cuda:0'), loss=1.26e+3]\n"
     ]
    },
    {
     "name": "stdout",
     "output_type": "stream",
     "text": [
      "validation...\n",
      "saving!\n",
      "validation: accuracy=0.08784342557191849, loss=1260.6399773173664\n"
     ]
    },
    {
     "name": "stderr",
     "output_type": "stream",
     "text": [
      "Epoch 12 | trn: 100%|█████████████████████████████████████████████████████| 600/600 [00:36<00:00, 16.43batch/s, accuracy=tensor(0.0873, device='cuda:0'), loss=1.26e+3]\n"
     ]
    },
    {
     "name": "stdout",
     "output_type": "stream",
     "text": [
      "validation...\n",
      "saving!\n",
      "validation: accuracy=0.08782415091991425, loss=1260.0176257621952\n"
     ]
    },
    {
     "name": "stderr",
     "output_type": "stream",
     "text": [
      "Epoch 13 | trn: 100%|█████████████████████████████████████████████████████| 600/600 [00:36<00:00, 16.43batch/s, accuracy=tensor(0.0873, device='cuda:0'), loss=1.26e+3]\n"
     ]
    },
    {
     "name": "stdout",
     "output_type": "stream",
     "text": [
      "validation...\n",
      "validation: accuracy=0.08784342557191849, loss=1260.8740747390948\n"
     ]
    },
    {
     "name": "stderr",
     "output_type": "stream",
     "text": [
      "Epoch 14 | trn: 100%|█████████████████████████████████████████████████████| 600/600 [00:36<00:00, 16.41batch/s, accuracy=tensor(0.0874, device='cuda:0'), loss=1.26e+3]\n"
     ]
    },
    {
     "name": "stdout",
     "output_type": "stream",
     "text": [
      "validation...\n",
      "saving!\n",
      "validation: accuracy=0.08750090003013611, loss=1259.3652307106004\n"
     ]
    },
    {
     "name": "stderr",
     "output_type": "stream",
     "text": [
      "Epoch 15 | trn: 100%|█████████████████████████████████████████████████████| 600/600 [00:37<00:00, 16.10batch/s, accuracy=tensor(0.0874, device='cuda:0'), loss=1.26e+3]\n"
     ]
    },
    {
     "name": "stdout",
     "output_type": "stream",
     "text": [
      "validation...\n",
      "saving!\n",
      "validation: accuracy=0.08788159489631653, loss=1258.732744342167\n"
     ]
    },
    {
     "name": "stderr",
     "output_type": "stream",
     "text": [
      "Epoch 16 | trn: 100%|█████████████████████████████████████████████████████| 600/600 [00:38<00:00, 15.72batch/s, accuracy=tensor(0.0875, device='cuda:0'), loss=1.26e+3]\n"
     ]
    },
    {
     "name": "stdout",
     "output_type": "stream",
     "text": [
      "validation...\n",
      "saving!\n",
      "validation: accuracy=0.08685224503278732, loss=1258.625801587418\n"
     ]
    },
    {
     "name": "stderr",
     "output_type": "stream",
     "text": [
      "Epoch 17 | trn: 100%|█████████████████████████████████████████████████████| 600/600 [00:37<00:00, 15.92batch/s, accuracy=tensor(0.0874, device='cuda:0'), loss=1.26e+3]\n"
     ]
    },
    {
     "name": "stdout",
     "output_type": "stream",
     "text": [
      "validation...\n",
      "validation: accuracy=0.08778814226388931, loss=1259.2484618682574\n"
     ]
    },
    {
     "name": "stderr",
     "output_type": "stream",
     "text": [
      "Epoch 18 | trn: 100%|█████████████████████████████████████████████████████| 600/600 [00:37<00:00, 15.93batch/s, accuracy=tensor(0.0875, device='cuda:0'), loss=1.26e+3]\n"
     ]
    },
    {
     "name": "stdout",
     "output_type": "stream",
     "text": [
      "validation...\n",
      "saving!\n",
      "validation: accuracy=0.08786016702651978, loss=1257.628956635495\n"
     ]
    },
    {
     "name": "stderr",
     "output_type": "stream",
     "text": [
      "Epoch 19 | trn: 100%|█████████████████████████████████████████████████████| 600/600 [00:37<00:00, 15.94batch/s, accuracy=tensor(0.0875, device='cuda:0'), loss=1.26e+3]\n"
     ]
    },
    {
     "name": "stdout",
     "output_type": "stream",
     "text": [
      "validation...\n",
      "validation: accuracy=0.08769142627716064, loss=1257.920869122303\n"
     ]
    },
    {
     "name": "stderr",
     "output_type": "stream",
     "text": [
      "Epoch 20 | trn: 100%|█████████████████████████████████████████████████████| 600/600 [00:37<00:00, 15.96batch/s, accuracy=tensor(0.0875, device='cuda:0'), loss=1.26e+3]\n"
     ]
    },
    {
     "name": "stdout",
     "output_type": "stream",
     "text": [
      "validation...\n",
      "saving!\n",
      "validation: accuracy=0.08780013769865036, loss=1257.5488290411\n"
     ]
    },
    {
     "name": "stderr",
     "output_type": "stream",
     "text": [
      "Epoch 21 | trn: 100%|█████████████████████████████████████████████████████| 600/600 [00:37<00:00, 15.95batch/s, accuracy=tensor(0.0876, device='cuda:0'), loss=1.26e+3]\n"
     ]
    },
    {
     "name": "stdout",
     "output_type": "stream",
     "text": [
      "validation...\n",
      "saving!\n",
      "validation: accuracy=0.08806303888559341, loss=1257.2266055566956\n"
     ]
    },
    {
     "name": "stderr",
     "output_type": "stream",
     "text": [
      "Epoch 22 | trn: 100%|█████████████████████████████████████████████████████| 600/600 [00:37<00:00, 15.88batch/s, accuracy=tensor(0.0876, device='cuda:0'), loss=1.26e+3]\n"
     ]
    },
    {
     "name": "stdout",
     "output_type": "stream",
     "text": [
      "validation...\n",
      "validation: accuracy=0.0881219431757927, loss=1257.7236584632974\n"
     ]
    },
    {
     "name": "stderr",
     "output_type": "stream",
     "text": [
      "Epoch 23 | trn: 100%|█████████████████████████████████████████████████████| 600/600 [00:36<00:00, 16.54batch/s, accuracy=tensor(0.0876, device='cuda:0'), loss=1.26e+3]\n"
     ]
    },
    {
     "name": "stdout",
     "output_type": "stream",
     "text": [
      "validation...\n",
      "saving!\n",
      "validation: accuracy=0.08781397342681885, loss=1256.7030691179057\n"
     ]
    },
    {
     "name": "stderr",
     "output_type": "stream",
     "text": [
      "Epoch 24 | trn: 100%|█████████████████████████████████████████████████████| 600/600 [00:36<00:00, 16.23batch/s, accuracy=tensor(0.0876, device='cuda:0'), loss=1.26e+3]\n"
     ]
    },
    {
     "name": "stdout",
     "output_type": "stream",
     "text": [
      "validation...\n",
      "validation: accuracy=0.08808556199073792, loss=1256.8162999824108\n"
     ]
    },
    {
     "name": "stderr",
     "output_type": "stream",
     "text": [
      "Epoch 25 | trn: 100%|█████████████████████████████████████████████████████| 600/600 [00:36<00:00, 16.48batch/s, accuracy=tensor(0.0876, device='cuda:0'), loss=1.26e+3]\n"
     ]
    },
    {
     "name": "stdout",
     "output_type": "stream",
     "text": [
      "validation...\n",
      "validation: accuracy=0.08803721517324448, loss=1256.8481555244489\n"
     ]
    },
    {
     "name": "stderr",
     "output_type": "stream",
     "text": [
      "Epoch 26 | trn: 100%|█████████████████████████████████████████████████████| 600/600 [00:36<00:00, 16.40batch/s, accuracy=tensor(0.0876, device='cuda:0'), loss=1.26e+3]\n"
     ]
    },
    {
     "name": "stdout",
     "output_type": "stream",
     "text": [
      "validation...\n",
      "validation: accuracy=0.08737146109342575, loss=1257.4976263851431\n"
     ]
    },
    {
     "name": "stderr",
     "output_type": "stream",
     "text": [
      "Epoch 27 | trn: 100%|█████████████████████████████████████████████████████| 600/600 [00:36<00:00, 16.39batch/s, accuracy=tensor(0.0876, device='cuda:0'), loss=1.26e+3]\n"
     ]
    },
    {
     "name": "stdout",
     "output_type": "stream",
     "text": [
      "validation...\n",
      "saving!\n",
      "validation: accuracy=0.08800448477268219, loss=1256.4704466170263\n"
     ]
    },
    {
     "name": "stderr",
     "output_type": "stream",
     "text": [
      "Epoch 28 | trn: 100%|█████████████████████████████████████████████████████| 600/600 [00:36<00:00, 16.38batch/s, accuracy=tensor(0.0877, device='cuda:0'), loss=1.26e+3]\n"
     ]
    },
    {
     "name": "stdout",
     "output_type": "stream",
     "text": [
      "validation...\n",
      "saving!\n",
      "validation: accuracy=0.08820047974586487, loss=1256.047108605476\n"
     ]
    },
    {
     "name": "stderr",
     "output_type": "stream",
     "text": [
      "Epoch 29 | trn: 100%|█████████████████████████████████████████████████████| 600/600 [00:36<00:00, 16.44batch/s, accuracy=tensor(0.0877, device='cuda:0'), loss=1.26e+3]\n"
     ]
    },
    {
     "name": "stdout",
     "output_type": "stream",
     "text": [
      "validation...\n",
      "saving!\n",
      "validation: accuracy=0.08775468170642853, loss=1256.0165053720098\n"
     ]
    },
    {
     "name": "stderr",
     "output_type": "stream",
     "text": [
      "Epoch 30 | trn: 100%|█████████████████████████████████████████████████████| 600/600 [00:37<00:00, 16.18batch/s, accuracy=tensor(0.0877, device='cuda:0'), loss=1.26e+3]\n"
     ]
    },
    {
     "name": "stdout",
     "output_type": "stream",
     "text": [
      "validation...\n",
      "validation: accuracy=0.08820337802171707, loss=1256.5154857528144\n"
     ]
    },
    {
     "name": "stderr",
     "output_type": "stream",
     "text": [
      "Epoch 31 | trn: 100%|█████████████████████████████████████████████████████| 600/600 [00:36<00:00, 16.24batch/s, accuracy=tensor(0.0877, device='cuda:0'), loss=1.26e+3]\n"
     ]
    },
    {
     "name": "stdout",
     "output_type": "stream",
     "text": [
      "validation...\n",
      "saving!\n",
      "validation: accuracy=0.08798304945230484, loss=1254.830596637547\n"
     ]
    },
    {
     "name": "stderr",
     "output_type": "stream",
     "text": [
      "Epoch 32 | trn: 100%|█████████████████████████████████████████████████████| 600/600 [00:38<00:00, 15.65batch/s, accuracy=tensor(0.0878, device='cuda:0'), loss=1.26e+3]\n"
     ]
    },
    {
     "name": "stdout",
     "output_type": "stream",
     "text": [
      "validation...\n",
      "validation: accuracy=0.0879405289888382, loss=1255.078759857235\n"
     ]
    },
    {
     "name": "stderr",
     "output_type": "stream",
     "text": [
      "Epoch 33 | trn: 100%|█████████████████████████████████████████████████████| 600/600 [00:38<00:00, 15.40batch/s, accuracy=tensor(0.0878, device='cuda:0'), loss=1.26e+3]\n"
     ]
    },
    {
     "name": "stdout",
     "output_type": "stream",
     "text": [
      "validation...\n",
      "validation: accuracy=0.08806920796632767, loss=1255.575497625469\n"
     ]
    },
    {
     "name": "stderr",
     "output_type": "stream",
     "text": [
      "Epoch 34 | trn: 100%|█████████████████████████████████████████████████████| 600/600 [00:38<00:00, 15.46batch/s, accuracy=tensor(0.0878, device='cuda:0'), loss=1.26e+3]\n"
     ]
    },
    {
     "name": "stdout",
     "output_type": "stream",
     "text": [
      "validation...\n",
      "validation: accuracy=0.088089220225811, loss=1255.0617561268762\n"
     ]
    },
    {
     "name": "stderr",
     "output_type": "stream",
     "text": [
      "Epoch 35 | trn: 100%|█████████████████████████████████████████████████████| 600/600 [00:39<00:00, 15.35batch/s, accuracy=tensor(0.0878, device='cuda:0'), loss=1.26e+3]\n"
     ]
    },
    {
     "name": "stdout",
     "output_type": "stream",
     "text": [
      "validation...\n",
      "saving!\n",
      "validation: accuracy=0.08799031376838684, loss=1254.8090270652556\n"
     ]
    },
    {
     "name": "stderr",
     "output_type": "stream",
     "text": [
      "Epoch 36 | trn: 100%|█████████████████████████████████████████████████████| 600/600 [00:40<00:00, 14.99batch/s, accuracy=tensor(0.0878, device='cuda:0'), loss=1.26e+3]\n"
     ]
    },
    {
     "name": "stdout",
     "output_type": "stream",
     "text": [
      "validation...\n",
      "validation: accuracy=0.08827320486307144, loss=1255.748799909123\n"
     ]
    },
    {
     "name": "stderr",
     "output_type": "stream",
     "text": [
      "Epoch 37 | trn: 100%|█████████████████████████████████████████████████████| 600/600 [00:39<00:00, 15.09batch/s, accuracy=tensor(0.0878, device='cuda:0'), loss=1.26e+3]\n"
     ]
    },
    {
     "name": "stdout",
     "output_type": "stream",
     "text": [
      "validation...\n",
      "validation: accuracy=0.0881045013666153, loss=1254.953310052181\n"
     ]
    },
    {
     "name": "stderr",
     "output_type": "stream",
     "text": [
      "Epoch 38 | trn: 100%|█████████████████████████████████████████████████████| 600/600 [00:39<00:00, 15.01batch/s, accuracy=tensor(0.0878, device='cuda:0'), loss=1.26e+3]\n"
     ]
    },
    {
     "name": "stdout",
     "output_type": "stream",
     "text": [
      "validation...\n",
      "saving!\n",
      "validation: accuracy=0.08805830776691437, loss=1254.522286878518\n"
     ]
    },
    {
     "name": "stderr",
     "output_type": "stream",
     "text": [
      "Epoch 39 | trn: 100%|█████████████████████████████████████████████████████| 600/600 [00:38<00:00, 15.52batch/s, accuracy=tensor(0.0878, device='cuda:0'), loss=1.25e+3]\n"
     ]
    },
    {
     "name": "stdout",
     "output_type": "stream",
     "text": [
      "validation...\n",
      "saving!\n",
      "validation: accuracy=0.08817064762115479, loss=1254.3460145989682\n"
     ]
    },
    {
     "name": "stderr",
     "output_type": "stream",
     "text": [
      "Epoch 40 | trn: 100%|█████████████████████████████████████████████████████| 600/600 [00:38<00:00, 15.52batch/s, accuracy=tensor(0.0878, device='cuda:0'), loss=1.25e+3]\n"
     ]
    },
    {
     "name": "stdout",
     "output_type": "stream",
     "text": [
      "validation...\n",
      "validation: accuracy=0.08814775943756104, loss=1254.3765454605418\n"
     ]
    },
    {
     "name": "stderr",
     "output_type": "stream",
     "text": [
      "Epoch 41 | trn: 100%|█████████████████████████████████████████████████████| 600/600 [00:39<00:00, 15.00batch/s, accuracy=tensor(0.0878, device='cuda:0'), loss=1.25e+3]\n"
     ]
    },
    {
     "name": "stdout",
     "output_type": "stream",
     "text": [
      "validation...\n",
      "saving!\n",
      "validation: accuracy=0.08817430585622787, loss=1254.068369452099\n"
     ]
    },
    {
     "name": "stderr",
     "output_type": "stream",
     "text": [
      "Epoch 42 | trn: 100%|█████████████████████████████████████████████████████| 600/600 [00:38<00:00, 15.52batch/s, accuracy=tensor(0.0878, device='cuda:0'), loss=1.25e+3]\n"
     ]
    },
    {
     "name": "stdout",
     "output_type": "stream",
     "text": [
      "validation...\n",
      "validation: accuracy=0.08813902735710144, loss=1254.9770150533536\n"
     ]
    },
    {
     "name": "stderr",
     "output_type": "stream",
     "text": [
      "Epoch 43 | trn: 100%|█████████████████████████████████████████████████████| 600/600 [00:40<00:00, 14.93batch/s, accuracy=tensor(0.0878, device='cuda:0'), loss=1.25e+3]\n"
     ]
    },
    {
     "name": "stdout",
     "output_type": "stream",
     "text": [
      "validation...\n",
      "validation: accuracy=0.08822555094957352, loss=1254.6977987951454\n"
     ]
    },
    {
     "name": "stderr",
     "output_type": "stream",
     "text": [
      "Epoch 44 | trn: 100%|█████████████████████████████████████████████████████| 600/600 [00:38<00:00, 15.66batch/s, accuracy=tensor(0.0878, device='cuda:0'), loss=1.25e+3]\n"
     ]
    },
    {
     "name": "stdout",
     "output_type": "stream",
     "text": [
      "validation...\n",
      "saving!\n",
      "validation: accuracy=0.08823029696941376, loss=1253.8635899756684\n"
     ]
    },
    {
     "name": "stderr",
     "output_type": "stream",
     "text": [
      "Epoch 45 | trn: 100%|█████████████████████████████████████████████████████| 600/600 [00:38<00:00, 15.62batch/s, accuracy=tensor(0.0878, device='cuda:0'), loss=1.25e+3]\n"
     ]
    },
    {
     "name": "stdout",
     "output_type": "stream",
     "text": [
      "validation...\n",
      "validation: accuracy=0.08810922503471375, loss=1254.4010923575281\n"
     ]
    },
    {
     "name": "stderr",
     "output_type": "stream",
     "text": [
      "Epoch 46 | trn: 100%|█████████████████████████████████████████████████████| 600/600 [00:38<00:00, 15.58batch/s, accuracy=tensor(0.0878, device='cuda:0'), loss=1.25e+3]\n"
     ]
    },
    {
     "name": "stdout",
     "output_type": "stream",
     "text": [
      "validation...\n",
      "validation: accuracy=0.08792378008365631, loss=1253.937469768703\n"
     ]
    },
    {
     "name": "stderr",
     "output_type": "stream",
     "text": [
      "Epoch 47 | trn: 100%|█████████████████████████████████████████████████████| 600/600 [00:38<00:00, 15.72batch/s, accuracy=tensor(0.0878, device='cuda:0'), loss=1.25e+3]\n"
     ]
    },
    {
     "name": "stdout",
     "output_type": "stream",
     "text": [
      "validation...\n",
      "validation: accuracy=0.08824227750301361, loss=1254.5225653728894\n"
     ]
    },
    {
     "name": "stderr",
     "output_type": "stream",
     "text": [
      "Epoch 48 | trn: 100%|█████████████████████████████████████████████████████| 600/600 [00:38<00:00, 15.57batch/s, accuracy=tensor(0.0878, device='cuda:0'), loss=1.25e+3]\n"
     ]
    },
    {
     "name": "stdout",
     "output_type": "stream",
     "text": [
      "validation...\n",
      "saving!\n",
      "validation: accuracy=0.08830083161592484, loss=1253.8020482161703\n"
     ]
    },
    {
     "name": "stderr",
     "output_type": "stream",
     "text": [
      "Epoch 49 | trn: 100%|█████████████████████████████████████████████████████| 600/600 [00:39<00:00, 15.27batch/s, accuracy=tensor(0.0879, device='cuda:0'), loss=1.25e+3]\n"
     ]
    },
    {
     "name": "stdout",
     "output_type": "stream",
     "text": [
      "validation...\n",
      "saving!\n",
      "validation: accuracy=0.08818191289901733, loss=1253.6496833958724\n"
     ]
    },
    {
     "name": "stderr",
     "output_type": "stream",
     "text": [
      "Epoch 50 | trn: 100%|█████████████████████████████████████████████████████| 600/600 [00:39<00:00, 15.06batch/s, accuracy=tensor(0.0879, device='cuda:0'), loss=1.25e+3]\n"
     ]
    },
    {
     "name": "stdout",
     "output_type": "stream",
     "text": [
      "validation...\n",
      "validation: accuracy=0.08792994916439056, loss=1254.1277107396224\n"
     ]
    },
    {
     "name": "stderr",
     "output_type": "stream",
     "text": [
      "Epoch 51 | trn: 100%|█████████████████████████████████████████████████████| 600/600 [00:40<00:00, 14.93batch/s, accuracy=tensor(0.0878, device='cuda:0'), loss=1.25e+3]\n"
     ]
    },
    {
     "name": "stdout",
     "output_type": "stream",
     "text": [
      "validation...\n",
      "validation: accuracy=0.0879514068365097, loss=1253.7889589807105\n"
     ]
    },
    {
     "name": "stderr",
     "output_type": "stream",
     "text": [
      "Epoch 52 | trn: 100%|█████████████████████████████████████████████████████| 600/600 [00:40<00:00, 14.81batch/s, accuracy=tensor(0.0879, device='cuda:0'), loss=1.25e+3]\n"
     ]
    },
    {
     "name": "stdout",
     "output_type": "stream",
     "text": [
      "validation...\n",
      "validation: accuracy=0.08831719309091568, loss=1254.0867006112219\n"
     ]
    },
    {
     "name": "stderr",
     "output_type": "stream",
     "text": [
      "Epoch 53 | trn: 100%|█████████████████████████████████████████████████████| 600/600 [00:39<00:00, 15.17batch/s, accuracy=tensor(0.0879, device='cuda:0'), loss=1.25e+3]\n"
     ]
    },
    {
     "name": "stdout",
     "output_type": "stream",
     "text": [
      "validation...\n",
      "saving!\n",
      "validation: accuracy=0.08821755647659302, loss=1253.3621755174133\n"
     ]
    },
    {
     "name": "stderr",
     "output_type": "stream",
     "text": [
      "Epoch 54 | trn: 100%|█████████████████████████████████████████████████████| 600/600 [00:39<00:00, 15.15batch/s, accuracy=tensor(0.0879, device='cuda:0'), loss=1.25e+3]\n"
     ]
    },
    {
     "name": "stdout",
     "output_type": "stream",
     "text": [
      "validation...\n",
      "validation: accuracy=0.08823212236166, loss=1254.2169755144816\n"
     ]
    },
    {
     "name": "stderr",
     "output_type": "stream",
     "text": [
      "Epoch 55 | trn: 100%|█████████████████████████████████████████████████████| 600/600 [00:38<00:00, 15.42batch/s, accuracy=tensor(0.0879, device='cuda:0'), loss=1.25e+3]\n"
     ]
    },
    {
     "name": "stdout",
     "output_type": "stream",
     "text": [
      "validation...\n"
     ]
    }
   ],
   "source": [
    "criterion = CrossEntropyLoss()\n",
    "optimizer = Adam(transformer.parameters(), lr=0.0001, betas=(0.9, 0.98), eps=1e-9)\n",
    "\n",
    "transformer.train()\n",
    "\n",
    "# keep best validation loss for saving\n",
    "best_val_loss = np.inf\n",
    "save_dir = '../saved_models/encoderOnly_one_hot/'\n",
    "encoder_path = save_dir + 'encoderOnly_one_hot.pt'\n",
    "os.makedirs(save_dir, exist_ok=True)\n",
    "\n",
    "for epoch in range(epochs):\n",
    "    train_loss = 0\n",
    "    running_loss = 0\n",
    "    samples_num = 0\n",
    "    running_accuracy = 0\n",
    "    accuracy = 0\n",
    "    with tqdm(train_loader, unit='batch') as tepoch:\n",
    "        tepoch.set_description(f\"Epoch {epoch} | trn\")\n",
    "        for melodies, chords in tepoch:\n",
    "            melodies = melodies.to(dev)\n",
    "            chords = chords.to(dev)\n",
    "            optimizer.zero_grad()\n",
    "            output = transformer(melodies)\n",
    "            # output = transformer(chords) # identity check\n",
    "            loss = criterion(output.contiguous().view(-1), chords.contiguous().view(-1))\n",
    "            loss.backward()\n",
    "            optimizer.step()\n",
    "            # update loss\n",
    "            samples_num += melodies.shape[0]\n",
    "            running_loss += loss.item()\n",
    "            train_loss = running_loss/samples_num\n",
    "            # accuracy\n",
    "            bin_output = output > 0.5\n",
    "            bin_chords = chords > 0.5\n",
    "            tmp_acc = 0\n",
    "            tmp_count = 0\n",
    "            for b_i in range(bin_output.shape[0]):\n",
    "                for s_i in range(bin_output.shape[1]):\n",
    "                    tmp_count += 1\n",
    "                    tmp_acc += torch.all(bin_output[b_i, s_i, :].eq(bin_chords[b_i, s_i, :]))\n",
    "            running_accuracy += tmp_acc/tmp_count\n",
    "            accuracy = running_accuracy/samples_num\n",
    "            tepoch.set_postfix(loss=train_loss, accuracy=accuracy) # tepoch.set_postfix(loss=loss.item(), accuracy=100. * accuracy)\n",
    "    # validation\n",
    "    with torch.no_grad():\n",
    "        val_loss = 0\n",
    "        running_loss = 0\n",
    "        samples_num = 0\n",
    "        running_accuracy = 0\n",
    "        accuracy = 0\n",
    "        print('validation...')\n",
    "        for melodies, chords in test_loader:\n",
    "            melodies = melodies.to(dev)\n",
    "            chords = chords.to(dev)\n",
    "            output = transformer(melodies)\n",
    "            # output = transformer(chords) # identity check\n",
    "            loss = criterion(output.contiguous().view(-1), chords.contiguous().view(-1))\n",
    "            # update loss\n",
    "            samples_num += melodies.shape[0]\n",
    "            running_loss += loss.item()\n",
    "            val_loss = running_loss/samples_num\n",
    "            # accuracy\n",
    "            bin_output = output > 0.5\n",
    "            bin_chords = chords > 0.5\n",
    "            tmp_acc = 0\n",
    "            tmp_count = 0\n",
    "            for b_i in range(bin_output.shape[0]):\n",
    "                for s_i in range(bin_output.shape[1]):\n",
    "                    tmp_count += 1\n",
    "                    tmp_acc += torch.all(bin_output[b_i, s_i, :].eq(bin_chords[b_i, s_i, :]))\n",
    "            running_accuracy += tmp_acc/tmp_count\n",
    "            accuracy = running_accuracy/samples_num\n",
    "        if best_val_loss > val_loss:\n",
    "            print('saving!')\n",
    "            best_val_loss = val_loss\n",
    "            torch.save(transformer.state_dict(), encoder_path)\n",
    "        print(f'validation: accuracy={accuracy}, loss={val_loss}')"
   ]
  }
 ],
 "metadata": {
  "kernelspec": {
   "display_name": "Python 3 (ipykernel)",
   "language": "python",
   "name": "python3"
  },
  "language_info": {
   "codemirror_mode": {
    "name": "ipython",
    "version": 3
   },
   "file_extension": ".py",
   "mimetype": "text/x-python",
   "name": "python",
   "nbconvert_exporter": "python",
   "pygments_lexer": "ipython3",
   "version": "3.11.6"
  }
 },
 "nbformat": 4,
 "nbformat_minor": 5
}
