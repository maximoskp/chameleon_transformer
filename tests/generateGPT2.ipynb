{
 "cells": [
  {
   "cell_type": "code",
   "execution_count": 1,
   "id": "9ce524bf-ac14-4eba-964c-c950f77f5877",
   "metadata": {},
   "outputs": [],
   "source": [
    "import sys\n",
    "sys.path.insert(0, '..')\n",
    "# from transformer.models import DecoderOnlyModel\n",
    "from data_utils.Datasets import SerializedConcatDataset, PermSerializedConcatDataset, BinarySerializer\n",
    "import pickle\n",
    "import torch\n",
    "import numpy as np\n",
    "\n",
    "from transformers import AutoConfig, GPT2LMHeadModel"
   ]
  },
  {
   "cell_type": "code",
   "execution_count": 2,
   "id": "feee78c5-673a-42cf-b06b-b60aa403503a",
   "metadata": {},
   "outputs": [
    {
     "data": {
      "text/plain": [
       "GPT2LMHeadModel(\n",
       "  (transformer): GPT2Model(\n",
       "    (wte): Embedding(30, 256)\n",
       "    (wpe): Embedding(1063, 256)\n",
       "    (drop): Dropout(p=0.1, inplace=False)\n",
       "    (h): ModuleList(\n",
       "      (0-3): 4 x GPT2Block(\n",
       "        (ln_1): LayerNorm((256,), eps=1e-05, elementwise_affine=True)\n",
       "        (attn): GPT2Attention(\n",
       "          (c_attn): Conv1D()\n",
       "          (c_proj): Conv1D()\n",
       "          (attn_dropout): Dropout(p=0.1, inplace=False)\n",
       "          (resid_dropout): Dropout(p=0.1, inplace=False)\n",
       "        )\n",
       "        (ln_2): LayerNorm((256,), eps=1e-05, elementwise_affine=True)\n",
       "        (mlp): GPT2MLP(\n",
       "          (c_fc): Conv1D()\n",
       "          (c_proj): Conv1D()\n",
       "          (act): NewGELUActivation()\n",
       "          (dropout): Dropout(p=0.1, inplace=False)\n",
       "        )\n",
       "      )\n",
       "    )\n",
       "    (ln_f): LayerNorm((256,), eps=1e-05, elementwise_affine=True)\n",
       "  )\n",
       "  (lm_head): Linear(in_features=256, out_features=30, bias=False)\n",
       ")"
      ]
     },
     "execution_count": 2,
     "metadata": {},
     "output_type": "execute_result"
    }
   ],
   "source": [
    "with open('serializer_jazz.pkl', 'rb') as inp:\n",
    "    binser = pickle.load(inp)\n",
    "\n",
    "binser2 = BinarySerializer()\n",
    "\n",
    "# define model\n",
    "vocab_size = binser.vocab_size\n",
    "d_model = 256\n",
    "num_heads = 4\n",
    "num_layers = 4\n",
    "d_ff = 256\n",
    "max_seq_length = binser.max_seq_length\n",
    "dropout = 0.3\n",
    "\n",
    "# dev = torch.device(\"cuda:0\" if torch.cuda.is_available() else \"cpu\")\n",
    "dev = torch.device(\"cpu\")\n",
    "\n",
    "config = AutoConfig.from_pretrained(\n",
    "    \"gpt2\",\n",
    "    vocab_size=vocab_size,\n",
    "    n_positions=max_seq_length,\n",
    "    n_layer=num_layers,\n",
    "    n_head=num_heads,\n",
    "    pad_token_id=binser.padding,\n",
    "    bos_token_id=binser.padding,\n",
    "    eos_token_id=binser.padding,\n",
    "    n_embd=d_ff\n",
    ")\n",
    "transformer = GPT2LMHeadModel(config).to(dev)\n",
    "\n",
    "transformer = transformer.to(dev)\n",
    "\n",
    "saved_model_path = '../saved_models/melboost_jazz_GPT2/melboost_jazz_GPT2.pt'\n",
    "transformer.load_state_dict(torch.load(saved_model_path), strict=False)\n",
    "\n",
    "transformer.eval()"
   ]
  },
  {
   "cell_type": "code",
   "execution_count": 3,
   "id": "47bc83f1-1ed9-45a1-a069-1e294d5caf0d",
   "metadata": {},
   "outputs": [],
   "source": [
    "# load data to test\n",
    "# load data\n",
    "npz_path = '../data/augmented_and_padded_data.npz'\n",
    "dataset = SerializedConcatDataset(npz_path, pad_to_length=max_seq_length, left_padding=False)"
   ]
  },
  {
   "cell_type": "code",
   "execution_count": 4,
   "id": "d81f1a49-5745-458d-bb06-eda1f580389f",
   "metadata": {},
   "outputs": [
    {
     "name": "stdout",
     "output_type": "stream",
     "text": [
      "[ 1  2  3 12  2 14  2  3 12  2 14  2 10 14  2 12  2 10 14  2 12  2  3 12\n",
      "  2 14  2  3 12  2 10 14  2  7  2  7  2  4  7  2  6  2  4  7  2  6  2  6\n",
      " 14  2  4  2  6 14  2  4  2  4  7  2  6  2  4  7  2  6 14  2 11  2 10  2\n",
      "  3 12  2 14  2  3 12  2 14  2 10 14  2 12  2 10 14  2 12  2  3 12  2 14\n",
      "  2  3 12  2 10 14  2 10  2 10  2 12  2 10  2  8  2  7  2 10  2  8  2  5\n",
      "  7  2  3 12  2 14  2  3 12  2  7 14  2  3  2  3 15]\n"
     ]
    }
   ],
   "source": [
    "x, mask = dataset.__getitem__(0)\n",
    "# find start harmonization index\n",
    "idx = np.where(x == binser.start_harmonizing)[0][0]\n",
    "x_mel = x[:idx+1]\n",
    "with np.printoptions(threshold=np.inf):\n",
    "    print(x_mel)\n",
    "#     print(mask)\n",
    "#     print(x)"
   ]
  },
  {
   "cell_type": "code",
   "execution_count": 5,
   "id": "08874239-51fd-42e8-bb75-caf076b82672",
   "metadata": {},
   "outputs": [
    {
     "name": "stdout",
     "output_type": "stream",
     "text": [
      "output.logits:  tensor([-25.4960, -12.1390, -13.3605,  -4.6104,  -8.6326, -14.7351,  -7.0679,\n",
      "        -18.4973,  -7.6556, -21.0319,  -9.1271, -13.6450,  -2.3931, -14.3436,\n",
      "        -28.7538, -13.2978,  35.4094,  -2.6035, -14.3177, -12.4976, -14.6406,\n",
      "        -13.6371, -12.8388, -15.9796, -11.3975, -16.5874,   4.0534,  -5.8872,\n",
      "         -0.2046, -20.1894], grad_fn=<SliceBackward0>)\n",
      "prediction.shape:  torch.Size([137])\n",
      "input:  [[ 1  2  3 12  2 14  2  3 12  2 14  2 10 14  2 12  2 10 14  2 12  2  3 12\n",
      "   2 14  2  3 12  2 10 14  2  7  2  7  2  4  7  2  6  2  4  7  2  6  2  6\n",
      "  14  2  4  2  6 14  2  4  2  4  7  2  6  2  4  7  2  6 14  2 11  2 10  2\n",
      "   3 12  2 14  2  3 12  2 14  2 10 14  2 12  2 10 14  2 12  2  3 12  2 14\n",
      "   2  3 12  2 10 14  2 10  2 10  2 12  2 10  2  8  2  7  2 10  2  8  2  5\n",
      "   7  2  3 12  2 14  2  3 12  2  7 14  2  3  2  3 15]]\n",
      "z:  [15 15 18 17 15 16 15 19 16 15 16 15 17 16 15 16 15 16 16 15 16 15 19 16\n",
      " 15 16 15 19 16 15 17 16 15 17 15 24 15 21 22 15 21 15 21 22 15 24 15 21\n",
      " 16 15 21 15 21 16 15 17 15 17 24 15 21 15 21 24 15 21 16 15 28 15  6 15\n",
      " 20  5 15 16 15 19 19 15 16 15 17 16 15 19 15 17 16 15 17 15 19 17 15 16\n",
      " 15 19 17 15 17 16 15 17 15 17 15 17 15 17 15 17 15 17 15 17 15 17 15 17\n",
      " 17 15 19 16 15 16 15 19 17 15 17 16 15 19 15 19 16]\n",
      "136\n"
     ]
    }
   ],
   "source": [
    "# this is not generation, look below\n",
    "inp = torch.from_numpy( np.expand_dims(x_mel, axis=0)).to(dev)\n",
    "output = transformer(inp, attention_mask=inp != 0, output_attentions=True)\n",
    "prediction = output.logits.argmax(dim=2, keepdim=True).squeeze()\n",
    "z = prediction.cpu().numpy()\n",
    "with np.printoptions(threshold=np.inf):\n",
    "    print('output.logits: ', output.logits[0,-1,:])\n",
    "    print('prediction.shape: ', prediction.shape)\n",
    "    print('input: ', inp.cpu().numpy())\n",
    "    print('z: ', z)\n",
    "curr_idx = np.where(inp.cpu() == binser.start_harmonizing)[1][0]\n",
    "print(curr_idx)"
   ]
  },
  {
   "cell_type": "code",
   "execution_count": 6,
   "id": "39174c42",
   "metadata": {},
   "outputs": [
    {
     "name": "stdout",
     "output_type": "stream",
     "text": [
      "input shape:  torch.Size([1, 137])\n",
      "output shape:  torch.Size([1, 138])\n",
      "input:  tensor([[ 1,  2,  3, 12,  2, 14,  2,  3, 12,  2, 14,  2, 10, 14,  2, 12,  2, 10,\n",
      "         14,  2, 12,  2,  3, 12,  2, 14,  2,  3, 12,  2, 10, 14,  2,  7,  2,  7,\n",
      "          2,  4,  7,  2,  6,  2,  4,  7,  2,  6,  2,  6, 14,  2,  4,  2,  6, 14,\n",
      "          2,  4,  2,  4,  7,  2,  6,  2,  4,  7,  2,  6, 14,  2, 11,  2, 10,  2,\n",
      "          3, 12,  2, 14,  2,  3, 12,  2, 14,  2, 10, 14,  2, 12,  2, 10, 14,  2,\n",
      "         12,  2,  3, 12,  2, 14,  2,  3, 12,  2, 10, 14,  2, 10,  2, 10,  2, 12,\n",
      "          2, 10,  2,  8,  2,  7,  2, 10,  2,  8,  2,  5,  7,  2,  3, 12,  2, 14,\n",
      "          2,  3, 12,  2,  7, 14,  2,  3,  2,  3, 15]])\n",
      "output:  tensor([[ 1,  2,  3, 12,  2, 14,  2,  3, 12,  2, 14,  2, 10, 14,  2, 12,  2, 10,\n",
      "         14,  2, 12,  2,  3, 12,  2, 14,  2,  3, 12,  2, 10, 14,  2,  7,  2,  7,\n",
      "          2,  4,  7,  2,  6,  2,  4,  7,  2,  6,  2,  6, 14,  2,  4,  2,  6, 14,\n",
      "          2,  4,  2,  4,  7,  2,  6,  2,  4,  7,  2,  6, 14,  2, 11,  2, 10,  2,\n",
      "          3, 12,  2, 14,  2,  3, 12,  2, 14,  2, 10, 14,  2, 12,  2, 10, 14,  2,\n",
      "         12,  2,  3, 12,  2, 14,  2,  3, 12,  2, 10, 14,  2, 10,  2, 10,  2, 12,\n",
      "          2, 10,  2,  8,  2,  7,  2, 10,  2,  8,  2,  5,  7,  2,  3, 12,  2, 14,\n",
      "          2,  3, 12,  2,  7, 14,  2,  3,  2,  3, 15, 16]])\n"
     ]
    }
   ],
   "source": [
    "# generation point-by-point\n",
    "inp = torch.from_numpy( np.expand_dims(x_mel, axis=0)).to(dev)\n",
    "# when knowing that we don't need to stop\n",
    "output = transformer.generate(inputs=inp, max_new_tokens=1, \\\n",
    "                              do_sample=True, bad_words_ids=[[binser.end_harmonizing]])\n",
    "# when knowing that stopping is possible\n",
    "# output = transformer.generate(inputs=inp, eos_token_id=29, max_new_tokens=1, \\\n",
    "#                               do_sample=True)\n",
    "print('input shape: ', inp.shape)\n",
    "print('output shape: ', output.shape)\n",
    "print('input: ', inp)\n",
    "print('output: ', output)\n",
    "# print(1+(output[-1][-1]==binser2.chord_segment_separator).item())"
   ]
  },
  {
   "cell_type": "code",
   "execution_count": 7,
   "id": "e90e7429-0ef3-4723-831d-3f48dcf8cd27",
   "metadata": {},
   "outputs": [
    {
     "name": "stdout",
     "output_type": "stream",
     "text": [
      "input shape:  torch.Size([1, 137])\n",
      "true output.shape: (414,)\n",
      "output shape:  torch.Size([1, 400])\n"
     ]
    }
   ],
   "source": [
    "inp = torch.from_numpy( np.expand_dims(x_mel, axis=0)).to(dev)\n",
    "output = transformer.generate(inputs=inp, eos_token_id=binser.end_harmonizing, max_new_tokens=500)\n",
    "# , bad_words_ids=[[binser.end_harmonizing]] does not work when bad word is given as eos_token_id\n",
    "print('input shape: ', inp.shape)\n",
    "print('true output.shape:', x[x!=0].shape)\n",
    "print('output shape: ', output.shape)"
   ]
  },
  {
   "cell_type": "code",
   "execution_count": 8,
   "id": "5402c764-adc8-4107-ace4-7720feea465a",
   "metadata": {},
   "outputs": [
    {
     "name": "stdout",
     "output_type": "stream",
     "text": [
      "input:  [[ 1  2  3 12  2 14  2  3 12  2 14  2 10 14  2 12  2 10 14  2 12  2  3 12\n",
      "   2 14  2  3 12  2 10 14  2  7  2  7  2  4  7  2  6  2  4  7  2  6  2  6\n",
      "  14  2  4  2  6 14  2  4  2  4  7  2  6  2  4  7  2  6 14  2 11  2 10  2\n",
      "   3 12  2 14  2  3 12  2 14  2 10 14  2 12  2 10 14  2 12  2  3 12  2 14\n",
      "   2  3 12  2 10 14  2 10  2 10  2 12  2 10  2  8  2  7  2 10  2  8  2  5\n",
      "   7  2  3 12  2 14  2  3 12  2  7 14  2  3  2  3 15]]\n",
      "true output: [ 1  2  3 12  2 14  2  3 12  2 14  2 10 14  2 12  2 10 14  2 12  2  3 12\n",
      "  2 14  2  3 12  2 10 14  2  7  2  7  2  4  7  2  6  2  4  7  2  6  2  6\n",
      " 14  2  4  2  6 14  2  4  2  4  7  2  6  2  4  7  2  6 14  2 11  2 10  2\n",
      "  3 12  2 14  2  3 12  2 14  2 10 14  2 12  2 10 14  2 12  2  3 12  2 14\n",
      "  2  3 12  2 10 14  2 10  2 10  2 12  2 10  2  8  2  7  2 10  2  8  2  5\n",
      "  7  2  3 12  2 14  2  3 12  2  7 14  2  3  2  3 15 16 17 19 22 26 16 19\n",
      " 22 24 28 16 17 19 22 26 16 19 22 24 28 16 17 21 24 28 16 17 20 22 26 16\n",
      " 19 21 24 28 16 18 21 24 26 16 17 19 22 26 16 19 22 24 28 16 17 19 22 26\n",
      " 16 19 22 24 28 16 17 21 24 28 16 17 21 24 28 16 18 21 23 26 16 20 23 26\n",
      " 28 16 18 21 23 26 16 20 23 26 28 16 20 21 25 28 16 18 21 24 26 16 20 23\n",
      " 25 28 16 18 22 25 28 16 18 21 23 26 16 20 23 26 28 16 18 21 23 26 16 20\n",
      " 23 26 28 16 20 21 25 28 16 19 22 24 28 16 17 19 22 26 16 19 22 24 28 16\n",
      " 17 19 22 26 16 19 22 24 28 16 17 21 24 28 16 17 20 22 26 16 19 21 24 28\n",
      " 16 18 21 24 26 16 17 19 22 26 16 19 22 24 28 16 17 19 22 26 16 19 22 24\n",
      " 28 16 19 21 24 27 16 18 21 24 26 27 16 17 19 22 26 16 18 21 24 27 16 17\n",
      " 21 22 26 16 18 21 24 27 16 17 19 22 26 16 17 19 22 26 16 19 22 25 27 16\n",
      " 19 21 24 28 16 17 20 23 26 16 17 19 22 26 16 19 22 24 28 16 17 21 24 26\n",
      " 16 17 21 24 26 29]\n",
      "output:  [[ 1  2  3 12  2 14  2  3 12  2 14  2 10 14  2 12  2 10 14  2 12  2  3 12\n",
      "   2 14  2  3 12  2 10 14  2  7  2  7  2  4  7  2  6  2  4  7  2  6  2  6\n",
      "  14  2  4  2  6 14  2  4  2  4  7  2  6  2  4  7  2  6 14  2 11  2 10  2\n",
      "   3 12  2 14  2  3 12  2 14  2 10 14  2 12  2 10 14  2 12  2  3 12  2 14\n",
      "   2  3 12  2 10 14  2 10  2 10  2 12  2 10  2  8  2  7  2 10  2  8  2  5\n",
      "   7  2  3 12  2 14  2  3 12  2  7 14  2  3  2  3 15 16 17 19 22 26 16 19\n",
      "  22 24 28 16 17 19 22 26 16 19 22 24 28 16 17 21 24 28 16 17 20 22 26 16\n",
      "  19 21 24 28 16 18 21 24 26 16 17 19 22 26 16 19 22 24 28 16 17 19 22 26\n",
      "  16 19 22 24 28 16 17 21 24 28 16 17 21 24 28 16 18 21 23 26 16 20 23 26\n",
      "  28 16 18 21 23 26 16 20 23 26 28 16 20 21 25 28 16 18 21 24 26 16 20 23\n",
      "  25 28 16 18 22 25 28 16 18 21 23 26 16 20 23 26 28 16 18 21 23 26 16 20\n",
      "  23 26 28 16 20 21 25 28 16 19 22 24 28 16 17 19 22 26 16 19 22 24 28 16\n",
      "  17 19 22 26 16 19 22 24 28 16 17 21 24 28 16 17 20 22 26 16 19 21 24 28\n",
      "  16 18 21 24 26 16 17 19 22 26 16 19 22 24 28 16 17 19 22 26 16 19 22 24\n",
      "  28 16 19 21 24 27 16 18 21 24 26 27 16 17 19 22 26 16 18 21 24 27 16 17\n",
      "  21 22 26 16 18 21 24 27 16 17 19 22 26 16 18 21 23 27 16 17 19 22 26 16\n",
      "  19 22 24 28 16 17 21 24 26 16 17 21 24 26 16 29]]\n"
     ]
    }
   ],
   "source": [
    "with np.printoptions(threshold=np.inf):\n",
    "    print('input: ', inp.cpu().numpy())\n",
    "    print('true output:', x[x!=0])\n",
    "    print('output: ', output.cpu().numpy())"
   ]
  },
  {
   "cell_type": "code",
   "execution_count": 9,
   "id": "4116a430",
   "metadata": {},
   "outputs": [
    {
     "name": "stdout",
     "output_type": "stream",
     "text": [
      "torch.Size([1, 421]) 55 55 True 296\r"
     ]
    }
   ],
   "source": [
    "inp = torch.from_numpy( np.expand_dims(x_mel, axis=0)).to(dev)\n",
    "# point by point generation loop\n",
    "# find number of chords - equal to melody segments\n",
    "num_melody_segments = (inp == binser2.melody_segment_separator).sum().item()\n",
    "num_chord_segments = 0\n",
    "generate_mode = True\n",
    "chords_number_ok = False\n",
    "while generate_mode:\n",
    "    if not chords_number_ok:\n",
    "        output = transformer.generate(inputs=inp, max_new_tokens=1, \\\n",
    "                do_sample=True, bad_words_ids=[[binser2.end_harmonizing]])\n",
    "        num_chord_segments += (output[-1][-1] == binser2.chord_segment_separator).item()\n",
    "    else:\n",
    "        # prevent new chord segment from happening\n",
    "        output = transformer.generate(inputs=inp, max_new_tokens=1, \\\n",
    "                do_sample=True, eos_token_id=binser2.end_harmonizing, bad_words_ids=[[binser2.chord_segment_separator]])\n",
    "        generate_mode = not output[-1][-1].item() == binser2.end_harmonizing\n",
    "    print(output.shape, num_chord_segments, num_melody_segments, chords_number_ok, output[-1][-1].item(), end='\\r')\n",
    "    # trim start for max length if needed\n",
    "    if len(output) > binser.max_seq_length:\n",
    "        inp = output[:,:-binser.max_seq_length]\n",
    "    else:\n",
    "        inp = output\n",
    "    if num_chord_segments >= num_melody_segments:\n",
    "        chords_number_ok = True"
   ]
  },
  {
   "cell_type": "code",
   "execution_count": 10,
   "id": "2ad45895",
   "metadata": {},
   "outputs": [
    {
     "name": "stdout",
     "output_type": "stream",
     "text": [
      "tensor([[ 1,  2,  3, 12,  2, 14,  2,  3, 12,  2, 14,  2, 10, 14,  2, 12,  2, 10,\n",
      "         14,  2, 12,  2,  3, 12,  2, 14,  2,  3, 12,  2, 10, 14,  2,  7,  2,  7,\n",
      "          2,  4,  7,  2,  6,  2,  4,  7,  2,  6,  2,  6, 14,  2,  4,  2,  6, 14,\n",
      "          2,  4,  2,  4,  7,  2,  6,  2,  4,  7,  2,  6, 14,  2, 11,  2, 10,  2,\n",
      "          3, 12,  2, 14,  2,  3, 12,  2, 14,  2, 10, 14,  2, 12,  2, 10, 14,  2,\n",
      "         12,  2,  3, 12,  2, 14,  2,  3, 12,  2, 10, 14,  2, 10,  2, 10,  2, 12,\n",
      "          2, 10,  2,  8,  2,  7,  2, 10,  2,  8,  2,  5,  7,  2,  3, 12,  2, 14,\n",
      "          2,  3, 12,  2,  7, 14,  2,  3,  2,  3, 15, 16, 17, 19, 22, 26, 16, 19,\n",
      "         22, 24, 28, 16, 17, 19, 22, 26, 16, 19, 22, 24, 28, 16, 17, 21, 24, 28,\n",
      "         16, 17, 21, 24, 26, 16, 20, 23, 25, 28, 16, 18, 22, 25, 28, 16, 17, 21,\n",
      "         24, 27, 16, 17, 20, 22, 26, 16, 19, 21, 24, 28, 16, 17, 19, 22, 26, 16,\n",
      "         19, 22, 24, 28, 16, 19, 21, 24, 28, 16, 18, 21, 24, 26, 16, 17, 19, 22,\n",
      "         26, 16, 19, 22, 24, 28, 16, 17, 21, 24, 26, 16, 17, 21, 24, 28, 16, 18,\n",
      "         20, 23, 27, 16, 17, 20, 23, 25, 16, 18, 22, 25, 28, 16, 18, 22, 25, 28,\n",
      "         16, 18, 21, 23, 27, 16, 20, 23, 27, 28, 16, 18, 21, 23, 26, 16, 20, 23,\n",
      "         26, 28, 16, 20, 21, 25, 28, 16, 19, 22, 25, 28, 16, 18, 21, 23, 26, 16,\n",
      "         20, 23, 26, 28, 16, 19, 21, 24, 28, 16, 18, 21, 24, 26, 16, 17, 19, 22,\n",
      "         26, 16, 19, 22, 24, 28, 16, 17, 19, 22, 26, 16, 19, 22, 24, 28, 16, 17,\n",
      "         21, 24, 28, 16, 17, 21, 24, 26, 16, 20, 23, 25, 28, 16, 18, 22, 25, 28,\n",
      "         16, 17, 21, 24, 27, 16, 17, 20, 22, 26, 16, 19, 21, 24, 28, 16, 17, 19,\n",
      "         22, 26, 16, 19, 22, 24, 28, 16, 19, 21, 24, 27, 16, 18, 21, 24, 26, 16,\n",
      "         17, 19, 22, 26, 16, 17, 21, 24, 28, 16, 17, 21, 24, 28, 16, 18, 22, 25,\n",
      "         28, 16, 17, 21, 24, 27, 16, 17, 20, 22, 26, 16, 17, 20, 23, 26, 28, 28,\n",
      "         27, 28, 27, 28, 27, 28, 29]])\n",
      "true output: [ 1  2  3 12  2 14  2  3 12  2 14  2 10 14  2 12  2 10 14  2 12  2  3 12\n",
      "  2 14  2  3 12  2 10 14  2  7  2  7  2  4  7  2  6  2  4  7  2  6  2  6\n",
      " 14  2  4  2  6 14  2  4  2  4  7  2  6  2  4  7  2  6 14  2 11  2 10  2\n",
      "  3 12  2 14  2  3 12  2 14  2 10 14  2 12  2 10 14  2 12  2  3 12  2 14\n",
      "  2  3 12  2 10 14  2 10  2 10  2 12  2 10  2  8  2  7  2 10  2  8  2  5\n",
      "  7  2  3 12  2 14  2  3 12  2  7 14  2  3  2  3 15 16 17 19 22 26 16 19\n",
      " 22 24 28 16 17 19 22 26 16 19 22 24 28 16 17 21 24 28 16 17 20 22 26 16\n",
      " 19 21 24 28 16 18 21 24 26 16 17 19 22 26 16 19 22 24 28 16 17 19 22 26\n",
      " 16 19 22 24 28 16 17 21 24 28 16 17 21 24 28 16 18 21 23 26 16 20 23 26\n",
      " 28 16 18 21 23 26 16 20 23 26 28 16 20 21 25 28 16 18 21 24 26 16 20 23\n",
      " 25 28 16 18 22 25 28 16 18 21 23 26 16 20 23 26 28 16 18 21 23 26 16 20\n",
      " 23 26 28 16 20 21 25 28 16 19 22 24 28 16 17 19 22 26 16 19 22 24 28 16\n",
      " 17 19 22 26 16 19 22 24 28 16 17 21 24 28 16 17 20 22 26 16 19 21 24 28\n",
      " 16 18 21 24 26 16 17 19 22 26 16 19 22 24 28 16 17 19 22 26 16 19 22 24\n",
      " 28 16 19 21 24 27 16 18 21 24 26 27 16 17 19 22 26 16 18 21 24 27 16 17\n",
      " 21 22 26 16 18 21 24 27 16 17 19 22 26 16 17 19 22 26 16 19 22 25 27 16\n",
      " 19 21 24 28 16 17 20 23 26 16 17 19 22 26 16 19 22 24 28 16 17 21 24 26\n",
      " 16 17 21 24 26 29]\n"
     ]
    }
   ],
   "source": [
    "print(output)\n",
    "print('true output:', x[x!=0])"
   ]
  },
  {
   "cell_type": "code",
   "execution_count": 11,
   "id": "17d57280-5d38-4f48-a2a6-bf43527d9d4d",
   "metadata": {},
   "outputs": [],
   "source": [
    "bin_info = binser2.indexes2binary(output[0])"
   ]
  },
  {
   "cell_type": "code",
   "execution_count": 12,
   "id": "bf79fb9a-9df1-44d8-adf0-de3b83d0e924",
   "metadata": {},
   "outputs": [
    {
     "name": "stdout",
     "output_type": "stream",
     "text": [
      "(54, 12)\n",
      "(54, 12)\n",
      "[]\n"
     ]
    }
   ],
   "source": [
    "print(bin_info['melody'].shape)\n",
    "print(bin_info['chords'].shape)\n",
    "print(bin_info['error_messages'])"
   ]
  }
 ],
 "metadata": {
  "kernelspec": {
   "display_name": "Python 3 (ipykernel)",
   "language": "python",
   "name": "python3"
  },
  "language_info": {
   "codemirror_mode": {
    "name": "ipython",
    "version": 3
   },
   "file_extension": ".py",
   "mimetype": "text/x-python",
   "name": "python",
   "nbconvert_exporter": "python",
   "pygments_lexer": "ipython3",
   "version": "3.11.6"
  }
 },
 "nbformat": 4,
 "nbformat_minor": 5
}
